{
  "nbformat": 4,
  "nbformat_minor": 0,
  "metadata": {
    "colab": {
      "name": "Untitled0.ipynb",
      "provenance": [],
      "authorship_tag": "ABX9TyOzqJVfce7cZjtEhQuVvfco",
      "include_colab_link": true
    },
    "kernelspec": {
      "name": "python3",
      "display_name": "Python 3"
    }
  },
  "cells": [
    {
      "cell_type": "markdown",
      "metadata": {
        "id": "view-in-github",
        "colab_type": "text"
      },
      "source": [
        "<a href=\"https://colab.research.google.com/github/ykitaguchi77/Colab_Scripts/blob/master/compress_to_ZIP.ipynb\" target=\"_parent\"><img src=\"https://colab.research.google.com/assets/colab-badge.svg\" alt=\"Open In Colab\"/></a>"
      ]
    },
    {
      "cell_type": "markdown",
      "metadata": {
        "id": "53qO3AykOL9q",
        "colab_type": "text"
      },
      "source": [
        "#**フォルダごとZIPに圧縮するスクリプト**\n",
        "※create_zip('作成するZIPファイルのパス', '作成元のフォルダのパス')"
      ]
    },
    {
      "cell_type": "code",
      "metadata": {
        "id": "SKWQl3q5Jrgv",
        "colab_type": "code",
        "colab": {
          "base_uri": "https://localhost:8080/",
          "height": 33
        },
        "outputId": "b7bf6dd9-67a9-4189-dc17-27411409cb13"
      },
      "source": [
        "#Google colabをマウント\n",
        "from google.colab import drive\n",
        "drive.mount('/content/drive')"
      ],
      "execution_count": 4,
      "outputs": [
        {
          "output_type": "stream",
          "text": [
            "Drive already mounted at /content/drive; to attempt to forcibly remount, call drive.mount(\"/content/drive\", force_remount=True).\n"
          ],
          "name": "stdout"
        }
      ]
    },
    {
      "cell_type": "code",
      "metadata": {
        "id": "o_jXr1L5N9a6",
        "colab_type": "code",
        "colab": {
          "base_uri": "https://localhost:8080/",
          "height": 33
        },
        "outputId": "44a107c6-2ea7-4550-9740-598ed7f6ba49"
      },
      "source": [
        "import shutil\n",
        "import sys\n",
        "import os\n",
        "\n",
        "def create_zip(zip_filename, src_dir):\n",
        "    \"\"\"\n",
        "    src_dir ディレクトリ内のファイル群を、\n",
        "    zip_filename で指定した名前の ZIP ファイルにアーカイブします。\n",
        "    すでに同名の ZIP ファイルが存在する場合は、確認プロンプトを表示します。\n",
        "    \"\"\"\n",
        "    if os.path.exists(zip_filename):\n",
        "        answer = input(zip_filename + ' already exists. Overwrite? (y/n): ')\n",
        "        if (answer != 'y' and answer != 'Y'):\n",
        "            return\n",
        "    try:\n",
        "        name = os.path.splitext(zip_filename)[0]\n",
        "        shutil.make_archive(name, format='zip', root_dir=src_dir)\n",
        "    except Exception as e:\n",
        "        print(e, file=sys.stderr)\n",
        "\n",
        "if __name__ == '__main__':\n",
        "    create_zip('/content/drive/My Drive/Grav_bootcamp/Pretrain.zip', '/content/drive/My Drive/Grav_bootcamp/Pretrain_500px')"
      ],
      "execution_count": 8,
      "outputs": [
        {
          "output_type": "stream",
          "text": [
            "/content/drive/My Drive/Grav_bootcamp/Pretrain.zip already exists. Overwrite? (y/n): y\n"
          ],
          "name": "stdout"
        }
      ]
    }
  ]
}