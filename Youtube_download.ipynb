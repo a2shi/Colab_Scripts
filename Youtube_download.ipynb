{
  "nbformat": 4,
  "nbformat_minor": 0,
  "metadata": {
    "colab": {
      "name": "Untitled45.ipynb",
      "provenance": [],
      "authorship_tag": "ABX9TyOZvlDTEwHTgKvoscxEmd3e",
      "include_colab_link": true
    },
    "kernelspec": {
      "name": "python3",
      "display_name": "Python 3"
    }
  },
  "cells": [
    {
      "cell_type": "markdown",
      "metadata": {
        "id": "view-in-github",
        "colab_type": "text"
      },
      "source": [
        "<a href=\"https://colab.research.google.com/github/ykitaguchi77/Colab_Scripts/blob/master/Youtube_download.ipynb\" target=\"_parent\"><img src=\"https://colab.research.google.com/assets/colab-badge.svg\" alt=\"Open In Colab\"/></a>"
      ]
    },
    {
      "cell_type": "markdown",
      "metadata": {
        "id": "6wl1vpCIXVMI",
        "colab_type": "text"
      },
      "source": [
        "#**YouTubeをダウンロードするスクリプト**\n",
        "準備： <br>\n",
        "google driveに'INPUTS'フォルダを作る <br>\n",
        "フォルダ内に'input_list.csv'を作成し保存する\n"
      ]
    },
    {
      "cell_type": "code",
      "metadata": {
        "id": "O6QsDjcDIzNK",
        "colab_type": "code",
        "colab": {
          "base_uri": "https://localhost:8080/",
          "height": 35
        },
        "outputId": "edc671dc-8344-4842-ee54-1549815331ab"
      },
      "source": [
        "from __future__ import unicode_literals\n",
        "import youtube_dl\n",
        "\n",
        "import pandas as pd\n",
        "\n",
        "!pip install youtube-dl"
      ],
      "execution_count": 20,
      "outputs": [
        {
          "output_type": "stream",
          "text": [
            "Requirement already satisfied: youtube-dl in /usr/local/lib/python3.6/dist-packages (2020.6.16.1)\n"
          ],
          "name": "stdout"
        }
      ]
    },
    {
      "cell_type": "code",
      "metadata": {
        "id": "gXx9kU8fBqbS",
        "colab_type": "code",
        "colab": {
          "base_uri": "https://localhost:8080/",
          "height": 55
        },
        "outputId": "83082880-8dcf-4e53-9ada-581630c61d15"
      },
      "source": [
        "#google driveをcolabolatoryにマウント\n",
        "from google.colab import drive\n",
        "drive.mount('/content/drive')"
      ],
      "execution_count": 21,
      "outputs": [
        {
          "output_type": "stream",
          "text": [
            "Drive already mounted at /content/drive; to attempt to forcibly remount, call drive.mount(\"/content/drive\", force_remount=True).\n"
          ],
          "name": "stdout"
        }
      ]
    },
    {
      "cell_type": "markdown",
      "metadata": {
        "id": "t9Q2DSd2RZpS",
        "colab_type": "text"
      },
      "source": [
        "#**ダウンロードするスクリプト**"
      ]
    },
    {
      "cell_type": "code",
      "metadata": {
        "id": "G0OdSW6kCrir",
        "colab_type": "code",
        "colab": {}
      },
      "source": [
        "def Youtube_DL(url, num):\n",
        "\n",
        "    outtmpl = str(num) +'_%(title)s.%(ext)s'\n",
        "    down_dir = \"/content/drive/My Drive/INPUTS/\"\n",
        "    url = url\n",
        "\n",
        "    ydl_opts = {\n",
        "        #'format': 'bestvideo+bestaudio/best',\n",
        "        'format': 'mp4',\n",
        "        'outtmpl': down_dir + outtmpl\n",
        "    }\n",
        "    with youtube_dl.YoutubeDL(ydl_opts) as ydl:\n",
        "        ydl.download([url])"
      ],
      "execution_count": 38,
      "outputs": []
    },
    {
      "cell_type": "markdown",
      "metadata": {
        "id": "n1A-bpn3PMNg",
        "colab_type": "text"
      },
      "source": [
        "#**ダウンロードするアドレスのリストを取得**"
      ]
    },
    {
      "cell_type": "code",
      "metadata": {
        "id": "7jgZUtoDNudy",
        "colab_type": "code",
        "colab": {}
      },
      "source": [
        "def get_url():\n",
        "\n",
        "    #データをdfに読み込み。pandasをpdとして利用。\n",
        "    df = pd.read_csv(\"/content/drive/My Drive/INPUTS/input_list.csv\", encoding=\"shift-jis\")\n",
        "    \n",
        "    #dfの中身を確認\n",
        "    #print(df)\n",
        "    \n",
        "    url = df.iloc[:,2]\n",
        "\n",
        "    print('--Download_url_list--')\n",
        "    for i in url:\n",
        "        print(i)\n",
        "\n",
        "    return(url)"
      ],
      "execution_count": 39,
      "outputs": []
    },
    {
      "cell_type": "markdown",
      "metadata": {
        "id": "hYYfkf5oSFW_",
        "colab_type": "text"
      },
      "source": [
        "#**スクリプトを実行**"
      ]
    },
    {
      "cell_type": "code",
      "metadata": {
        "id": "4u5kAZ_ySEx6",
        "colab_type": "code",
        "colab": {
          "base_uri": "https://localhost:8080/",
          "height": 383
        },
        "outputId": "9f7f713d-7f1c-4c3b-e6a2-416b4b35dc9e"
      },
      "source": [
        "def main():\n",
        "    url = get_url()\n",
        "    \n",
        "    k=0\n",
        "    for i in url:\n",
        "        print('')\n",
        "        k+=1\n",
        "        print('downloading '+ str(k) +'/' + str(len(url)) )\n",
        "        Youtube_DL(i,k)\n",
        "\n",
        "main()"
      ],
      "execution_count": 40,
      "outputs": [
        {
          "output_type": "stream",
          "text": [
            "--Download_url_list--\n",
            "https://www.youtube.com/watch?v=mzgCbTz2v-c&t=1108s\n",
            "https://www.youtube.com/watch?v=eXjGd7gmJxE\n",
            "https://www.youtube.com/watch?v=VWuRnosEgX4\n",
            "\n",
            "downloading 1/3\n",
            "[youtube] mzgCbTz2v-c: Downloading webpage\n",
            "[download] Destination: /content/drive/My Drive/INPUTS/1_【起業で一番必要なスキル】集客していてはいつまで経っても無駄！？99％が間違えている集客方法を徹底解説！（2020年最新）.mp4\n",
            "[download] 100% of 54.22MiB in 00:01\n",
            "\n",
            "downloading 2/3\n",
            "[youtube] eXjGd7gmJxE: Downloading webpage\n",
            "[download] Destination: /content/drive/My Drive/INPUTS/2_【大リストラ時代到来】世界6カ国展開企業のCEOが暴露する日本の現実（2020年最新）.mp4\n",
            "[download] 100% of 33.32MiB in 00:00\n",
            "\n",
            "downloading 3/3\n",
            "[youtube] VWuRnosEgX4: Downloading webpage\n",
            "[download] Destination: /content/drive/My Drive/INPUTS/3_【海外移住の秘密を大暴露】日本人の出稼ぎ時代到来！？世界を飛び回る竹花CEOが語るグローバル化の未来と勝ち残る方法（2020年最新）.mp4\n",
            "[download] 100% of 91.14MiB in 00:01\n"
          ],
          "name": "stdout"
        }
      ]
    }
  ]
}