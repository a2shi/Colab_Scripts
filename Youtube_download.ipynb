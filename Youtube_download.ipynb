{
  "nbformat": 4,
  "nbformat_minor": 0,
  "metadata": {
    "colab": {
      "name": "Untitled45.ipynb",
      "provenance": [],
      "include_colab_link": true
    },
    "kernelspec": {
      "name": "python3",
      "display_name": "Python 3"
    }
  },
  "cells": [
    {
      "cell_type": "markdown",
      "metadata": {
        "id": "view-in-github",
        "colab_type": "text"
      },
      "source": [
        "<a href=\"https://colab.research.google.com/github/ykitaguchi77/Colab_Scripts/blob/master/Youtube_download.ipynb\" target=\"_parent\"><img src=\"https://colab.research.google.com/assets/colab-badge.svg\" alt=\"Open In Colab\"/></a>"
      ]
    },
    {
      "cell_type": "markdown",
      "metadata": {
        "id": "6wl1vpCIXVMI",
        "colab_type": "text"
      },
      "source": [
        "#**YouTubeをダウンロードするスクリプト**\n",
        "準備： <br>\n",
        "google driveに'INPUTS'フォルダを作る <br>\n",
        "フォルダ内に'input_list.csv'を作成し保存する\n"
      ]
    },
    {
      "cell_type": "code",
      "metadata": {
        "id": "O6QsDjcDIzNK",
        "colab_type": "code",
        "colab": {
          "base_uri": "https://localhost:8080/",
          "height": 54
        },
        "outputId": "7e182ad7-36f0-4635-ef20-ba8bf8c38b7f"
      },
      "source": [
        "!pip install youtube_dl\n",
        "\n",
        "from __future__ import unicode_literals\n",
        "import youtube_dl\n",
        "import pandas as pd"
      ],
      "execution_count": 8,
      "outputs": [
        {
          "output_type": "stream",
          "text": [
            "Requirement already satisfied: youtube_dl in /usr/local/lib/python3.6/dist-packages (2020.6.16.1)\n"
          ],
          "name": "stdout"
        }
      ]
    },
    {
      "cell_type": "code",
      "metadata": {
        "id": "gXx9kU8fBqbS",
        "colab_type": "code",
        "colab": {
          "base_uri": "https://localhost:8080/",
          "height": 54
        },
        "outputId": "8e255a0b-be8b-4289-d0de-13156dae44a6"
      },
      "source": [
        "#google driveをcolabolatoryにマウント\n",
        "from google.colab import drive\n",
        "drive.mount('/content/drive')"
      ],
      "execution_count": 9,
      "outputs": [
        {
          "output_type": "stream",
          "text": [
            "Drive already mounted at /content/drive; to attempt to forcibly remount, call drive.mount(\"/content/drive\", force_remount=True).\n"
          ],
          "name": "stdout"
        }
      ]
    },
    {
      "cell_type": "markdown",
      "metadata": {
        "id": "t9Q2DSd2RZpS",
        "colab_type": "text"
      },
      "source": [
        "#**ダウンロードするスクリプト**"
      ]
    },
    {
      "cell_type": "code",
      "metadata": {
        "id": "G0OdSW6kCrir",
        "colab_type": "code",
        "colab": {}
      },
      "source": [
        "def Youtube_DL(url, num):\n",
        "\n",
        "    #outtmpl = str(num) +'_%(title)s.%(ext)s'\n",
        "    outtmpl = '_%(title)s.%(ext)s'\n",
        "    down_dir = \"/content/drive/My Drive/INPUTS/\"\n",
        "    url = url\n",
        "\n",
        "    ydl_opts = {\n",
        "        'format': 'bestvideo+bestaudio/best',\n",
        "        #'format': 'mp4',\n",
        "        'outtmpl': down_dir + outtmpl\n",
        "    }\n",
        "    with youtube_dl.YoutubeDL(ydl_opts) as ydl:\n",
        "        ydl.download([url])"
      ],
      "execution_count": 25,
      "outputs": []
    },
    {
      "cell_type": "markdown",
      "metadata": {
        "id": "n1A-bpn3PMNg",
        "colab_type": "text"
      },
      "source": [
        "#**ダウンロードするアドレスのリストを取得**"
      ]
    },
    {
      "cell_type": "code",
      "metadata": {
        "id": "7jgZUtoDNudy",
        "colab_type": "code",
        "colab": {}
      },
      "source": [
        "def get_url():\n",
        "\n",
        "    #データをdfに読み込み。pandasをpdとして利用。\n",
        "    #df = pd.read_csv(\"/content/drive/My Drive/INPUTS/input_list.csv\", encoding=\"shift-jis\")\n",
        "    df = pd.read_csv(\"/content/drive/My Drive/INPUTS/input_list.csv\", encoding=\"UTF-8\")\n",
        "\n",
        "    #dfの中身を確認\n",
        "    #print(df)\n",
        "    \n",
        "    url = df.iloc[:,2]\n",
        "\n",
        "    print('--Download_url_list--')\n",
        "    for i in url:\n",
        "        print(i)\n",
        "\n",
        "    return(url)"
      ],
      "execution_count": 26,
      "outputs": []
    },
    {
      "cell_type": "markdown",
      "metadata": {
        "id": "hYYfkf5oSFW_",
        "colab_type": "text"
      },
      "source": [
        "#**スクリプトを実行**"
      ]
    },
    {
      "cell_type": "code",
      "metadata": {
        "id": "4u5kAZ_ySEx6",
        "colab_type": "code",
        "colab": {
          "base_uri": "https://localhost:8080/",
          "height": 846
        },
        "outputId": "ddf49a53-d2bd-4d48-ee20-b5ae26c3c6c2"
      },
      "source": [
        "def main():\n",
        "    url = get_url()\n",
        "    \n",
        "    k=0\n",
        "    for i in url:\n",
        "        print('')\n",
        "        k+=1\n",
        "        print('downloading '+ str(k) +'/' + str(len(url)) )\n",
        "        Youtube_DL(i,k)\n",
        "\n",
        "main()"
      ],
      "execution_count": 28,
      "outputs": [
        {
          "output_type": "stream",
          "text": [
            "--Download_url_list--\n",
            "https://www.youtube.com/watch?v=YraiJuurXjQ\n",
            "https://www.youtube.com/watch?v=DLec1XJnZdE\n",
            "https://www.youtube.com/watch?v=sAbDSgw0HRM\n",
            "https://www.youtube.com/watch?v=1Wj37FfKOpY\n",
            "\n",
            "downloading 1/4\n",
            "[youtube] YraiJuurXjQ: Downloading webpage\n",
            "[download] Destination: /content/drive/My Drive/INPUTS/_PJ Masks Full Episodes Season 2 ⭐️ Catboy and Owlette Turned Evil!!!⭐️ PJ Masks New Compilation 2019.f137.mp4\n",
            "[download] 100% of 194.61MiB in 00:04\n",
            "[download] Destination: /content/drive/My Drive/INPUTS/_PJ Masks Full Episodes Season 2 ⭐️ Catboy and Owlette Turned Evil!!!⭐️ PJ Masks New Compilation 2019.f140.m4a\n",
            "[download] 100% of 21.35MiB in 00:00\n",
            "[ffmpeg] Merging formats into \"/content/drive/My Drive/INPUTS/_PJ Masks Full Episodes Season 2 ⭐️ Catboy and Owlette Turned Evil!!!⭐️ PJ Masks New Compilation 2019.mp4\"\n",
            "Deleting original file /content/drive/My Drive/INPUTS/_PJ Masks Full Episodes Season 2 ⭐️ Catboy and Owlette Turned Evil!!!⭐️ PJ Masks New Compilation 2019.f137.mp4 (pass -k to keep)\n",
            "Deleting original file /content/drive/My Drive/INPUTS/_PJ Masks Full Episodes Season 2 ⭐️ Catboy and Owlette Turned Evil!!!⭐️ PJ Masks New Compilation 2019.f140.m4a (pass -k to keep)\n",
            "\n",
            "downloading 2/4\n",
            "[youtube] DLec1XJnZdE: Downloading webpage\n",
            "[download] Destination: /content/drive/My Drive/INPUTS/_JOLLY PHONICS SOUNDS & SONGS Complete by The Spirit School Alharamain Campus Scheme 7 Rawalpindi.f247.webm\n",
            "[download] 100% of 30.56MiB in 00:01\n",
            "[download] Destination: /content/drive/My Drive/INPUTS/_JOLLY PHONICS SOUNDS & SONGS Complete by The Spirit School Alharamain Campus Scheme 7 Rawalpindi.f251.webm\n",
            "[download] 100% of 12.90MiB in 00:00\n",
            "[ffmpeg] Merging formats into \"/content/drive/My Drive/INPUTS/_JOLLY PHONICS SOUNDS & SONGS Complete by The Spirit School Alharamain Campus Scheme 7 Rawalpindi.webm\"\n",
            "Deleting original file /content/drive/My Drive/INPUTS/_JOLLY PHONICS SOUNDS & SONGS Complete by The Spirit School Alharamain Campus Scheme 7 Rawalpindi.f247.webm (pass -k to keep)\n",
            "Deleting original file /content/drive/My Drive/INPUTS/_JOLLY PHONICS SOUNDS & SONGS Complete by The Spirit School Alharamain Campus Scheme 7 Rawalpindi.f251.webm (pass -k to keep)\n",
            "\n",
            "downloading 3/4\n",
            "[youtube] sAbDSgw0HRM: Downloading webpage\n"
          ],
          "name": "stdout"
        },
        {
          "output_type": "stream",
          "text": [
            "WARNING: Requested formats are incompatible for merge and will be merged into mkv.\n"
          ],
          "name": "stderr"
        },
        {
          "output_type": "stream",
          "text": [
            "[download] Destination: /content/drive/My Drive/INPUTS/_【ミュージック】ドラえもんオープニング集　幻の曲+ドラえもんのうた、ぼくドラえもん、夢を叶えてドラえもん、特典！（ラッキーパッピーバースデー.f299.mp4\n",
            "[download] 100% of 44.23MiB in 00:02\n",
            "[download] Destination: /content/drive/My Drive/INPUTS/_【ミュージック】ドラえもんオープニング集　幻の曲+ドラえもんのうた、ぼくドラえもん、夢を叶えてドラえもん、特典！（ラッキーパッピーバースデー.f251.webm\n",
            "[download] 100% of 14.33MiB in 00:00\n",
            "[ffmpeg] Merging formats into \"/content/drive/My Drive/INPUTS/_【ミュージック】ドラえもんオープニング集　幻の曲+ドラえもんのうた、ぼくドラえもん、夢を叶えてドラえもん、特典！（ラッキーパッピーバースデー.mkv\"\n",
            "Deleting original file /content/drive/My Drive/INPUTS/_【ミュージック】ドラえもんオープニング集　幻の曲+ドラえもんのうた、ぼくドラえもん、夢を叶えてドラえもん、特典！（ラッキーパッピーバースデー.f299.mp4 (pass -k to keep)\n",
            "Deleting original file /content/drive/My Drive/INPUTS/_【ミュージック】ドラえもんオープニング集　幻の曲+ドラえもんのうた、ぼくドラえもん、夢を叶えてドラえもん、特典！（ラッキーパッピーバースデー.f251.webm (pass -k to keep)\n",
            "\n",
            "downloading 4/4\n",
            "[youtube] 1Wj37FfKOpY: Downloading webpage\n"
          ],
          "name": "stdout"
        },
        {
          "output_type": "stream",
          "text": [
            "WARNING: Requested formats are incompatible for merge and will be merged into mkv.\n"
          ],
          "name": "stderr"
        },
        {
          "output_type": "stream",
          "text": [
            "[download] Destination: /content/drive/My Drive/INPUTS/_♪ハローキティ  歌 キティ.f134.mp4\n",
            "[download] 100% of 607.46KiB in 00:00\n",
            "[download] Destination: /content/drive/My Drive/INPUTS/_♪ハローキティ  歌 キティ.f251.webm\n",
            "[download] 100% of 2.47MiB in 00:00\n",
            "[ffmpeg] Merging formats into \"/content/drive/My Drive/INPUTS/_♪ハローキティ  歌 キティ.mkv\"\n",
            "Deleting original file /content/drive/My Drive/INPUTS/_♪ハローキティ  歌 キティ.f134.mp4 (pass -k to keep)\n",
            "Deleting original file /content/drive/My Drive/INPUTS/_♪ハローキティ  歌 キティ.f251.webm (pass -k to keep)\n"
          ],
          "name": "stdout"
        }
      ]
    }
  ]
}