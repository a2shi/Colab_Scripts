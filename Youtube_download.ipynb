{
  "nbformat": 4,
  "nbformat_minor": 0,
  "metadata": {
    "colab": {
      "name": "Untitled45.ipynb",
      "provenance": [],
      "include_colab_link": true
    },
    "kernelspec": {
      "name": "python3",
      "display_name": "Python 3"
    }
  },
  "cells": [
    {
      "cell_type": "markdown",
      "metadata": {
        "id": "view-in-github",
        "colab_type": "text"
      },
      "source": [
        "<a href=\"https://colab.research.google.com/github/ykitaguchi77/Colab_Scripts/blob/master/Youtube_download.ipynb\" target=\"_parent\"><img src=\"https://colab.research.google.com/assets/colab-badge.svg\" alt=\"Open In Colab\"/></a>"
      ]
    },
    {
      "cell_type": "markdown",
      "metadata": {
        "id": "6wl1vpCIXVMI",
        "colab_type": "text"
      },
      "source": [
        "#**YouTubeをダウンロードするスクリプト**\n",
        "準備： <br>\n",
        "google driveに'INPUTS'フォルダを作る <br>\n",
        "フォルダ内に'input_list.csv'を作成し保存する\n"
      ]
    },
    {
      "cell_type": "code",
      "metadata": {
        "id": "O6QsDjcDIzNK",
        "colab_type": "code",
        "colab": {
          "base_uri": "https://localhost:8080/",
          "height": 102
        },
        "outputId": "9c87520d-f61a-4aea-ed68-4b0a65352be9"
      },
      "source": [
        "!pip install youtube_dl\n",
        "\n",
        "from __future__ import unicode_literals\n",
        "import youtube_dl\n",
        "import pandas as pd"
      ],
      "execution_count": 1,
      "outputs": [
        {
          "output_type": "stream",
          "text": [
            "Collecting youtube_dl\n",
            "\u001b[?25l  Downloading https://files.pythonhosted.org/packages/61/1c/a86837929eff24827b117d577584cc1a2a85dfdb5a91465d17c8b298f0d0/youtube_dl-2020.7.28-py2.py3-none-any.whl (1.8MB)\n",
            "\u001b[K     |████████████████████████████████| 1.8MB 8.8MB/s \n",
            "\u001b[?25hInstalling collected packages: youtube-dl\n",
            "Successfully installed youtube-dl-2020.7.28\n"
          ],
          "name": "stdout"
        }
      ]
    },
    {
      "cell_type": "code",
      "metadata": {
        "id": "gXx9kU8fBqbS",
        "colab_type": "code",
        "colab": {
          "base_uri": "https://localhost:8080/",
          "height": 34
        },
        "outputId": "ac715d6a-7666-44d1-c5f9-98120bf64fee"
      },
      "source": [
        "#google driveをcolabolatoryにマウント\n",
        "from google.colab import drive\n",
        "drive.mount('/content/drive')"
      ],
      "execution_count": 4,
      "outputs": [
        {
          "output_type": "stream",
          "text": [
            "Drive already mounted at /content/drive; to attempt to forcibly remount, call drive.mount(\"/content/drive\", force_remount=True).\n"
          ],
          "name": "stdout"
        }
      ]
    },
    {
      "cell_type": "markdown",
      "metadata": {
        "id": "t9Q2DSd2RZpS",
        "colab_type": "text"
      },
      "source": [
        "#**ダウンロードするスクリプト**"
      ]
    },
    {
      "cell_type": "code",
      "metadata": {
        "id": "G0OdSW6kCrir",
        "colab_type": "code",
        "colab": {}
      },
      "source": [
        "def Youtube_DL(url, num):\n",
        "\n",
        "    #outtmpl = str(num) +'%(title)s.%(ext)s'\n",
        "    outtmpl = '%(title)s.%(ext)s'\n",
        "    down_dir = \"/content/drive/My Drive/INPUTS/\"\n",
        "    url = url\n",
        "\n",
        "    ydl_opts = {\n",
        "        'format': 'bestvideo+bestaudio/best',\n",
        "        #'format': 'mp4',\n",
        "        'outtmpl': down_dir + outtmpl\n",
        "    }\n",
        "    with youtube_dl.YoutubeDL(ydl_opts) as ydl:\n",
        "        ydl.download([url])"
      ],
      "execution_count": 5,
      "outputs": []
    },
    {
      "cell_type": "markdown",
      "metadata": {
        "id": "n1A-bpn3PMNg",
        "colab_type": "text"
      },
      "source": [
        "#**ダウンロードするアドレスのリストを取得**"
      ]
    },
    {
      "cell_type": "code",
      "metadata": {
        "id": "7jgZUtoDNudy",
        "colab_type": "code",
        "colab": {}
      },
      "source": [
        "def get_url():\n",
        "\n",
        "    #データをdfに読み込み。pandasをpdとして利用。\n",
        "    #df = pd.read_csv(\"/content/drive/My Drive/INPUTS/input_list.csv\", encoding=\"shift-jis\")\n",
        "    df = pd.read_csv(\"/content/drive/My Drive/INPUTS/input_list.csv\", encoding=\"UTF-8\")\n",
        "\n",
        "    #dfの中身を確認\n",
        "    #print(df)\n",
        "    \n",
        "    url = df.iloc[:,2]\n",
        "\n",
        "    print('--Download_url_list--')\n",
        "    for i in url:\n",
        "        print(i)\n",
        "\n",
        "    return(url)"
      ],
      "execution_count": 6,
      "outputs": []
    },
    {
      "cell_type": "markdown",
      "metadata": {
        "id": "hYYfkf5oSFW_",
        "colab_type": "text"
      },
      "source": [
        "#**スクリプトを実行**"
      ]
    },
    {
      "cell_type": "code",
      "metadata": {
        "id": "4u5kAZ_ySEx6",
        "colab_type": "code",
        "colab": {
          "base_uri": "https://localhost:8080/",
          "height": 221
        },
        "outputId": "f4dc7ca8-6125-4890-f5a0-77e3e79f21e4"
      },
      "source": [
        "def main():\n",
        "    url = get_url()\n",
        "    \n",
        "    k=0\n",
        "    for i in url:\n",
        "        print('')\n",
        "        k+=1\n",
        "        print('downloading '+ str(k) +'/' + str(len(url)) )\n",
        "        Youtube_DL(i,k)\n",
        "\n",
        "main()"
      ],
      "execution_count": 7,
      "outputs": [
        {
          "output_type": "stream",
          "text": [
            "--Download_url_list--\n",
            "https://www.youtube.com/watch?v=syGeHKMlz98\n",
            "\n",
            "downloading 1/1\n",
            "[youtube] syGeHKMlz98: Downloading webpage\n",
            "[download] Destination: /content/drive/My Drive/INPUTS/PJ Masks -  ♪♪ Theme song  ♪♪.f137.mp4\n",
            "[download] 100% of 11.34MiB in 00:00\n",
            "[download] Destination: /content/drive/My Drive/INPUTS/PJ Masks -  ♪♪ Theme song  ♪♪.f140.m4a\n",
            "[download] 100% of 647.03KiB in 00:00\n",
            "[ffmpeg] Merging formats into \"/content/drive/My Drive/INPUTS/PJ Masks -  ♪♪ Theme song  ♪♪.mp4\"\n",
            "Deleting original file /content/drive/My Drive/INPUTS/PJ Masks -  ♪♪ Theme song  ♪♪.f137.mp4 (pass -k to keep)\n",
            "Deleting original file /content/drive/My Drive/INPUTS/PJ Masks -  ♪♪ Theme song  ♪♪.f140.m4a (pass -k to keep)\n"
          ],
          "name": "stdout"
        }
      ]
    }
  ]
}