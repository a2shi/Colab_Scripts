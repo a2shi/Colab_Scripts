{
  "nbformat": 4,
  "nbformat_minor": 0,
  "metadata": {
    "colab": {
      "name": "Untitled45.ipynb",
      "provenance": [],
      "include_colab_link": true
    },
    "kernelspec": {
      "name": "python3",
      "display_name": "Python 3"
    }
  },
  "cells": [
    {
      "cell_type": "markdown",
      "metadata": {
        "id": "view-in-github",
        "colab_type": "text"
      },
      "source": [
        "<a href=\"https://colab.research.google.com/github/ykitaguchi77/Colab_Scripts/blob/master/Youtube_download.ipynb\" target=\"_parent\"><img src=\"https://colab.research.google.com/assets/colab-badge.svg\" alt=\"Open In Colab\"/></a>"
      ]
    },
    {
      "cell_type": "markdown",
      "metadata": {
        "id": "6wl1vpCIXVMI",
        "colab_type": "text"
      },
      "source": [
        "#**YouTubeをダウンロードするスクリプト**\n",
        "準備： <br>\n",
        "google driveに'INPUTS'フォルダを作る <br>\n",
        "フォルダ内に'input_list.csv'を作成し保存する\n"
      ]
    },
    {
      "cell_type": "code",
      "metadata": {
        "id": "O6QsDjcDIzNK",
        "colab_type": "code",
        "colab": {
          "base_uri": "https://localhost:8080/",
          "height": 51
        },
        "outputId": "08787e5f-74ca-4762-f884-35f547698b5f"
      },
      "source": [
        "!pip install youtube_dl\n",
        "!pip install ffmpeg\n",
        "\n",
        "from __future__ import unicode_literals\n",
        "import youtube_dl\n",
        "import pandas as pd"
      ],
      "execution_count": 23,
      "outputs": [
        {
          "output_type": "stream",
          "text": [
            "Requirement already satisfied: youtube_dl in /usr/local/lib/python3.6/dist-packages (2020.9.20)\n",
            "Requirement already satisfied: ffmpeg in /usr/local/lib/python3.6/dist-packages (1.4)\n"
          ],
          "name": "stdout"
        }
      ]
    },
    {
      "cell_type": "code",
      "metadata": {
        "id": "gXx9kU8fBqbS",
        "colab_type": "code",
        "colab": {
          "base_uri": "https://localhost:8080/",
          "height": 34
        },
        "outputId": "e3daaa63-795c-46ac-9f57-38616677614a"
      },
      "source": [
        "#google driveをcolabolatoryにマウント\n",
        "from google.colab import drive\n",
        "drive.mount('/content/drive')"
      ],
      "execution_count": 24,
      "outputs": [
        {
          "output_type": "stream",
          "text": [
            "Drive already mounted at /content/drive; to attempt to forcibly remount, call drive.mount(\"/content/drive\", force_remount=True).\n"
          ],
          "name": "stdout"
        }
      ]
    },
    {
      "cell_type": "markdown",
      "metadata": {
        "id": "t9Q2DSd2RZpS",
        "colab_type": "text"
      },
      "source": [
        "#**ダウンロードするスクリプト**"
      ]
    },
    {
      "cell_type": "code",
      "metadata": {
        "id": "G0OdSW6kCrir",
        "colab_type": "code",
        "colab": {}
      },
      "source": [
        "#動画をダウンドロードするとき\n",
        "def Youtube_DL(url, num):\n",
        "\n",
        "    #outtmpl = str(num) +'%(title)s.%(ext)s'\n",
        "    outtmpl = '%(title)s.%(ext)s'\n",
        "    down_dir = \"/content/drive/My Drive/INPUTS/\"\n",
        "    url = url\n",
        "\n",
        "    ydl_opts = {\n",
        "        'format': 'bestvideo+bestaudio/best',\n",
        "        #'format': 'mp4',\n",
        "        'outtmpl': down_dir + outtmpl\n",
        "    }\n",
        "    with youtube_dl.YoutubeDL(ydl_opts) as ydl:\n",
        "        ydl.download([url])"
      ],
      "execution_count": 19,
      "outputs": []
    },
    {
      "cell_type": "code",
      "metadata": {
        "id": "fPfjWmF2XD99",
        "colab_type": "code",
        "colab": {}
      },
      "source": [
        "#mp3をダウンロードするとき\n",
        "def Youtube_DL(url, num):\n",
        "\n",
        "    #outtmpl = str(num) +'%(title)s.%(ext)s'\n",
        "    outtmpl = '%(title)s.%(ext)s'\n",
        "    down_dir = \"/content/drive/My Drive/INPUTS/\"\n",
        "    url = url\n",
        "\n",
        "    ydl_opts = {\n",
        "        'format': 'bestaudio/best',\n",
        "        'outtmpl': down_dir + outtmpl,\n",
        "        'postprocessors': [\n",
        "        {'key': 'FFmpegExtractAudio',\n",
        "        'preferredcodec': 'mp3',\n",
        "         'preferredquality': '192'},\n",
        "        {'key': 'FFmpegMetadata'},\n",
        "        ],\n",
        "    }\n",
        "\n",
        "    with youtube_dl.YoutubeDL(ydl_opts) as ydl:\n",
        "        ydl.download([url])"
      ],
      "execution_count": 25,
      "outputs": []
    },
    {
      "cell_type": "markdown",
      "metadata": {
        "id": "n1A-bpn3PMNg",
        "colab_type": "text"
      },
      "source": [
        "#**ダウンロードするアドレスのリストを取得**"
      ]
    },
    {
      "cell_type": "code",
      "metadata": {
        "id": "7jgZUtoDNudy",
        "colab_type": "code",
        "colab": {}
      },
      "source": [
        "def get_url():\n",
        "\n",
        "    #データをdfに読み込み。pandasをpdとして利用。\n",
        "    #df = pd.read_csv(\"/content/drive/My Drive/INPUTS/input_list.csv\", encoding=\"shift-jis\")\n",
        "    df = pd.read_csv(\"/content/drive/My Drive/INPUTS/input_list.csv\", encoding=\"UTF-8\")\n",
        "\n",
        "    #dfの中身を確認\n",
        "    #print(df)\n",
        "    \n",
        "    url = df.iloc[:,2]\n",
        "\n",
        "    print('--Download_url_list--')\n",
        "    for i in url:\n",
        "        print(i)\n",
        "\n",
        "    return(url)"
      ],
      "execution_count": 26,
      "outputs": []
    },
    {
      "cell_type": "markdown",
      "metadata": {
        "id": "hYYfkf5oSFW_",
        "colab_type": "text"
      },
      "source": [
        "#**スクリプトを実行**"
      ]
    },
    {
      "cell_type": "code",
      "metadata": {
        "id": "4u5kAZ_ySEx6",
        "colab_type": "code",
        "colab": {}
      },
      "source": [
        "def main():\n",
        "    url = get_url()\n",
        "    \n",
        "    k=0\n",
        "    for i in url:\n",
        "        print('')\n",
        "        k+=1\n",
        "        print('downloading '+ str(k) +'/' + str(len(url)) )\n",
        "        Youtube_DL(i,k)\n",
        "\n",
        "main()"
      ],
      "execution_count": null,
      "outputs": []
    }
  ]
}