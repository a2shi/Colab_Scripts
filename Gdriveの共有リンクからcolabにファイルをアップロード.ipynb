{
  "nbformat": 4,
  "nbformat_minor": 0,
  "metadata": {
    "colab": {
      "name": "Untitled57.ipynb",
      "provenance": [],
      "toc_visible": true,
      "authorship_tag": "ABX9TyMjN7p16/5BzNf/6KTRbO5j",
      "include_colab_link": true
    },
    "kernelspec": {
      "name": "python3",
      "display_name": "Python 3"
    }
  },
  "cells": [
    {
      "cell_type": "markdown",
      "metadata": {
        "id": "view-in-github",
        "colab_type": "text"
      },
      "source": [
        "<a href=\"https://colab.research.google.com/github/ykitaguchi77/Colab_Scripts/blob/master/Gdrive%E3%81%AE%E5%85%B1%E6%9C%89%E3%83%AA%E3%83%B3%E3%82%AF%E3%81%8B%E3%82%89colab%E3%81%AB%E3%83%95%E3%82%A1%E3%82%A4%E3%83%AB%E3%82%92%E3%82%A2%E3%83%83%E3%83%97%E3%83%AD%E3%83%BC%E3%83%89.ipynb\" target=\"_parent\"><img src=\"https://colab.research.google.com/assets/colab-badge.svg\" alt=\"Open In Colab\"/></a>"
      ]
    },
    {
      "cell_type": "markdown",
      "metadata": {
        "id": "VD33XcJM_YGh",
        "colab_type": "text"
      },
      "source": [
        "#**Google driveの共有リンクからzipファイルをダウンロードして解凍するスクリプト**"
      ]
    },
    {
      "cell_type": "markdown",
      "metadata": {
        "id": "Mq3jH8O_XEKb",
        "colab_type": "text"
      },
      "source": [
        "#**準備：パスワードつきzipファイルの作成**\n",
        "\n",
        "1. Gdrive上で行う場合は、下記スクリプトの通り<br>\n",
        "3. Macの場合は、$ zip -e --password=xxxx goldenretriever.zip goldenretriever.jpg"
      ]
    },
    {
      "cell_type": "code",
      "metadata": {
        "id": "_XF4VQ7YNi3i",
        "colab_type": "code",
        "colab": {
          "base_uri": "https://localhost:8080/",
          "height": 310
        },
        "outputId": "c64a4190-4394-4fe0-a8bc-2e5c37cb6c3b"
      },
      "source": [
        "#※Gdrive上でパス付きのzipファイルを作成する場合\n",
        "!pip install pyminizip\n",
        "import pyminizip\n",
        "#!sudo apt-get install zlib1g\n",
        "\n",
        "from google.colab import drive\n",
        "drive.mount('/content/drive')\n",
        "\n",
        "pyminizip.compress(\"/content/drive/My Drive/AI_laboratory_course/goldenretriever-3724972_640.jpg\", \"\", \"/content/drive/My Drive/AI_laboratory_course/goldenretriever.zip\", \"xxxx\", 0)"
      ],
      "execution_count": 1,
      "outputs": [
        {
          "output_type": "stream",
          "text": [
            "Collecting pyminizip\n",
            "\u001b[?25l  Downloading https://files.pythonhosted.org/packages/a2/ba/00a44b218667e2fef5addf692ae6980eb85ededf5ff9b0d94694a5380bc9/pyminizip-0.2.4.tar.gz (258kB)\n",
            "\r\u001b[K     |█▎                              | 10kB 15.7MB/s eta 0:00:01\r\u001b[K     |██▌                             | 20kB 1.7MB/s eta 0:00:01\r\u001b[K     |███▉                            | 30kB 2.1MB/s eta 0:00:01\r\u001b[K     |█████                           | 40kB 2.5MB/s eta 0:00:01\r\u001b[K     |██████▎                         | 51kB 1.9MB/s eta 0:00:01\r\u001b[K     |███████▋                        | 61kB 2.2MB/s eta 0:00:01\r\u001b[K     |████████▉                       | 71kB 2.5MB/s eta 0:00:01\r\u001b[K     |██████████▏                     | 81kB 2.7MB/s eta 0:00:01\r\u001b[K     |███████████▍                    | 92kB 2.9MB/s eta 0:00:01\r\u001b[K     |████████████▋                   | 102kB 2.7MB/s eta 0:00:01\r\u001b[K     |██████████████                  | 112kB 2.7MB/s eta 0:00:01\r\u001b[K     |███████████████▏                | 122kB 2.7MB/s eta 0:00:01\r\u001b[K     |████████████████▌               | 133kB 2.7MB/s eta 0:00:01\r\u001b[K     |█████████████████▊              | 143kB 2.7MB/s eta 0:00:01\r\u001b[K     |███████████████████             | 153kB 2.7MB/s eta 0:00:01\r\u001b[K     |████████████████████▎           | 163kB 2.7MB/s eta 0:00:01\r\u001b[K     |█████████████████████▌          | 174kB 2.7MB/s eta 0:00:01\r\u001b[K     |██████████████████████▉         | 184kB 2.7MB/s eta 0:00:01\r\u001b[K     |████████████████████████        | 194kB 2.7MB/s eta 0:00:01\r\u001b[K     |█████████████████████████▎      | 204kB 2.7MB/s eta 0:00:01\r\u001b[K     |██████████████████████████▋     | 215kB 2.7MB/s eta 0:00:01\r\u001b[K     |███████████████████████████▉    | 225kB 2.7MB/s eta 0:00:01\r\u001b[K     |█████████████████████████████▏  | 235kB 2.7MB/s eta 0:00:01\r\u001b[K     |██████████████████████████████▍ | 245kB 2.7MB/s eta 0:00:01\r\u001b[K     |███████████████████████████████▋| 256kB 2.7MB/s eta 0:00:01\r\u001b[K     |████████████████████████████████| 266kB 2.7MB/s \n",
            "\u001b[?25hBuilding wheels for collected packages: pyminizip\n",
            "  Building wheel for pyminizip (setup.py) ... \u001b[?25l\u001b[?25hdone\n",
            "  Created wheel for pyminizip: filename=pyminizip-0.2.4-cp36-cp36m-linux_x86_64.whl size=179336 sha256=88e8dee8309a2018fd9632bfe6bf496512ee715e199e568babdd2a43f150c443\n",
            "  Stored in directory: /root/.cache/pip/wheels/af/b9/52/24e6b8cda71303368256680c041d5cc32a2612e259d05185e3\n",
            "Successfully built pyminizip\n",
            "Installing collected packages: pyminizip\n",
            "Successfully installed pyminizip-0.2.4\n",
            "Go to this URL in a browser: https://accounts.google.com/o/oauth2/auth?client_id=947318989803-6bn6qk8qdgf4n4g3pfee6491hc0brc4i.apps.googleusercontent.com&redirect_uri=urn%3aietf%3awg%3aoauth%3a2.0%3aoob&scope=email%20https%3a%2f%2fwww.googleapis.com%2fauth%2fdocs.test%20https%3a%2f%2fwww.googleapis.com%2fauth%2fdrive%20https%3a%2f%2fwww.googleapis.com%2fauth%2fdrive.photos.readonly%20https%3a%2f%2fwww.googleapis.com%2fauth%2fpeopleapi.readonly&response_type=code\n",
            "\n",
            "Enter your authorization code:\n",
            "··········\n",
            "Mounted at /content/drive\n"
          ],
          "name": "stdout"
        }
      ]
    },
    {
      "cell_type": "markdown",
      "metadata": {
        "id": "VvKkvNgbXmK8",
        "colab_type": "text"
      },
      "source": [
        "**Google drive上で右クリック→共有可能なリンクを取得**\n",
        "→\n",
        "https://drive.google.com/file/d/1VV_8_nLyrmau5G5bsHempxCw-tSIFKxc/view?usp=sharing\n",
        "\n",
        "この場合、IDは、\"1VV_8_nLyrmau5G5bsHempxCw-tSIFKxc\"となる。"
      ]
    },
    {
      "cell_type": "code",
      "metadata": {
        "id": "pmRsqLuE_XcQ",
        "colab_type": "code",
        "colab": {
          "base_uri": "https://localhost:8080/",
          "height": 401
        },
        "outputId": "a0ff3aea-ba89-405d-80b9-989fe7c90d74"
      },
      "source": [
        "#LINUXコマンドを用いてダウンロードする\n",
        "!wget \"https://drive.google.com/uc?export=download&id=1Q9haa16bg4OW2YC_NzgrnljgUE5icAX3\" -O goldenretriever.zip\n",
        "\n",
        "#ZIPファイルを解凍する\n",
        "!unzip -P xxxx goldenretriever.zip"
      ],
      "execution_count": 3,
      "outputs": [
        {
          "output_type": "stream",
          "text": [
            "--2020-09-07 05:10:56--  https://drive.google.com/uc?export=download&id=1Q9haa16bg4OW2YC_NzgrnljgUE5icAX3\n",
            "Resolving drive.google.com (drive.google.com)... 172.217.204.113, 172.217.204.102, 172.217.204.139, ...\n",
            "Connecting to drive.google.com (drive.google.com)|172.217.204.113|:443... connected.\n",
            "HTTP request sent, awaiting response... 302 Moved Temporarily\n",
            "Location: https://doc-10-b8-docs.googleusercontent.com/docs/securesc/ha0ro937gcuc7l7deffksulhg5h7mbp1/v8uc7m6umag2c1j5e5dn5vhfg8mcdtte/1599455400000/14051990933848540212/*/1Q9haa16bg4OW2YC_NzgrnljgUE5icAX3?e=download [following]\n",
            "Warning: wildcards not supported in HTTP.\n",
            "--2020-09-07 05:10:56--  https://doc-10-b8-docs.googleusercontent.com/docs/securesc/ha0ro937gcuc7l7deffksulhg5h7mbp1/v8uc7m6umag2c1j5e5dn5vhfg8mcdtte/1599455400000/14051990933848540212/*/1Q9haa16bg4OW2YC_NzgrnljgUE5icAX3?e=download\n",
            "Resolving doc-10-b8-docs.googleusercontent.com (doc-10-b8-docs.googleusercontent.com)... 108.177.11.132, 2607:f8b0:400c:c01::84\n",
            "Connecting to doc-10-b8-docs.googleusercontent.com (doc-10-b8-docs.googleusercontent.com)|108.177.11.132|:443... connected.\n",
            "HTTP request sent, awaiting response... 200 OK\n",
            "Length: 184159 (180K) [application/zip]\n",
            "Saving to: ‘goldenretriever.zip’\n",
            "\n",
            "goldenretriever.zip 100%[===================>] 179.84K  --.-KB/s    in 0.003s  \n",
            "\n",
            "2020-09-07 05:10:56 (55.4 MB/s) - ‘goldenretriever.zip’ saved [184159/184159]\n",
            "\n",
            "Archive:  goldenretriever.zip\n",
            "replace goldenretriever-3724972_640.jpg? [y]es, [n]o, [A]ll, [N]one, [r]ename: y\n",
            "  inflating: goldenretriever-3724972_640.jpg  \n"
          ],
          "name": "stdout"
        }
      ]
    },
    {
      "cell_type": "code",
      "metadata": {
        "id": "_pzIJqmc-zoL",
        "colab_type": "code",
        "colab": {}
      },
      "source": [
        "#画像をCV2を用いて表示させてみる\n",
        "import matplotlib.pyplot as plt\n",
        "import numpy as np\n",
        "import cv2\n",
        "%matplotlib inline\n",
        "\n",
        "filename = \"/content/goldenretriever-3724972_640.jpg\"\n",
        "img = cv2.imread(filename)  # flagsは省略（デフォ値＝1）\n",
        "\n",
        "plt.imshow(cv2.cvtColor(img, cv2.COLOR_BGR2RGB)) # OpenCV は色がGBR順なのでRGB順に並べ替える\n",
        "plt.show()"
      ],
      "execution_count": null,
      "outputs": []
    },
    {
      "cell_type": "markdown",
      "metadata": {
        "id": "Dla9llZd_qSr",
        "colab_type": "text"
      },
      "source": [
        "#Jpgファイルに直接共有リンクをかけてをそのままアップロードすることも可能"
      ]
    },
    {
      "cell_type": "code",
      "metadata": {
        "id": "alPMLDz8IWNy",
        "colab_type": "code",
        "colab": {
          "base_uri": "https://localhost:8080/",
          "height": 326
        },
        "outputId": "db8f00e0-9cfc-4a0c-fa9f-bda7813d44f6"
      },
      "source": [
        "!wget \"https://drive.google.com/uc?export=download&id=1WXt5ucCtVOLxTNJkJFkJU7ySB83Z0S5v\" -O goldenretriever.jpg"
      ],
      "execution_count": null,
      "outputs": [
        {
          "output_type": "stream",
          "text": [
            "--2020-09-06 16:04:32--  https://drive.google.com/uc?export=download&id=1WXt5ucCtVOLxTNJkJFkJU7ySB83Z0S5v\n",
            "Resolving drive.google.com (drive.google.com)... 172.253.123.101, 172.253.123.113, 172.253.123.102, ...\n",
            "Connecting to drive.google.com (drive.google.com)|172.253.123.101|:443... connected.\n",
            "HTTP request sent, awaiting response... 302 Moved Temporarily\n",
            "Location: https://doc-08-b8-docs.googleusercontent.com/docs/securesc/ha0ro937gcuc7l7deffksulhg5h7mbp1/dcoss9sr02jb0k792utoe8nq29lfonpb/1599408225000/14051990933848540212/*/1WXt5ucCtVOLxTNJkJFkJU7ySB83Z0S5v?e=download [following]\n",
            "Warning: wildcards not supported in HTTP.\n",
            "--2020-09-06 16:04:33--  https://doc-08-b8-docs.googleusercontent.com/docs/securesc/ha0ro937gcuc7l7deffksulhg5h7mbp1/dcoss9sr02jb0k792utoe8nq29lfonpb/1599408225000/14051990933848540212/*/1WXt5ucCtVOLxTNJkJFkJU7ySB83Z0S5v?e=download\n",
            "Resolving doc-08-b8-docs.googleusercontent.com (doc-08-b8-docs.googleusercontent.com)... 74.125.31.132, 2607:f8b0:400c:c02::84\n",
            "Connecting to doc-08-b8-docs.googleusercontent.com (doc-08-b8-docs.googleusercontent.com)|74.125.31.132|:443... connected.\n",
            "HTTP request sent, awaiting response... 200 OK\n",
            "Length: 184089 (180K) [image/jpeg]\n",
            "Saving to: ‘goldenretriever.jpg’\n",
            "\n",
            "goldenretriever.jpg 100%[===================>] 179.77K  --.-KB/s    in 0.002s  \n",
            "\n",
            "2020-09-06 16:04:33 (100 MB/s) - ‘goldenretriever.jpg’ saved [184089/184089]\n",
            "\n"
          ],
          "name": "stdout"
        }
      ]
    }
  ]
}