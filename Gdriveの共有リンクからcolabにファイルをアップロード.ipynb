{
  "nbformat": 4,
  "nbformat_minor": 0,
  "metadata": {
    "colab": {
      "name": "Untitled57.ipynb",
      "provenance": [],
      "toc_visible": true,
      "authorship_tag": "ABX9TyPNJSNsp9JcDdEWiN5td404",
      "include_colab_link": true
    },
    "kernelspec": {
      "name": "python3",
      "display_name": "Python 3"
    }
  },
  "cells": [
    {
      "cell_type": "markdown",
      "metadata": {
        "id": "view-in-github",
        "colab_type": "text"
      },
      "source": [
        "<a href=\"https://colab.research.google.com/github/ykitaguchi77/Colab_Scripts/blob/master/Gdrive%E3%81%AE%E5%85%B1%E6%9C%89%E3%83%AA%E3%83%B3%E3%82%AF%E3%81%8B%E3%82%89colab%E3%81%AB%E3%83%95%E3%82%A1%E3%82%A4%E3%83%AB%E3%82%92%E3%82%A2%E3%83%83%E3%83%97%E3%83%AD%E3%83%BC%E3%83%89.ipynb\" target=\"_parent\"><img src=\"https://colab.research.google.com/assets/colab-badge.svg\" alt=\"Open In Colab\"/></a>"
      ]
    },
    {
      "cell_type": "markdown",
      "metadata": {
        "id": "VD33XcJM_YGh",
        "colab_type": "text"
      },
      "source": [
        "#**Google driveの共有リンクからzipファイルをダウンロードして解凍するスクリプト**\n",
        "\n",
        "準備 (Mac): <br>\n",
        "1. ファイルをパスワードをかけてzip化　<br>\n",
        "$ zip -e --password=xxxx goldenretriever.zip goldenretriever.jpg\n",
        "2. Google driveにアップロード、右クリック→共有可能なリンクを取得\n",
        "→\n",
        "https://drive.google.com/file/d/1VV_8_nLyrmau5G5bsHempxCw-tSIFKxc/view?usp=sharing\n",
        "\n",
        "この場合、IDは、\"1VV_8_nLyrmau5G5bsHempxCw-tSIFKxc\"となる。"
      ]
    },
    {
      "cell_type": "code",
      "metadata": {
        "id": "pmRsqLuE_XcQ",
        "colab_type": "code",
        "colab": {
          "base_uri": "https://localhost:8080/",
          "height": 326
        },
        "outputId": "20315956-32ae-4b51-82da-4acc28d4b515"
      },
      "source": [
        "#LINUXコマンドを用いてダウンロードする\n",
        "!wget \"https://drive.google.com/uc?export=download&id=1VV_8_nLyrmau5G5bsHempxCw-tSIFKxc\" -O goldenretriever.zip\n",
        "\n",
        "#ZIPファイルを解凍する\n",
        "!unzip -P xxxx goldenretriever.zip"
      ],
      "execution_count": 1,
      "outputs": [
        {
          "output_type": "stream",
          "text": [
            "--2020-09-06 15:52:17--  https://drive.google.com/uc?export=download&id=1VV_8_nLyrmau5G5bsHempxCw-tSIFKxc\n",
            "Resolving drive.google.com (drive.google.com)... 172.253.123.138, 172.253.123.113, 172.253.123.139, ...\n",
            "Connecting to drive.google.com (drive.google.com)|172.253.123.138|:443... connected.\n",
            "HTTP request sent, awaiting response... 302 Moved Temporarily\n",
            "Location: https://doc-14-b8-docs.googleusercontent.com/docs/securesc/ha0ro937gcuc7l7deffksulhg5h7mbp1/vrke717jh4v920tg83ttbrdu4vmsts78/1599407475000/14051990933848540212/*/1VV_8_nLyrmau5G5bsHempxCw-tSIFKxc?e=download [following]\n",
            "Warning: wildcards not supported in HTTP.\n",
            "--2020-09-06 15:52:18--  https://doc-14-b8-docs.googleusercontent.com/docs/securesc/ha0ro937gcuc7l7deffksulhg5h7mbp1/vrke717jh4v920tg83ttbrdu4vmsts78/1599407475000/14051990933848540212/*/1VV_8_nLyrmau5G5bsHempxCw-tSIFKxc?e=download\n",
            "Resolving doc-14-b8-docs.googleusercontent.com (doc-14-b8-docs.googleusercontent.com)... 74.125.31.132, 2607:f8b0:400c:c02::84\n",
            "Connecting to doc-14-b8-docs.googleusercontent.com (doc-14-b8-docs.googleusercontent.com)|74.125.31.132|:443... connected.\n",
            "HTTP request sent, awaiting response... 200 OK\n",
            "Length: 184227 (180K) [application/zip]\n",
            "Saving to: ‘goldenretriever.zip’\n",
            "\n",
            "goldenretriever.zip 100%[===================>] 179.91K  --.-KB/s    in 0.003s  \n",
            "\n",
            "2020-09-06 15:52:18 (69.8 MB/s) - ‘goldenretriever.zip’ saved [184227/184227]\n",
            "\n"
          ],
          "name": "stdout"
        }
      ]
    },
    {
      "cell_type": "code",
      "metadata": {
        "id": "alPMLDz8IWNy",
        "colab_type": "code",
        "colab": {
          "base_uri": "https://localhost:8080/",
          "height": 326
        },
        "outputId": "b626a3db-4b33-42c4-ac50-4e375ca63317"
      },
      "source": [
        "#Jpgファイルに共有リンクをかけてをそのままアップロードすることも可能\n",
        "!wget \"https://drive.google.com/uc?export=download&id=1WXt5ucCtVOLxTNJkJFkJU7ySB83Z0S5v\" -O goldenretriever.jpg"
      ],
      "execution_count": 4,
      "outputs": [
        {
          "output_type": "stream",
          "text": [
            "--2020-09-06 15:58:58--  https://drive.google.com/uc?export=download&id=1WXt5ucCtVOLxTNJkJFkJU7ySB83Z0S5v\n",
            "Resolving drive.google.com (drive.google.com)... 172.253.123.101, 172.253.123.138, 172.253.123.100, ...\n",
            "Connecting to drive.google.com (drive.google.com)|172.253.123.101|:443... connected.\n",
            "HTTP request sent, awaiting response... 302 Moved Temporarily\n",
            "Location: https://doc-08-b8-docs.googleusercontent.com/docs/securesc/ha0ro937gcuc7l7deffksulhg5h7mbp1/fi7ab3m6dnqgjdbomstpmdotabrrjg8p/1599407925000/14051990933848540212/*/1WXt5ucCtVOLxTNJkJFkJU7ySB83Z0S5v?e=download [following]\n",
            "Warning: wildcards not supported in HTTP.\n",
            "--2020-09-06 15:58:59--  https://doc-08-b8-docs.googleusercontent.com/docs/securesc/ha0ro937gcuc7l7deffksulhg5h7mbp1/fi7ab3m6dnqgjdbomstpmdotabrrjg8p/1599407925000/14051990933848540212/*/1WXt5ucCtVOLxTNJkJFkJU7ySB83Z0S5v?e=download\n",
            "Resolving doc-08-b8-docs.googleusercontent.com (doc-08-b8-docs.googleusercontent.com)... 74.125.31.132, 2607:f8b0:400c:c02::84\n",
            "Connecting to doc-08-b8-docs.googleusercontent.com (doc-08-b8-docs.googleusercontent.com)|74.125.31.132|:443... connected.\n",
            "HTTP request sent, awaiting response... 200 OK\n",
            "Length: 184089 (180K) [image/jpeg]\n",
            "Saving to: ‘goldenretriever.jpg’\n",
            "\n",
            "goldenretriever.jpg 100%[===================>] 179.77K  --.-KB/s    in 0.002s  \n",
            "\n",
            "2020-09-06 15:58:59 (113 MB/s) - ‘goldenretriever.jpg’ saved [184089/184089]\n",
            "\n"
          ],
          "name": "stdout"
        }
      ]
    }
  ]
}