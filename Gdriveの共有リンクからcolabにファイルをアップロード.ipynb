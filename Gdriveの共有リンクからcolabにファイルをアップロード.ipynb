{
  "nbformat": 4,
  "nbformat_minor": 0,
  "metadata": {
    "colab": {
      "name": "Untitled57.ipynb",
      "provenance": [],
      "toc_visible": true,
      "authorship_tag": "ABX9TyPU/a/yvZg44gxLLmYGS29r",
      "include_colab_link": true
    },
    "kernelspec": {
      "name": "python3",
      "display_name": "Python 3"
    }
  },
  "cells": [
    {
      "cell_type": "markdown",
      "metadata": {
        "id": "view-in-github",
        "colab_type": "text"
      },
      "source": [
        "<a href=\"https://colab.research.google.com/github/ykitaguchi77/Colab_Scripts/blob/master/Gdrive%E3%81%AE%E5%85%B1%E6%9C%89%E3%83%AA%E3%83%B3%E3%82%AF%E3%81%8B%E3%82%89colab%E3%81%AB%E3%83%95%E3%82%A1%E3%82%A4%E3%83%AB%E3%82%92%E3%82%A2%E3%83%83%E3%83%97%E3%83%AD%E3%83%BC%E3%83%89.ipynb\" target=\"_parent\"><img src=\"https://colab.research.google.com/assets/colab-badge.svg\" alt=\"Open In Colab\"/></a>"
      ]
    },
    {
      "cell_type": "markdown",
      "metadata": {
        "id": "VD33XcJM_YGh",
        "colab_type": "text"
      },
      "source": [
        "#**Google driveの共有リンクからzipファイルをダウンロードして解凍するスクリプト**"
      ]
    },
    {
      "cell_type": "markdown",
      "metadata": {
        "id": "Mq3jH8O_XEKb",
        "colab_type": "text"
      },
      "source": [
        "#**準備：パスワードつきzipファイルの作成**\n",
        "\n",
        "1. Gdrive上で行う場合は、下記スクリプトの通り<br>\n",
        "3. Macの場合は、$ zip -e --password=xxxx goldenretriever.zip goldenretriever.jpg"
      ]
    },
    {
      "cell_type": "code",
      "metadata": {
        "id": "_XF4VQ7YNi3i",
        "colab_type": "code",
        "colab": {
          "base_uri": "https://localhost:8080/",
          "height": 139
        },
        "outputId": "12e115d6-00be-4c16-9291-8032a57195b7"
      },
      "source": [
        "#※Gdrive上でパス付きのzipファイルを作成する場合\n",
        "!pip install pyminizip\n",
        "import pyminizip\n",
        "#!sudo apt-get install zlib1g\n",
        "\n",
        "from google.colab import drive\n",
        "drive.mount('/content/drive')\n",
        "\n",
        "pyminizip.compress(\"/content/drive/My Drive/AI_laboratory_course/goldenretriever-3724972_640.jpg\", \"\", \"/content/drive/My Drive/AI_laboratory_course/goldenretriever.zip\", \"xxxx\", 0)"
      ],
      "execution_count": 3,
      "outputs": [
        {
          "output_type": "stream",
          "text": [
            "Requirement already satisfied: pyminizip in /usr/local/lib/python3.6/dist-packages (0.2.4)\n",
            "Go to this URL in a browser: https://accounts.google.com/o/oauth2/auth?client_id=947318989803-6bn6qk8qdgf4n4g3pfee6491hc0brc4i.apps.googleusercontent.com&redirect_uri=urn%3aietf%3awg%3aoauth%3a2.0%3aoob&scope=email%20https%3a%2f%2fwww.googleapis.com%2fauth%2fdocs.test%20https%3a%2f%2fwww.googleapis.com%2fauth%2fdrive%20https%3a%2f%2fwww.googleapis.com%2fauth%2fdrive.photos.readonly%20https%3a%2f%2fwww.googleapis.com%2fauth%2fpeopleapi.readonly&response_type=code\n",
            "\n",
            "Enter your authorization code:\n",
            "··········\n",
            "Mounted at /content/drive\n"
          ],
          "name": "stdout"
        }
      ]
    },
    {
      "cell_type": "markdown",
      "metadata": {
        "id": "VvKkvNgbXmK8",
        "colab_type": "text"
      },
      "source": [
        "**Google drive上で右クリック→共有可能なリンクを取得**\n",
        "→\n",
        "https://drive.google.com/file/d/1VV_8_nLyrmau5G5bsHempxCw-tSIFKxc/view?usp=sharing\n",
        "\n",
        "この場合、IDは、\"1VV_8_nLyrmau5G5bsHempxCw-tSIFKxc\"となる。"
      ]
    },
    {
      "cell_type": "code",
      "metadata": {
        "id": "pmRsqLuE_XcQ",
        "colab_type": "code",
        "colab": {
          "base_uri": "https://localhost:8080/",
          "height": 428
        },
        "outputId": "991c3b74-96c1-460e-b782-93df1de22fc3"
      },
      "source": [
        "#LINUXコマンドを用いてダウンロードする\n",
        "!wget \"https://drive.google.com/uc?export=download&id=1Q9haa16bg4OW2YC_NzgrnljgUE5icAX3\" -O goldenretriever.zip\n",
        "\n",
        "#ZIPファイルを解凍する\n",
        "!unzip -P xxxx goldenretriever.zip"
      ],
      "execution_count": 1,
      "outputs": [
        {
          "output_type": "stream",
          "text": [
            "--2020-09-06 16:46:00--  https://drive.google.com/uc?export=download&id=1Q9haa16bg4OW2YC_NzgrnljgUE5icAX3\n",
            "Resolving drive.google.com (drive.google.com)... 108.177.125.139, 108.177.125.138, 108.177.125.102, ...\n",
            "Connecting to drive.google.com (drive.google.com)|108.177.125.139|:443... connected.\n",
            "HTTP request sent, awaiting response... 302 Moved Temporarily\n",
            "Location: https://accounts.google.com/ServiceLogin?service=wise&passive=1209600&continue=https://drive.google.com/uc?export%3Ddownload%26id%3D1Q9haa16bg4OW2YC_NzgrnljgUE5icAX3&followup=https://drive.google.com/uc?export%3Ddownload%26id%3D1Q9haa16bg4OW2YC_NzgrnljgUE5icAX3&ltmpl=drive [following]\n",
            "--2020-09-06 16:46:00--  https://accounts.google.com/ServiceLogin?service=wise&passive=1209600&continue=https://drive.google.com/uc?export%3Ddownload%26id%3D1Q9haa16bg4OW2YC_NzgrnljgUE5icAX3&followup=https://drive.google.com/uc?export%3Ddownload%26id%3D1Q9haa16bg4OW2YC_NzgrnljgUE5icAX3&ltmpl=drive\n",
            "Resolving accounts.google.com (accounts.google.com)... 74.125.203.84, 2404:6800:4008:c03::54\n",
            "Connecting to accounts.google.com (accounts.google.com)|74.125.203.84|:443... connected.\n",
            "HTTP request sent, awaiting response... 200 OK\n",
            "Length: unspecified [text/html]\n",
            "Saving to: ‘goldenretriever.zip’\n",
            "\n",
            "goldenretriever.zip     [ <=>                ]  59.94K  --.-KB/s    in 0.001s  \n",
            "\n",
            "2020-09-06 16:46:00 (61.4 MB/s) - ‘goldenretriever.zip’ saved [61377]\n",
            "\n",
            "Archive:  goldenretriever.zip\n",
            "  End-of-central-directory signature not found.  Either this file is not\n",
            "  a zipfile, or it constitutes one disk of a multi-part archive.  In the\n",
            "  latter case the central directory and zipfile comment will be found on\n",
            "  the last disk(s) of this archive.\n",
            "unzip:  cannot find zipfile directory in one of goldenretriever.zip or\n",
            "        goldenretriever.zip.zip, and cannot find goldenretriever.zip.ZIP, period.\n"
          ],
          "name": "stdout"
        }
      ]
    },
    {
      "cell_type": "code",
      "metadata": {
        "id": "alPMLDz8IWNy",
        "colab_type": "code",
        "colab": {
          "base_uri": "https://localhost:8080/",
          "height": 326
        },
        "outputId": "db8f00e0-9cfc-4a0c-fa9f-bda7813d44f6"
      },
      "source": [
        "#Jpgファイルに直接共有リンクをかけてをそのままアップロードすることも可能\n",
        "!wget \"https://drive.google.com/uc?export=download&id=1WXt5ucCtVOLxTNJkJFkJU7ySB83Z0S5v\" -O goldenretriever.jpg"
      ],
      "execution_count": 9,
      "outputs": [
        {
          "output_type": "stream",
          "text": [
            "--2020-09-06 16:04:32--  https://drive.google.com/uc?export=download&id=1WXt5ucCtVOLxTNJkJFkJU7ySB83Z0S5v\n",
            "Resolving drive.google.com (drive.google.com)... 172.253.123.101, 172.253.123.113, 172.253.123.102, ...\n",
            "Connecting to drive.google.com (drive.google.com)|172.253.123.101|:443... connected.\n",
            "HTTP request sent, awaiting response... 302 Moved Temporarily\n",
            "Location: https://doc-08-b8-docs.googleusercontent.com/docs/securesc/ha0ro937gcuc7l7deffksulhg5h7mbp1/dcoss9sr02jb0k792utoe8nq29lfonpb/1599408225000/14051990933848540212/*/1WXt5ucCtVOLxTNJkJFkJU7ySB83Z0S5v?e=download [following]\n",
            "Warning: wildcards not supported in HTTP.\n",
            "--2020-09-06 16:04:33--  https://doc-08-b8-docs.googleusercontent.com/docs/securesc/ha0ro937gcuc7l7deffksulhg5h7mbp1/dcoss9sr02jb0k792utoe8nq29lfonpb/1599408225000/14051990933848540212/*/1WXt5ucCtVOLxTNJkJFkJU7ySB83Z0S5v?e=download\n",
            "Resolving doc-08-b8-docs.googleusercontent.com (doc-08-b8-docs.googleusercontent.com)... 74.125.31.132, 2607:f8b0:400c:c02::84\n",
            "Connecting to doc-08-b8-docs.googleusercontent.com (doc-08-b8-docs.googleusercontent.com)|74.125.31.132|:443... connected.\n",
            "HTTP request sent, awaiting response... 200 OK\n",
            "Length: 184089 (180K) [image/jpeg]\n",
            "Saving to: ‘goldenretriever.jpg’\n",
            "\n",
            "goldenretriever.jpg 100%[===================>] 179.77K  --.-KB/s    in 0.002s  \n",
            "\n",
            "2020-09-06 16:04:33 (100 MB/s) - ‘goldenretriever.jpg’ saved [184089/184089]\n",
            "\n"
          ],
          "name": "stdout"
        }
      ]
    }
  ]
}