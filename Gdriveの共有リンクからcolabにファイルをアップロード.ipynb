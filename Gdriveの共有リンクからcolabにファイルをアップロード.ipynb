{
  "nbformat": 4,
  "nbformat_minor": 0,
  "metadata": {
    "colab": {
      "name": "Untitled57.ipynb",
      "provenance": [],
      "authorship_tag": "ABX9TyNX3kIl0QiZXs092jwYJoDW",
      "include_colab_link": true
    },
    "kernelspec": {
      "name": "python3",
      "display_name": "Python 3"
    }
  },
  "cells": [
    {
      "cell_type": "markdown",
      "metadata": {
        "id": "view-in-github",
        "colab_type": "text"
      },
      "source": [
        "<a href=\"https://colab.research.google.com/github/ykitaguchi77/Colab_Scripts/blob/master/Gdrive%E3%81%AE%E5%85%B1%E6%9C%89%E3%83%AA%E3%83%B3%E3%82%AF%E3%81%8B%E3%82%89colab%E3%81%AB%E3%83%95%E3%82%A1%E3%82%A4%E3%83%AB%E3%82%92%E3%82%A2%E3%83%83%E3%83%97%E3%83%AD%E3%83%BC%E3%83%89.ipynb\" target=\"_parent\"><img src=\"https://colab.research.google.com/assets/colab-badge.svg\" alt=\"Open In Colab\"/></a>"
      ]
    },
    {
      "cell_type": "markdown",
      "metadata": {
        "id": "VD33XcJM_YGh",
        "colab_type": "text"
      },
      "source": [
        "#**Google driveの共有リンクからzipファイルをダウンロードして解凍するスクリプト**"
      ]
    },
    {
      "cell_type": "markdown",
      "metadata": {
        "id": "Mq3jH8O_XEKb",
        "colab_type": "text"
      },
      "source": [
        "#**準備：パスワードつきzipファイルの作成**\n",
        "\n",
        "1. Gdrive上で行う場合は、下記スクリプトの通り<br>\n",
        "3. Macの場合は、$ zip -e --password=xxxx goldenretriever.zip goldenretriever.jpg<br>\n",
        "フォルダを圧縮する場合には、zip -er。"
      ]
    },
    {
      "cell_type": "code",
      "metadata": {
        "id": "_XF4VQ7YNi3i",
        "colab_type": "code",
        "colab": {
          "base_uri": "https://localhost:8080/",
          "height": 139
        },
        "outputId": "2a8fb050-f99c-4156-dd0f-d2df3dcf5379"
      },
      "source": [
        "#※Gdrive上でパス付きのzipファイルを作成する場合\n",
        "!pip install pyminizip\n",
        "import pyminizip\n",
        "#!sudo apt-get install zlib1g\n",
        "\n",
        "from google.colab import drive\n",
        "drive.mount('/content/drive')\n",
        "\n",
        "pyminizip.compress(\"/content/drive/My Drive/AI_laboratory_course/goldenretriever-3724972_640.jpg\", \"\", \"/content/drive/My Drive/AI_laboratory_course/goldenretriever.zip\", \"xxxx\", 0)"
      ],
      "execution_count": 1,
      "outputs": [
        {
          "output_type": "stream",
          "text": [
            "Requirement already satisfied: pyminizip in /usr/local/lib/python3.6/dist-packages (0.2.4)\n",
            "Go to this URL in a browser: https://accounts.google.com/o/oauth2/auth?client_id=947318989803-6bn6qk8qdgf4n4g3pfee6491hc0brc4i.apps.googleusercontent.com&redirect_uri=urn%3aietf%3awg%3aoauth%3a2.0%3aoob&scope=email%20https%3a%2f%2fwww.googleapis.com%2fauth%2fdocs.test%20https%3a%2f%2fwww.googleapis.com%2fauth%2fdrive%20https%3a%2f%2fwww.googleapis.com%2fauth%2fdrive.photos.readonly%20https%3a%2f%2fwww.googleapis.com%2fauth%2fpeopleapi.readonly&response_type=code\n",
            "\n",
            "Enter your authorization code:\n",
            "··········\n",
            "Mounted at /content/drive\n"
          ],
          "name": "stdout"
        }
      ]
    },
    {
      "cell_type": "markdown",
      "metadata": {
        "id": "VvKkvNgbXmK8",
        "colab_type": "text"
      },
      "source": [
        "**Google drive上で右クリック→共有可能なリンクを取得**\n",
        "→\n",
        "https://drive.google.com/file/d/1VV_8_nLyrmau5G5bsHempxCw-tSIFKxc/view?usp=sharing\n",
        "\n",
        "この場合、IDは、\"1VV_8_nLyrmau5G5bsHempxCw-tSIFKxc\"となる。"
      ]
    },
    {
      "cell_type": "code",
      "metadata": {
        "id": "pmRsqLuE_XcQ",
        "colab_type": "code",
        "colab": {}
      },
      "source": [
        "#LINUXコマンドを用いてダウンロードする\n",
        "!wget \"https://drive.google.com/uc?export=download&id=1Q9haa16bg4OW2YC_NzgrnljgUE5icAX3\" -O goldenretriever.zip\n",
        "\n",
        "#ZIPファイルを解凍する\n",
        "!unzip -P xxxx goldenretriever.zip"
      ],
      "execution_count": null,
      "outputs": []
    },
    {
      "cell_type": "code",
      "metadata": {
        "id": "iaiLfjUnHwv_",
        "colab_type": "code",
        "colab": {
          "base_uri": "https://localhost:8080/",
          "height": 35
        },
        "outputId": "66a13a1e-a53a-442a-e28f-ce7c7c8337dc"
      },
      "source": [
        "#pythonのzipfileを使っても解凍できる\n",
        "pwd = b'xxxx' #xxxxの部分にpasswordを入力する\n",
        "\n",
        "import zipfile\n",
        "def unzip_with_pwd(filename, path='.', pwd=b''):\n",
        "    with zipfile.ZipFile(filename, 'r') as zip_file:\n",
        "        try:\n",
        "            zip_file.extractall(path=path, pwd=pwd)\n",
        "            print('extraction is successful!')\n",
        "        except RuntimeError:\n",
        "            print('{} is wrong password!'.format(pwd))\n",
        "\n",
        "unzip_with_pwd(filename=\"/content/goldenretriever.zip\", pwd=pwd)"
      ],
      "execution_count": null,
      "outputs": [
        {
          "output_type": "stream",
          "text": [
            "extraction is successful!\n"
          ],
          "name": "stdout"
        }
      ]
    },
    {
      "cell_type": "code",
      "metadata": {
        "id": "_pzIJqmc-zoL",
        "colab_type": "code",
        "colab": {}
      },
      "source": [
        "#画像をCV2を用いて表示させてみる\n",
        "import matplotlib.pyplot as plt\n",
        "import numpy as np\n",
        "import cv2\n",
        "%matplotlib inline\n",
        "\n",
        "filename = \"/content/goldenretriever-3724972_640.jpg\"\n",
        "img = cv2.imread(filename)  # flagsは省略（デフォ値＝1）\n",
        "\n",
        "plt.imshow(cv2.cvtColor(img, cv2.COLOR_BGR2RGB)) # OpenCV は色がGBR順なのでRGB順に並べ替える\n",
        "plt.show()"
      ],
      "execution_count": null,
      "outputs": []
    },
    {
      "cell_type": "markdown",
      "metadata": {
        "id": "Dla9llZd_qSr",
        "colab_type": "text"
      },
      "source": [
        "#Jpgファイルに直接共有リンクをかけてをそのままアップロードすることも可能"
      ]
    },
    {
      "cell_type": "code",
      "metadata": {
        "id": "alPMLDz8IWNy",
        "colab_type": "code",
        "colab": {
          "base_uri": "https://localhost:8080/",
          "height": 326
        },
        "outputId": "db8f00e0-9cfc-4a0c-fa9f-bda7813d44f6"
      },
      "source": [
        "!wget \"https://drive.google.com/uc?export=download&id=1WXt5ucCtVOLxTNJkJFkJU7ySB83Z0S5v\" -O goldenretriever.jpg"
      ],
      "execution_count": null,
      "outputs": [
        {
          "output_type": "stream",
          "text": [
            "--2020-09-06 16:04:32--  https://drive.google.com/uc?export=download&id=1WXt5ucCtVOLxTNJkJFkJU7ySB83Z0S5v\n",
            "Resolving drive.google.com (drive.google.com)... 172.253.123.101, 172.253.123.113, 172.253.123.102, ...\n",
            "Connecting to drive.google.com (drive.google.com)|172.253.123.101|:443... connected.\n",
            "HTTP request sent, awaiting response... 302 Moved Temporarily\n",
            "Location: https://doc-08-b8-docs.googleusercontent.com/docs/securesc/ha0ro937gcuc7l7deffksulhg5h7mbp1/dcoss9sr02jb0k792utoe8nq29lfonpb/1599408225000/14051990933848540212/*/1WXt5ucCtVOLxTNJkJFkJU7ySB83Z0S5v?e=download [following]\n",
            "Warning: wildcards not supported in HTTP.\n",
            "--2020-09-06 16:04:33--  https://doc-08-b8-docs.googleusercontent.com/docs/securesc/ha0ro937gcuc7l7deffksulhg5h7mbp1/dcoss9sr02jb0k792utoe8nq29lfonpb/1599408225000/14051990933848540212/*/1WXt5ucCtVOLxTNJkJFkJU7ySB83Z0S5v?e=download\n",
            "Resolving doc-08-b8-docs.googleusercontent.com (doc-08-b8-docs.googleusercontent.com)... 74.125.31.132, 2607:f8b0:400c:c02::84\n",
            "Connecting to doc-08-b8-docs.googleusercontent.com (doc-08-b8-docs.googleusercontent.com)|74.125.31.132|:443... connected.\n",
            "HTTP request sent, awaiting response... 200 OK\n",
            "Length: 184089 (180K) [image/jpeg]\n",
            "Saving to: ‘goldenretriever.jpg’\n",
            "\n",
            "goldenretriever.jpg 100%[===================>] 179.77K  --.-KB/s    in 0.002s  \n",
            "\n",
            "2020-09-06 16:04:33 (100 MB/s) - ‘goldenretriever.jpg’ saved [184089/184089]\n",
            "\n"
          ],
          "name": "stdout"
        }
      ]
    }
  ]
}