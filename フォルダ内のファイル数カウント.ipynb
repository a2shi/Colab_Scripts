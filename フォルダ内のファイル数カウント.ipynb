{
  "nbformat": 4,
  "nbformat_minor": 0,
  "metadata": {
    "colab": {
      "name": "Untitled46.ipynb",
      "provenance": [],
      "authorship_tag": "ABX9TyMLpLoGwl1aimO2b0t4k9t9",
      "include_colab_link": true
    },
    "kernelspec": {
      "name": "python3",
      "display_name": "Python 3"
    }
  },
  "cells": [
    {
      "cell_type": "markdown",
      "metadata": {
        "id": "view-in-github",
        "colab_type": "text"
      },
      "source": [
        "<a href=\"https://colab.research.google.com/github/ykitaguchi77/Colab_Scripts/blob/master/%E3%83%95%E3%82%A9%E3%83%AB%E3%83%80%E5%86%85%E3%81%AE%E3%83%95%E3%82%A1%E3%82%A4%E3%83%AB%E6%95%B0%E3%82%AB%E3%82%A6%E3%83%B3%E3%83%88.ipynb\" target=\"_parent\"><img src=\"https://colab.research.google.com/assets/colab-badge.svg\" alt=\"Open In Colab\"/></a>"
      ]
    },
    {
      "cell_type": "code",
      "metadata": {
        "id": "35BCryOvEe8o",
        "colab_type": "code",
        "colab": {
          "base_uri": "https://localhost:8080/",
          "height": 34
        },
        "outputId": "c9e29988-6d16-47ed-fdfa-acc4cb7f5cf5"
      },
      "source": [
        "from google.colab import drive\n",
        "drive.mount('/content/drive')"
      ],
      "execution_count": 1,
      "outputs": [
        {
          "output_type": "stream",
          "text": [
            "Mounted at /content/drive\n"
          ],
          "name": "stdout"
        }
      ]
    },
    {
      "cell_type": "code",
      "metadata": {
        "id": "c3iOHJByELkq",
        "colab_type": "code",
        "colab": {}
      },
      "source": [
        "import os\n",
        "\n",
        "# ファイル数を調べたいフォルダのパス\n",
        "path = \"/content/drive/My Drive/Deep_learning/cont_add\" \n",
        " \n",
        "# フォルダ内の全ファイル名をリスト化\n",
        "files = os.listdir(path)\n",
        " \n",
        "# リストの長さ（ファイル数）を取得\n",
        "count = len(files)\n",
        " \n",
        "# ファイル数を確認\n",
        "print(count)"
      ],
      "execution_count": null,
      "outputs": []
    },
    {
      "cell_type": "code",
      "metadata": {
        "id": "ovbczYrLDvZV",
        "colab_type": "code",
        "colab": {
          "base_uri": "https://localhost:8080/",
          "height": 34
        },
        "outputId": "5473d02b-a3ce-44f1-a592-07513adb8549"
      },
      "source": [
        "import glob\n",
        "\n",
        "# ファイル数を調べたいフォルダのパス\n",
        "path = \"/content/drive/My Drive/Grav_bootcamp/PrePlusTrain/*/grav/*\" \n",
        " \n",
        "# フォルダ内の全ファイル名をリスト化\n",
        "files = glob.glob(path)\n",
        " \n",
        "# リストの長さ（ファイル数）を取得\n",
        "count = len(files)\n",
        " \n",
        "# ファイル数を確認\n",
        "print(count)"
      ],
      "execution_count": 4,
      "outputs": [
        {
          "output_type": "stream",
          "text": [
            "273\n"
          ],
          "name": "stdout"
        }
      ]
    }
  ]
}