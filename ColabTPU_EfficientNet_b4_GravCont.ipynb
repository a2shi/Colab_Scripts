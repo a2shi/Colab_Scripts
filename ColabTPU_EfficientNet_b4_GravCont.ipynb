{
  "nbformat": 4,
  "nbformat_minor": 0,
  "metadata": {
    "colab": {
      "name": "Untitled31.ipynb",
      "provenance": [],
      "authorship_tag": "ABX9TyNUV4ux0XsOx+nhMWnG7x7s",
      "include_colab_link": true
    },
    "kernelspec": {
      "name": "python3",
      "display_name": "Python 3"
    },
    "accelerator": "TPU",
    "widgets": {
      "application/vnd.jupyter.widget-state+json": {
        "b2ffd7a2057d48319e5593b4a7e83570": {
          "model_module": "@jupyter-widgets/controls",
          "model_name": "HBoxModel",
          "state": {
            "_view_name": "HBoxView",
            "_dom_classes": [],
            "_model_name": "HBoxModel",
            "_view_module": "@jupyter-widgets/controls",
            "_model_module_version": "1.5.0",
            "_view_count": null,
            "_view_module_version": "1.5.0",
            "box_style": "",
            "layout": "IPY_MODEL_5f399d5cfc2a490480bf220e18150b9c",
            "_model_module": "@jupyter-widgets/controls",
            "children": [
              "IPY_MODEL_d362b5487d884bc484eec46bf42525d8",
              "IPY_MODEL_befb05ab04584cde987735d84ab7ac59"
            ]
          }
        },
        "5f399d5cfc2a490480bf220e18150b9c": {
          "model_module": "@jupyter-widgets/base",
          "model_name": "LayoutModel",
          "state": {
            "_view_name": "LayoutView",
            "grid_template_rows": null,
            "right": null,
            "justify_content": null,
            "_view_module": "@jupyter-widgets/base",
            "overflow": null,
            "_model_module_version": "1.2.0",
            "_view_count": null,
            "flex_flow": null,
            "width": null,
            "min_width": null,
            "border": null,
            "align_items": null,
            "bottom": null,
            "_model_module": "@jupyter-widgets/base",
            "top": null,
            "grid_column": null,
            "overflow_y": null,
            "overflow_x": null,
            "grid_auto_flow": null,
            "grid_area": null,
            "grid_template_columns": null,
            "flex": null,
            "_model_name": "LayoutModel",
            "justify_items": null,
            "grid_row": null,
            "max_height": null,
            "align_content": null,
            "visibility": null,
            "align_self": null,
            "height": null,
            "min_height": null,
            "padding": null,
            "grid_auto_rows": null,
            "grid_gap": null,
            "max_width": null,
            "order": null,
            "_view_module_version": "1.2.0",
            "grid_template_areas": null,
            "object_position": null,
            "object_fit": null,
            "grid_auto_columns": null,
            "margin": null,
            "display": null,
            "left": null
          }
        },
        "d362b5487d884bc484eec46bf42525d8": {
          "model_module": "@jupyter-widgets/controls",
          "model_name": "FloatProgressModel",
          "state": {
            "_view_name": "ProgressView",
            "style": "IPY_MODEL_e056d6370b414c74875164d2072bf39c",
            "_dom_classes": [],
            "description": "100%",
            "_model_name": "FloatProgressModel",
            "bar_style": "success",
            "max": 77999237,
            "_view_module": "@jupyter-widgets/controls",
            "_model_module_version": "1.5.0",
            "value": 77999237,
            "_view_count": null,
            "_view_module_version": "1.5.0",
            "orientation": "horizontal",
            "min": 0,
            "description_tooltip": null,
            "_model_module": "@jupyter-widgets/controls",
            "layout": "IPY_MODEL_8ca0a74ef4aa4724833e7ac937a4e0c4"
          }
        },
        "befb05ab04584cde987735d84ab7ac59": {
          "model_module": "@jupyter-widgets/controls",
          "model_name": "HTMLModel",
          "state": {
            "_view_name": "HTMLView",
            "style": "IPY_MODEL_96c4181ffcda4ef4ba4c9790b8fea99c",
            "_dom_classes": [],
            "description": "",
            "_model_name": "HTMLModel",
            "placeholder": "​",
            "_view_module": "@jupyter-widgets/controls",
            "_model_module_version": "1.5.0",
            "value": " 74.4M/74.4M [00:00&lt;00:00, 81.2MB/s]",
            "_view_count": null,
            "_view_module_version": "1.5.0",
            "description_tooltip": null,
            "_model_module": "@jupyter-widgets/controls",
            "layout": "IPY_MODEL_81a49ed9c0eb47cb93a4bda333bf7724"
          }
        },
        "e056d6370b414c74875164d2072bf39c": {
          "model_module": "@jupyter-widgets/controls",
          "model_name": "ProgressStyleModel",
          "state": {
            "_view_name": "StyleView",
            "_model_name": "ProgressStyleModel",
            "description_width": "initial",
            "_view_module": "@jupyter-widgets/base",
            "_model_module_version": "1.5.0",
            "_view_count": null,
            "_view_module_version": "1.2.0",
            "bar_color": null,
            "_model_module": "@jupyter-widgets/controls"
          }
        },
        "8ca0a74ef4aa4724833e7ac937a4e0c4": {
          "model_module": "@jupyter-widgets/base",
          "model_name": "LayoutModel",
          "state": {
            "_view_name": "LayoutView",
            "grid_template_rows": null,
            "right": null,
            "justify_content": null,
            "_view_module": "@jupyter-widgets/base",
            "overflow": null,
            "_model_module_version": "1.2.0",
            "_view_count": null,
            "flex_flow": null,
            "width": null,
            "min_width": null,
            "border": null,
            "align_items": null,
            "bottom": null,
            "_model_module": "@jupyter-widgets/base",
            "top": null,
            "grid_column": null,
            "overflow_y": null,
            "overflow_x": null,
            "grid_auto_flow": null,
            "grid_area": null,
            "grid_template_columns": null,
            "flex": null,
            "_model_name": "LayoutModel",
            "justify_items": null,
            "grid_row": null,
            "max_height": null,
            "align_content": null,
            "visibility": null,
            "align_self": null,
            "height": null,
            "min_height": null,
            "padding": null,
            "grid_auto_rows": null,
            "grid_gap": null,
            "max_width": null,
            "order": null,
            "_view_module_version": "1.2.0",
            "grid_template_areas": null,
            "object_position": null,
            "object_fit": null,
            "grid_auto_columns": null,
            "margin": null,
            "display": null,
            "left": null
          }
        },
        "96c4181ffcda4ef4ba4c9790b8fea99c": {
          "model_module": "@jupyter-widgets/controls",
          "model_name": "DescriptionStyleModel",
          "state": {
            "_view_name": "StyleView",
            "_model_name": "DescriptionStyleModel",
            "description_width": "",
            "_view_module": "@jupyter-widgets/base",
            "_model_module_version": "1.5.0",
            "_view_count": null,
            "_view_module_version": "1.2.0",
            "_model_module": "@jupyter-widgets/controls"
          }
        },
        "81a49ed9c0eb47cb93a4bda333bf7724": {
          "model_module": "@jupyter-widgets/base",
          "model_name": "LayoutModel",
          "state": {
            "_view_name": "LayoutView",
            "grid_template_rows": null,
            "right": null,
            "justify_content": null,
            "_view_module": "@jupyter-widgets/base",
            "overflow": null,
            "_model_module_version": "1.2.0",
            "_view_count": null,
            "flex_flow": null,
            "width": null,
            "min_width": null,
            "border": null,
            "align_items": null,
            "bottom": null,
            "_model_module": "@jupyter-widgets/base",
            "top": null,
            "grid_column": null,
            "overflow_y": null,
            "overflow_x": null,
            "grid_auto_flow": null,
            "grid_area": null,
            "grid_template_columns": null,
            "flex": null,
            "_model_name": "LayoutModel",
            "justify_items": null,
            "grid_row": null,
            "max_height": null,
            "align_content": null,
            "visibility": null,
            "align_self": null,
            "height": null,
            "min_height": null,
            "padding": null,
            "grid_auto_rows": null,
            "grid_gap": null,
            "max_width": null,
            "order": null,
            "_view_module_version": "1.2.0",
            "grid_template_areas": null,
            "object_position": null,
            "object_fit": null,
            "grid_auto_columns": null,
            "margin": null,
            "display": null,
            "left": null
          }
        }
      }
    }
  },
  "cells": [
    {
      "cell_type": "markdown",
      "metadata": {
        "id": "view-in-github",
        "colab_type": "text"
      },
      "source": [
        "<a href=\"https://colab.research.google.com/github/ykitaguchi77/Colab_Scripts/blob/master/ColabTPU_EfficientNet_b4_GravCont.ipynb\" target=\"_parent\"><img src=\"https://colab.research.google.com/assets/colab-badge.svg\" alt=\"Open In Colab\"/></a>"
      ]
    },
    {
      "cell_type": "markdown",
      "metadata": {
        "id": "B-a4ZBlqPNdU",
        "colab_type": "text"
      },
      "source": [
        "#**GravCont: EfficientNet_b4_ImageNet**"
      ]
    },
    {
      "cell_type": "code",
      "metadata": {
        "id": "NAq_ug_eIcU2",
        "colab_type": "code",
        "colab": {}
      },
      "source": [
        "# Crash on purpose to get more ram :\n",
        "import torch\n",
        "torch.tensor([10.]*10000000000)"
      ],
      "execution_count": null,
      "outputs": []
    },
    {
      "cell_type": "code",
      "metadata": {
        "id": "INhcMrug6PQ8",
        "colab_type": "code",
        "colab": {
          "base_uri": "https://localhost:8080/",
          "height": 872
        },
        "outputId": "5a53ac69-6a3f-4372-eb32-bc148b8c7db1"
      },
      "source": [
        "VERSION = \"20200325\"  #@param [\"1.5\" , \"20200325\", \"nightly\"]\n",
        "!curl https://raw.githubusercontent.com/pytorch/xla/master/contrib/scripts/env-setup.py -o pytorch-xla-env-setup.py\n",
        "!python pytorch-xla-env-setup.py --version $VERSION"
      ],
      "execution_count": 1,
      "outputs": [
        {
          "output_type": "stream",
          "text": [
            "  % Total    % Received % Xferd  Average Speed   Time    Time     Time  Current\n",
            "                                 Dload  Upload   Total   Spent    Left  Speed\n",
            "100  4264  100  4264    0     0  14703      0 --:--:-- --:--:-- --:--:-- 14703\n",
            "Updating TPU and VM. This may take around 2 minutes.\n",
            "Updating TPU runtime to pytorch-dev20200325 ...\n",
            "Uninstalling torch-1.6.0a0+d1a0e88:\n",
            "  Successfully uninstalled torch-1.6.0a0+d1a0e88\n",
            "Uninstalling torchvision-0.7.0a0+148bac2:\n",
            "  Successfully uninstalled torchvision-0.7.0a0+148bac2\n",
            "Copying gs://tpu-pytorch/wheels/torch-nightly+20200325-cp36-cp36m-linux_x86_64.whl...\n",
            "- [1 files][ 83.4 MiB/ 83.4 MiB]                                                \n",
            "Operation completed over 1 objects/83.4 MiB.                                     \n",
            "Copying gs://tpu-pytorch/wheels/torch_xla-nightly+20200325-cp36-cp36m-linux_x86_64.whl...\n",
            "\\ [1 files][114.5 MiB/114.5 MiB]                                                \n",
            "Operation completed over 1 objects/114.5 MiB.                                    \n",
            "Copying gs://tpu-pytorch/wheels/torchvision-nightly+20200325-cp36-cp36m-linux_x86_64.whl...\n",
            "/ [1 files][  2.5 MiB/  2.5 MiB]                                                \n",
            "Operation completed over 1 objects/2.5 MiB.                                      \n",
            "Processing ./torch-nightly+20200325-cp36-cp36m-linux_x86_64.whl\n",
            "Requirement already satisfied: numpy in /usr/local/lib/python3.6/dist-packages (from torch==nightly+20200325) (1.18.5)\n",
            "Requirement already satisfied: future in /usr/local/lib/python3.6/dist-packages (from torch==nightly+20200325) (0.16.0)\n",
            "\u001b[31mERROR: fastai 1.0.61 requires torchvision, which is not installed.\u001b[0m\n",
            "Installing collected packages: torch\n",
            "Done updating TPU runtime: <Response [200]>\n",
            "Successfully installed torch-1.5.0a0+d6149a7\n",
            "Processing ./torch_xla-nightly+20200325-cp36-cp36m-linux_x86_64.whl\n",
            "Installing collected packages: torch-xla\n",
            "  Found existing installation: torch-xla 1.6+308f0f6\n",
            "    Uninstalling torch-xla-1.6+308f0f6:\n",
            "      Successfully uninstalled torch-xla-1.6+308f0f6\n",
            "Successfully installed torch-xla-1.6+e788e5b\n",
            "Processing ./torchvision-nightly+20200325-cp36-cp36m-linux_x86_64.whl\n",
            "Requirement already satisfied: six in /usr/local/lib/python3.6/dist-packages (from torchvision==nightly+20200325) (1.12.0)\n",
            "Requirement already satisfied: pillow>=4.1.1 in /usr/local/lib/python3.6/dist-packages (from torchvision==nightly+20200325) (7.0.0)\n",
            "Requirement already satisfied: torch in /usr/local/lib/python3.6/dist-packages (from torchvision==nightly+20200325) (1.5.0a0+d6149a7)\n",
            "Requirement already satisfied: numpy in /usr/local/lib/python3.6/dist-packages (from torchvision==nightly+20200325) (1.18.5)\n",
            "Requirement already satisfied: future in /usr/local/lib/python3.6/dist-packages (from torch->torchvision==nightly+20200325) (0.16.0)\n",
            "Installing collected packages: torchvision\n",
            "Successfully installed torchvision-0.6.0a0+3c254fb\n",
            "Reading package lists... Done\n",
            "Building dependency tree       \n",
            "Reading state information... Done\n",
            "libomp5 is already the newest version (5.0.1-1).\n",
            "The following package was automatically installed and is no longer required:\n",
            "  libnvidia-common-440\n",
            "Use 'apt autoremove' to remove it.\n",
            "0 upgraded, 0 newly installed, 0 to remove and 59 not upgraded.\n"
          ],
          "name": "stdout"
        }
      ]
    },
    {
      "cell_type": "code",
      "metadata": {
        "id": "46ODAXh76WMx",
        "colab_type": "code",
        "colab": {
          "base_uri": "https://localhost:8080/",
          "height": 35
        },
        "outputId": "244da67b-661a-4279-8c2d-0a7bbb99244b"
      },
      "source": [
        "# imports pytorch\n",
        "import torch\n",
        "# imports the torch_xla package\n",
        "import torch_xla\n",
        "import torch_xla.core.xla_model as xm\n",
        "device = xm.xla_device()\n",
        "\n",
        "print(device)"
      ],
      "execution_count": 2,
      "outputs": [
        {
          "output_type": "stream",
          "text": [
            "xla:1\n"
          ],
          "name": "stdout"
        }
      ]
    },
    {
      "cell_type": "markdown",
      "metadata": {
        "id": "Jzp_09fWPNoU",
        "colab_type": "text"
      },
      "source": [
        "#**モジュール群**"
      ]
    },
    {
      "cell_type": "code",
      "metadata": {
        "id": "RxgHddWH8UB0",
        "colab_type": "code",
        "colab": {}
      },
      "source": [
        "import torchvision\n",
        "from torchvision import datasets, models, transforms\n",
        "import os\n",
        "import time\n",
        "import copy\n",
        "#import math\n",
        "#import shutil\n",
        "import numpy as np\n",
        "import matplotlib.pyplot as plt\n",
        "%matplotlib inline\n",
        "\n",
        "import torch\n",
        "import torch.nn as nn\n",
        "\n",
        "import torch.optim as optim\n",
        "from torch.optim import lr_scheduler\n",
        "\n",
        "#サポートパッチのインポート\n",
        "from google.colab.patches import cv2_imshow\n",
        "import cv2"
      ],
      "execution_count": 3,
      "outputs": []
    },
    {
      "cell_type": "code",
      "metadata": {
        "id": "v4zLYodS8fyZ",
        "colab_type": "code",
        "colab": {
          "base_uri": "https://localhost:8080/",
          "height": 128
        },
        "outputId": "323b941d-2fc7-47ba-b7dd-6e0bc9a00730"
      },
      "source": [
        "#google driveをcolabolatoryにマウント\n",
        "from google.colab import drive\n",
        "drive.mount('/content/drive')"
      ],
      "execution_count": 4,
      "outputs": [
        {
          "output_type": "stream",
          "text": [
            "Go to this URL in a browser: https://accounts.google.com/o/oauth2/auth?client_id=947318989803-6bn6qk8qdgf4n4g3pfee6491hc0brc4i.apps.googleusercontent.com&redirect_uri=urn%3aietf%3awg%3aoauth%3a2.0%3aoob&response_type=code&scope=email%20https%3a%2f%2fwww.googleapis.com%2fauth%2fdocs.test%20https%3a%2f%2fwww.googleapis.com%2fauth%2fdrive%20https%3a%2f%2fwww.googleapis.com%2fauth%2fdrive.photos.readonly%20https%3a%2f%2fwww.googleapis.com%2fauth%2fpeopleapi.readonly\n",
            "\n",
            "Enter your authorization code:\n",
            "··········\n",
            "Mounted at /content/drive\n"
          ],
          "name": "stdout"
        }
      ]
    },
    {
      "cell_type": "code",
      "metadata": {
        "id": "u7sJV06qPNsM",
        "colab_type": "code",
        "colab": {
          "base_uri": "https://localhost:8080/",
          "height": 165
        },
        "outputId": "aa105057-dd69-43d1-8c9b-c75d2566ef00"
      },
      "source": [
        "# 入力画像の前処理をするクラス\n",
        "# 訓練時と推論時で処理が異なる\n",
        "\n",
        "\"\"\"\n",
        "    画像の前処理クラス。訓練時、検証時で異なる動作をする。\n",
        "    画像のサイズをリサイズし、色を標準化する。\n",
        "    訓練時はRandomResizedCropとRandomHorizontalFlipでデータオーギュメンテーションする。\n",
        "\n",
        "\n",
        "    Attributes\n",
        "    ----------\n",
        "    resize : int\n",
        "        リサイズ先の画像の大きさ。\n",
        "    mean : (R, G, B)\n",
        "        各色チャネルの平均値。\n",
        "    std : (R, G, B)\n",
        "        各色チャネルの標準偏差。\n",
        "\"\"\"\n",
        "\n",
        "data_transforms = {\n",
        "    'train': transforms.Compose([\n",
        "        transforms.RandomResizedCrop(224, scale=(0.75,1.0)),\n",
        "        transforms.RandomHorizontalFlip(),\n",
        "        transforms.ToTensor(),\n",
        "        transforms.Normalize([0.485, 0.456, 0.406], [0.229, 0.224, 0.225])\n",
        "    ]),\n",
        "    'val': transforms.Compose([\n",
        "        transforms.Resize(224),\n",
        "        transforms.ToTensor(),\n",
        "        transforms.Normalize([0.485, 0.456, 0.406], [0.229, 0.224, 0.225])\n",
        "    ]),\n",
        "}\n",
        "\n",
        "data_dir = '/content/drive/My Drive/Deep_learning/gravcont_seed_1234'\n",
        "n_samples = len(data_dir)\n",
        "\n",
        "image_datasets = {x: datasets.ImageFolder(os.path.join(data_dir, x),\n",
        "                                          data_transforms[x])\n",
        "                  for x in ['train', 'val']}\n",
        "dataloaders = {x: torch.utils.data.DataLoader(image_datasets[x], batch_size=512,\n",
        "                                             shuffle=True, num_workers=4)\n",
        "              for x in ['train', 'val']}\n",
        "dataset_sizes = {x: len(image_datasets[x]) for x in ['train', 'val']}\n",
        "class_names = image_datasets['train'].classes\n",
        "\n",
        "\n",
        "\n",
        "print(class_names)\n",
        "k=0\n",
        "for i in class_names:\n",
        "    print(class_names[k]+\"_train:\"+str(len(os.listdir(path='/content/drive/My Drive/Deep_learning/gravcont_seed_1234/train/'+class_names[k]))))\n",
        "    k+=1\n",
        "k=0\n",
        "for i in class_names:\n",
        "    print(class_names[k]+\"_val:\"+str(len(os.listdir(path='/content/drive/My Drive/Deep_learning/gravcont_seed_1234/val/'+class_names[k]))))\n",
        "    k+=1\n",
        "\n",
        "print(\"training data set_total：\"+ str(len(image_datasets['train'])))\n",
        "print(\"validating data set_total：\"+str(len(image_datasets['val'])))\n",
        "\n",
        "\n",
        "#少数の画像を可視化\n",
        "def imshow(inp, title=None):\n",
        "    \"\"\"Imshow for Tensor.\"\"\"\n",
        "    inp = inp.numpy().transpose((1, 2, 0))\n",
        "    mean = np.array([0.485, 0.456, 0.406])\n",
        "    std = np.array([0.229, 0.224, 0.225])\n",
        "    inp = std * inp + mean\n",
        "    inp = np.clip(inp, 0, 1)\n",
        "    plt.imshow(inp)\n",
        "    if title is not None:\n",
        "        plt.title(title)\n",
        "    plt.pause(0.001)  # pause a bit so that plots are updated\n",
        "\n",
        "\n",
        "# Get a batch of training data\n",
        "inputs, classes = next(iter(dataloaders['train']))\n",
        "\n",
        "# Make a grid from batch\n",
        "out = torchvision.utils.make_grid(inputs)\n",
        "\n",
        "imshow(out, title=[class_names[x] for x in classes])\n",
        "\n",
        "\n",
        "#Defining early stopping class\n",
        "import numpy as np\n",
        "import torch\n",
        "\n",
        "class EarlyStopping:\n",
        "    \"\"\"Early stops the training if validation loss doesn't improve after a given patience.\"\"\"\n",
        "    def __init__(self, patience=7, verbose=False, delta=0):\n",
        "        \"\"\"\n",
        "        Args:\n",
        "            patience (int): How long to wait after last time validation loss improved.\n",
        "                            Default: 7\n",
        "            verbose (bool): If True, prints a message for each validation loss improvement. \n",
        "                            Default: False\n",
        "            delta (float): Minimum change in the monitored quantity to qualify as an improvement.\n",
        "                            Default: 0\n",
        "        \"\"\"\n",
        "        self.patience = patience\n",
        "        self.verbose = verbose\n",
        "        self.counter = 0\n",
        "        self.best_score = None\n",
        "        self.early_stop = False\n",
        "        self.val_loss_min = np.Inf\n",
        "        self.delta = delta\n",
        "\n",
        "    def __call__(self, val_loss, model):\n",
        "\n",
        "        score = -val_loss\n",
        "\n",
        "        if self.best_score is None:\n",
        "            self.best_score = score\n",
        "            self.save_checkpoint(val_loss, model)\n",
        "        elif score < self.best_score + self.delta:\n",
        "            self.counter += 1\n",
        "            print(f'EarlyStopping counter: {self.counter} out of {self.patience}')\n",
        "            if self.counter >= self.patience:\n",
        "                self.early_stop = True\n",
        "        else:\n",
        "            self.best_score = score\n",
        "            self.save_checkpoint(val_loss, model)\n",
        "            self.counter = 0\n",
        "\n",
        "    def save_checkpoint(self, val_loss, model):\n",
        "        '''Saves model when validation loss decrease.'''\n",
        "        if self.verbose:\n",
        "            print(f'Validation loss decreased ({self.val_loss_min:.6f} --> {val_loss:.6f}).  Saving model ...')\n",
        "        torch.save(model.state_dict(), 'checkpoint.pt')\n",
        "        self.val_loss_min = val_loss\n",
        "\n",
        "\n",
        "#Train models\n",
        "def train_model(model, criterion, optimizer, scheduler, patience, num_epochs):\n",
        "    since = time.time()\n",
        "\n",
        "    best_model_wts = copy.deepcopy(model.state_dict())\n",
        "    best_acc = 0.0\n",
        "\n",
        "    # to track the training loss as the model trains\n",
        "    train_loss = []\n",
        "    # to track the validation loss as the model trains\n",
        "    valid_loss = []\n",
        "\n",
        "\n",
        "    # initialize the early_stopping object\n",
        "    early_stopping = EarlyStopping(patience=patience, verbose=True)\n",
        "\n",
        "    for epoch in range(num_epochs):\n",
        "        print('Epoch {}/{}'.format(epoch, num_epochs - 1))\n",
        "        print('-' * 10)\n",
        "\n",
        "        # Each epoch has a training and validation phase\n",
        "        for phase in ['train', 'val']:\n",
        "            if phase == 'train':\n",
        "                model.train()  # Set model to training mode\n",
        "            else:\n",
        "                model.eval()   # Set model to evaluate mode\n",
        "\n",
        "            running_loss = 0.0\n",
        "            running_corrects = 0\n",
        "\n",
        "            # Iterate over data.\n",
        "            for inputs, labels in dataloaders[phase]:\n",
        "                inputs = inputs.to(device)\n",
        "                labels = labels.to(device)\n",
        "\n",
        "                # zero the parameter gradients\n",
        "                optimizer.zero_grad()\n",
        "\n",
        "                # forward\n",
        "                # track history if only in train\n",
        "                with torch.set_grad_enabled(phase == 'train'):\n",
        "                    outputs = model(inputs)\n",
        "                    _, preds = torch.max(outputs, 1)\n",
        "                    loss = criterion(outputs, labels)\n",
        "\n",
        "                    # backward + optimize only if in training phase\n",
        "                    if phase == 'train':\n",
        "                        loss.backward()\n",
        "                        optimizer.step()\n",
        "\n",
        "                # statistics\n",
        "                running_loss += loss.item() * inputs.size(0)\n",
        "                running_corrects += torch.sum(preds == labels.data)\n",
        "\n",
        "            epoch_loss = running_loss / dataset_sizes[phase]\n",
        "            epoch_acc = running_corrects.double() / dataset_sizes[phase] \n",
        "            \n",
        "            # record train_loss and valid_loss\n",
        "            if phase == 'train':\n",
        "                train_loss.append(epoch_loss)\n",
        "                scheduler.step()\n",
        "                print('epoch:{}, lr:{}'.format(epoch, scheduler.get_lr()[0]))\n",
        "            if phase == 'val':\n",
        "                valid_loss.append(epoch_loss)\n",
        "            #print(train_loss)\n",
        "            #print(valid_loss)\n",
        "\n",
        "            print('{} Loss: {:.4f} Acc: {:.4f}'.format(\n",
        "                phase, epoch_loss, epoch_acc))\n",
        "\n",
        "\n",
        "            # deep copy the model\n",
        "            if phase == 'val' and epoch_acc > best_acc:\n",
        "                best_acc = epoch_acc\n",
        "                best_model_wts = copy.deepcopy(model.state_dict())\n",
        "      \n",
        "      # early_stopping needs the validation loss to check if it has decresed, \n",
        "      # and if it has, it will make a checkpoint of the current model\n",
        "        if phase == 'val':    \n",
        "            early_stopping(epoch_loss, model)\n",
        "                \n",
        "            if early_stopping.early_stop:\n",
        "                print(\"Early stopping\")\n",
        "                break\n",
        "        print()\n",
        "\n",
        "\n",
        "    time_elapsed = time.time() - since\n",
        "    print('Training complete in {:.0f}m {:.0f}s'.format(\n",
        "        time_elapsed // 60, time_elapsed % 60))\n",
        "    print('Best val Acc: {:4f}'.format(best_acc))\n",
        "\n",
        "    # load best model weights\n",
        "    model.load_state_dict(best_model_wts)\n",
        "    return model, train_loss, valid_loss\n",
        "\n",
        "\n",
        "#Visualize model\n",
        "def visualize_model(model, num_images=6):\n",
        "    was_training = model.training\n",
        "    model.eval()\n",
        "    images_so_far = 0\n",
        "    fig = plt.figure()\n",
        "\n",
        "    with torch.no_grad():\n",
        "        for i, (inputs, labels) in enumerate(dataloaders['val']):\n",
        "            inputs = inputs.to(device)\n",
        "            labels = labels.to(device)\n",
        "\n",
        "            outputs = model(inputs)\n",
        "            _, preds = torch.max(outputs, 1)\n",
        "\n",
        "            for j in range(inputs.size()[0]):\n",
        "                images_so_far += 1\n",
        "                ax = plt.subplot(num_images//2, 2, images_so_far)\n",
        "                ax.axis('off')\n",
        "                ax.set_title('predicted: {}'.format(class_names[preds[j]]))\n",
        "                imshow(inputs.cpu().data[j])\n",
        "\n",
        "                if images_so_far == num_images:\n",
        "                    model.train(mode=was_training)\n",
        "                    return\n",
        "        model.train(mode=was_training)\n",
        "\n",
        "\n",
        "#LRschedulerのバグ修正\n",
        "#https://colab.research.google.com/drive/1idL-NPUvomAWzj_EVn2QccQVwQgEoGrJ\n",
        "\n",
        "_LRScheduler = torch.optim.lr_scheduler._LRScheduler\n",
        "\n",
        "class StepLR(_LRScheduler):\n",
        "    def __init__(self, optimizer, step_size, gamma=0.1, last_epoch=-1):\n",
        "        self.step_size = step_size\n",
        "        self.gamma = gamma\n",
        "        super(StepLR, self).__init__(optimizer, last_epoch)\n",
        "\n",
        "    def get_lr(self):\n",
        "        return [base_lr * self.gamma ** (self.last_epoch // self.step_size)\n",
        "                for base_lr in self.base_lrs]\n",
        "\n",
        "\n",
        "class MultiStepLR(_LRScheduler):\n",
        "    def __init__(self, optimizer, milestones, gamma=0.1, last_epoch=-1):\n",
        "        if not list(milestones) == sorted(milestones):\n",
        "            raise ValueError('Milestones should be a list of'\n",
        "                             ' increasing integers. Got {}', milestones)\n",
        "        self.milestones = milestones\n",
        "        self.gamma = gamma\n",
        "        super(MultiStepLR, self).__init__(optimizer, last_epoch)\n",
        "\n",
        "    def get_lr(self):\n",
        "        return [base_lr * self.gamma ** bisect_right(self.milestones, self.last_epoch)\n",
        "                for base_lr in self.base_lrs]"
      ],
      "execution_count": 9,
      "outputs": [
        {
          "output_type": "stream",
          "text": [
            "['cont', 'grav']\n",
            "cont_train:256\n",
            "grav_train:252\n",
            "cont_val:65\n",
            "grav_val:63\n",
            "training data set_total：508\n",
            "validating data set_total：128\n"
          ],
          "name": "stdout"
        },
        {
          "output_type": "display_data",
          "data": {
            "image/png": "[encoded data removed]",
            "text/plain": [
              "<Figure size 432x288 with 1 Axes>"
            ]
          },
          "metadata": {
            "tags": [],
            "needs_background": "light"
          }
        }
      ]
    },
    {
      "cell_type": "code",
      "metadata": {
        "id": "8gqs6JVmA9TE",
        "colab_type": "code",
        "colab": {
          "base_uri": "https://localhost:8080/",
          "height": 35
        },
        "outputId": "7c37a993-57e8-44d6-e6b7-4d4865bb108d"
      },
      "source": [
        "print(device)"
      ],
      "execution_count": 8,
      "outputs": [
        {
          "output_type": "stream",
          "text": [
            "xla:1\n"
          ],
          "name": "stdout"
        }
      ]
    },
    {
      "cell_type": "markdown",
      "metadata": {
        "id": "aOknPnbZP8mf",
        "colab_type": "text"
      },
      "source": [
        "#define EfficientNet (ここは不要）\n",
        "\n"
      ]
    },
    {
      "cell_type": "code",
      "metadata": {
        "id": "c5jyqWVVP8sE",
        "colab_type": "code",
        "colab": {}
      },
      "source": [
        "# Swish activation    \n",
        "class Swish(nn.Module):                                    \n",
        "    def forward(self, x):\n",
        "        return x * torch.sigmoid(x)\n",
        "\n",
        "\n",
        "# Squeeze Excitation module\n",
        "class SEblock(nn.Module):                                 \n",
        "    def __init__(self, ch_in, ch_sq):\n",
        "        super(SEblock, self).__init__()\n",
        "        self.se = nn.Sequential(\n",
        "            nn.AdaptiveAvgPool2d(1),\n",
        "            nn.Conv2d(ch_in, ch_sq, 1),\n",
        "            Swish(),\n",
        "            nn.Conv2d(ch_sq, ch_in, 1),\n",
        "        )\n",
        "        self.se.apply(weights_init)\n",
        "\n",
        "    def forward(self, x):\n",
        "        return x * torch.sigmoid(self.se(x))\n",
        "\n",
        "def weights_init(m):\n",
        "    if isinstance(m, nn.Conv2d):\n",
        "        nn.init.kaiming_normal_(m.weight)\n",
        "\n",
        "    if isinstance(m, nn.Linear):\n",
        "        nn.init.kaiming_uniform_(m.weight)\n",
        "        nn.init.zeros_(m.bias)\n",
        "\n",
        "\n",
        "#ConvBN module\n",
        "class ConvBN(nn.Module):\n",
        "    def __init__(self, ch_in, ch_out, kernel_size,\n",
        "                 stride=1, padding=0, groups=1):\n",
        "        super(ConvBN, self).__init__()\n",
        "        self.layers = nn.Sequential(\n",
        "                nn.Conv2d(ch_in, ch_out, kernel_size,\n",
        "                          stride, padding, groups=groups, bias=False),\n",
        "                nn.BatchNorm2d(ch_out),\n",
        "        )\n",
        "        self.layers.apply(weights_init)\n",
        "\n",
        "    def forward(self, x):\n",
        "        return self.layers(x)\n",
        "\n",
        "\n",
        "#Drop Connect layer\n",
        "class DropConnect(nn.Module):\n",
        "    def __init__(self, drop_rate):\n",
        "        super(DropConnect, self).__init__()\n",
        "        self.drop_rate = drop_rate\n",
        "\n",
        "    def forward(self, x):\n",
        "        if self.training:\n",
        "            keep_rate = 1.0 - self.drop_rate\n",
        "            r = torch.rand([x.size(0),1,1,1], dtype=x.dtype).to(x.device)\n",
        "            r += keep_rate\n",
        "            mask = r.floor()\n",
        "            return x.div(keep_rate) * mask\n",
        "        else:\n",
        "            return x\n",
        "\n",
        "\n",
        "#BM module\n",
        "class BMConvBlock(nn.Module):\n",
        "    def __init__(self, ch_in, ch_out,\n",
        "                 expand_ratio, stride, kernel_size,\n",
        "                 reduction_ratio=4, drop_connect_rate=0.2):\n",
        "        super(BMConvBlock, self).__init__()\n",
        "        self.use_residual = (ch_in==ch_out) & (stride==1)\n",
        "        ch_med = int(ch_in * expand_ratio)\n",
        "        ch_sq = max(1, ch_in//reduction_ratio)\n",
        "\n",
        "        # define network                                                        \n",
        "        if expand_ratio != 1.0:\n",
        "            layers = [ConvBN(ch_in, ch_med, 1),Swish()]\n",
        "        else:\n",
        "            layers = []\n",
        "\n",
        "        layers.extend([\n",
        "            ConvBN(ch_med, ch_med, kernel_size, stride=stride,\n",
        "                   padding=(kernel_size-1)//2, groups=ch_med), # depth-wise    \n",
        "            Swish(),\n",
        "            SEblock(ch_med, ch_sq), # Squeeze Excitation                        \n",
        "            ConvBN(ch_med, ch_out, 1), # pixel-wise                             \n",
        "        ])\n",
        "\n",
        "        if self.use_residual:\n",
        "            self.drop_connect = DropConnect(drop_connect_rate)\n",
        "\n",
        "        self.layers = nn.Sequential(*layers)\n",
        "\n",
        "    def forward(self, x):\n",
        "        if self.use_residual:\n",
        "            return x + self.drop_connect(self.layers(x))\n",
        "        else:\n",
        "            return self.layers(x)\n",
        "\n",
        "\n",
        "#Flatten layer\n",
        "class Flatten(nn.Module):\n",
        "    def forward(self, x):\n",
        "        return x.view(x.shape[0], -1)\n",
        "\n",
        "\n",
        "#EfficientNet\n",
        "class EfficientNet(nn.Module):\n",
        "    def __init__(self, width_mult=1.0, depth_mult=1.0,\n",
        "                 resolution=False, dropout_rate=0.2, \n",
        "                 input_ch=3, num_classes=1000):\n",
        "        super(EfficientNet, self).__init__()\n",
        "\n",
        "        # expand_ratio, channel, repeats, stride, kernel_size                   \n",
        "        settings = [\n",
        "            [1,  16, 1, 1, 3],  # MBConv1_3x3, SE, 112 -> 112                   \n",
        "            [6,  24, 2, 2, 3],  # MBConv6_3x3, SE, 112 ->  56                   \n",
        "            [6,  40, 2, 2, 5],  # MBConv6_5x5, SE,  56 ->  28                   \n",
        "            [6,  80, 3, 2, 3],  # MBConv6_3x3, SE,  28 ->  14                   \n",
        "            [6, 112, 3, 1, 5],  # MBConv6_5x5, SE,  14 ->  14                   \n",
        "            [6, 192, 4, 2, 5],  # MBConv6_5x5, SE,  14 ->   7                   \n",
        "            [6, 320, 1, 1, 3]   # MBConv6_3x3, SE,   7 ->   7]                  \n",
        "        ]\n",
        "\n",
        "        ch_out = int(math.ceil(32*width_mult))\n",
        "        features = [nn.AdaptiveAvgPool2d(resolution)] if resolution else []\n",
        "        features.extend([ConvBN(input_ch, ch_out, 3, stride=2), Swish()])\n",
        "\n",
        "        ch_in = ch_out\n",
        "        for t, c, n, s, k in settings:\n",
        "            ch_out  = int(math.ceil(c*width_mult))\n",
        "            repeats = int(math.ceil(n*depth_mult))\n",
        "            for i in range(repeats):\n",
        "                stride = s if i==0 else 1\n",
        "                features.extend([BMConvBlock(ch_in, ch_out, t, stride, k)])\n",
        "                ch_in = ch_out\n",
        "\n",
        "        ch_last = int(math.ceil(1280*width_mult))\n",
        "        features.extend([ConvBN(ch_in, ch_last, 1), Swish()])\n",
        "\n",
        "        self.features = nn.Sequential(*features)\n",
        "        self.classifier = nn.Sequential(\n",
        "            nn.AdaptiveAvgPool2d(1),\n",
        "            Flatten(),\n",
        "            nn.Dropout(dropout_rate))\n",
        "        self.fc = nn.Linear(ch_last, num_classes)\n",
        "\n",
        "    def forward(self, x):\n",
        "        x = self.features(x)\n",
        "        x = self.classifier(x)\n",
        "        x = self.fc(x)\n",
        "        return x\n",
        "\n",
        "\n",
        "#EfficientNetB0からB7まで\n",
        "def _efficientnet(w_mult, d_mult, resolution, drop_rate,\n",
        "                  input_ch, num_classes=1000):\n",
        "    model = EfficientNet(w_mult, d_mult,\n",
        "                         resolution, drop_rate,\n",
        "                         input_ch, num_classes)\n",
        "    return model\n",
        "\n",
        "\n",
        "def efficientnet_b0(input_ch=3, num_classes=1000):\n",
        "    #(w_mult, d_mult, resolution, droprate) = (1.0, 1.0, 224, 0.2)              \n",
        "    return _efficientnet(1.0, 1.0, None, 0.2, input_ch, num_classes)\n",
        "\n",
        "def efficientnet_b1(input_ch=3, num_classes=1000):\n",
        "    #(w_mult, d_mult, resolution, droprate) = (1.0, 1.1, 240, 0.2)              \n",
        "    return _efficientnet(1.0, 1.1, None, 0.2, input_ch, num_classes)\n",
        "\n",
        "def efficientnet_b2(input_ch=3, num_classes=1000):\n",
        "    #(w_mult, d_mult, resolution, droprate) = (1.1, 1.2, 260, 0.3)              \n",
        "    return _efficientnet(1.1, 1.2, None, 0.3, input_ch, num_classes)\n",
        "\n",
        "def efficientnet_b3(input_ch=3, num_classes=1000):\n",
        "    #(w_mult, d_mult, resolution, droprate) = (1.2, 1.4, 300, 0.3)              \n",
        "    return _efficientnet(1.2, 1.4, None, 0.3, input_ch, num_classes)\n",
        "\n",
        "def efficientnet_b4(input_ch=3, num_classes=1000):\n",
        "    #(w_mult, d_mult, resolution, droprate) = (1.4, 1.8, 380, 0.4)              \n",
        "    return _efficientnet(1.4, 1.8, None, 0.4, input_ch, num_classes)\n",
        "\n",
        "def efficientnet_b5(input_ch=3, num_classes=1000):\n",
        "    #(w_mult, d_mult, resolution, droprate) = (1.6, 2.2, 456, 0.4)              \n",
        "    return _efficientnet(1.6, 2.2, None, 0.4, input_ch, num_classes)\n",
        "\n",
        "def efficientnet_b6(input_ch=3, num_classes=1000):\n",
        "    #(w_mult, d_mult, resolution, droprate) = (1.8, 2.6, 528, 0.5)              \n",
        "    return _efficientnet(1.8, 2.6, None, 0.5, input_ch, num_classes)\n",
        "\n",
        "def efficientnet_b7(input_ch=3, num_classes=1000):\n",
        "    #(w_mult, d_mult, resolution, droprate) = (2.0, 3.1, 600, 0.5)              \n",
        "    return _efficientnet(2.0, 3.1, None, 0.5, input_ch, num_classes)"
      ],
      "execution_count": 7,
      "outputs": []
    },
    {
      "cell_type": "markdown",
      "metadata": {
        "id": "fvx3RgvOPNv0",
        "colab_type": "text"
      },
      "source": [
        "#**Convnetの調整**"
      ]
    },
    {
      "cell_type": "code",
      "metadata": {
        "id": "2KT4dB0bPNzs",
        "colab_type": "code",
        "colab": {
          "base_uri": "https://localhost:8080/",
          "height": 322,
          "referenced_widgets": [
            "b2ffd7a2057d48319e5593b4a7e83570",
            "5f399d5cfc2a490480bf220e18150b9c",
            "d362b5487d884bc484eec46bf42525d8",
            "befb05ab04584cde987735d84ab7ac59",
            "e056d6370b414c74875164d2072bf39c",
            "8ca0a74ef4aa4724833e7ac937a4e0c4",
            "96c4181ffcda4ef4ba4c9790b8fea99c",
            "81a49ed9c0eb47cb93a4bda333bf7724"
          ]
        },
        "outputId": "8fd56ccd-0974-4002-c69a-80ae02ba5487"
      },
      "source": [
        "!pip install efficientnet_pytorch\n",
        "from efficientnet_pytorch import EfficientNet \n",
        "\n",
        "model_ft = EfficientNet.from_pretrained('efficientnet-b4')\n",
        "num_ftrs = model_ft._fc.in_features\n",
        "model_ft._fc = nn.Linear(num_ftrs, 2)\n",
        "\n",
        "#GPU使用\n",
        "model_ft = model_ft.to(device)\n",
        "\n",
        "#損失関数を定義\n",
        "criterion = nn.CrossEntropyLoss()\n",
        "\n",
        "# Observe that all parameters are being optimized\n",
        "optimizer_ft = optim.SGD(model_ft.parameters(), lr=0.01, momentum=0.9)\n",
        "\n",
        "# Decay LR by a factor of 0.1 every 7 epochs\n",
        "exp_lr_scheduler = lr_scheduler.MultiStepLR(optimizer_ft, milestones=[5, 12, 20, 30], gamma=0.1)\n",
        "#exp_lr_scheduler = lr_scheduler.StepLR(optimizer_ft, step_size=7, gamma=0.1)"
      ],
      "execution_count": 10,
      "outputs": [
        {
          "output_type": "stream",
          "text": [
            "Collecting efficientnet_pytorch\n",
            "  Downloading https://files.pythonhosted.org/packages/b8/cb/0309a6e3d404862ae4bc017f89645cf150ac94c14c88ef81d215c8e52925/efficientnet_pytorch-0.6.3.tar.gz\n",
            "Requirement already satisfied: torch in /usr/local/lib/python3.6/dist-packages (from efficientnet_pytorch) (1.5.0a0+d6149a7)\n",
            "Requirement already satisfied: future in /usr/local/lib/python3.6/dist-packages (from torch->efficientnet_pytorch) (0.16.0)\n",
            "Requirement already satisfied: numpy in /usr/local/lib/python3.6/dist-packages (from torch->efficientnet_pytorch) (1.18.5)\n",
            "Building wheels for collected packages: efficientnet-pytorch\n",
            "  Building wheel for efficientnet-pytorch (setup.py) ... \u001b[?25l\u001b[?25hdone\n",
            "  Created wheel for efficientnet-pytorch: filename=efficientnet_pytorch-0.6.3-cp36-none-any.whl size=12422 sha256=3784c4220a86d14068795ff3cffe81b79f9e8bb99db9ba4908cce3f83b1fb855\n",
            "  Stored in directory: /root/.cache/pip/wheels/42/1e/a9/2a578ba9ad04e776e80bf0f70d8a7f4c29ec0718b92d8f6ccd\n",
            "Successfully built efficientnet-pytorch\n",
            "Installing collected packages: efficientnet-pytorch\n",
            "Successfully installed efficientnet-pytorch-0.6.3\n"
          ],
          "name": "stdout"
        },
        {
          "output_type": "stream",
          "text": [
            "Downloading: \"https://github.com/lukemelas/EfficientNet-PyTorch/releases/download/1.0/efficientnet-b4-6ed6700e.pth\" to /root/.cache/torch/checkpoints/efficientnet-b4-6ed6700e.pth\n"
          ],
          "name": "stderr"
        },
        {
          "output_type": "display_data",
          "data": {
            "application/vnd.jupyter.widget-view+json": {
              "model_id": "b2ffd7a2057d48319e5593b4a7e83570",
              "version_minor": 0,
              "version_major": 2
            },
            "text/plain": [
              "HBox(children=(FloatProgress(value=0.0, max=77999237.0), HTML(value='')))"
            ]
          },
          "metadata": {
            "tags": []
          }
        },
        {
          "output_type": "stream",
          "text": [
            "\n",
            "Loaded pretrained weights for efficientnet-b4\n"
          ],
          "name": "stdout"
        }
      ]
    },
    {
      "cell_type": "markdown",
      "metadata": {
        "id": "1du9txkSPN20",
        "colab_type": "text"
      },
      "source": [
        "#**訓練と評価**"
      ]
    },
    {
      "cell_type": "code",
      "metadata": {
        "id": "3UpcgsmxPN6l",
        "colab_type": "code",
        "colab": {
          "base_uri": "https://localhost:8080/",
          "height": 1000
        },
        "outputId": "147959a9-2c6a-42a3-cdc4-803dfb678679"
      },
      "source": [
        "model_ft, train_loss, valid_loss = train_model(model_ft, criterion, optimizer_ft, exp_lr_scheduler, patience=5, num_epochs=50)"
      ],
      "execution_count": 11,
      "outputs": [
        {
          "output_type": "stream",
          "text": [
            "Epoch 0/49\n",
            "----------\n"
          ],
          "name": "stdout"
        },
        {
          "output_type": "stream",
          "text": [
            "/usr/local/lib/python3.6/dist-packages/torch/optim/lr_scheduler.py:396: UserWarning: To get the last learning rate computed by the scheduler, please use `get_last_lr()`.\n",
            "  \"please use `get_last_lr()`.\", UserWarning)\n"
          ],
          "name": "stderr"
        },
        {
          "output_type": "stream",
          "text": [
            "epoch:0, lr:0.01\n",
            "train Loss: 0.7013 Acc: 0.4941\n"
          ],
          "name": "stdout"
        },
        {
          "output_type": "error",
          "ename": "RuntimeError",
          "evalue": "ignored",
          "traceback": [
            "\u001b[0;31m---------------------------------------------------------------------------\u001b[0m",
            "\u001b[0;31mRuntimeError\u001b[0m                              Traceback (most recent call last)",
            "\u001b[0;32m<ipython-input-11-c23af88fd0ec>\u001b[0m in \u001b[0;36m<module>\u001b[0;34m()\u001b[0m\n\u001b[0;32m----> 1\u001b[0;31m \u001b[0mmodel_ft\u001b[0m\u001b[0;34m,\u001b[0m \u001b[0mtrain_loss\u001b[0m\u001b[0;34m,\u001b[0m \u001b[0mvalid_loss\u001b[0m \u001b[0;34m=\u001b[0m \u001b[0mtrain_model\u001b[0m\u001b[0;34m(\u001b[0m\u001b[0mmodel_ft\u001b[0m\u001b[0;34m,\u001b[0m \u001b[0mcriterion\u001b[0m\u001b[0;34m,\u001b[0m \u001b[0moptimizer_ft\u001b[0m\u001b[0;34m,\u001b[0m \u001b[0mexp_lr_scheduler\u001b[0m\u001b[0;34m,\u001b[0m \u001b[0mpatience\u001b[0m\u001b[0;34m=\u001b[0m\u001b[0;36m5\u001b[0m\u001b[0;34m,\u001b[0m \u001b[0mnum_epochs\u001b[0m\u001b[0;34m=\u001b[0m\u001b[0;36m50\u001b[0m\u001b[0;34m)\u001b[0m\u001b[0;34m\u001b[0m\u001b[0;34m\u001b[0m\u001b[0m\n\u001b[0m",
            "\u001b[0;32m<ipython-input-9-3fd02824e8ec>\u001b[0m in \u001b[0;36mtrain_model\u001b[0;34m(model, criterion, optimizer, scheduler, patience, num_epochs)\u001b[0m\n\u001b[1;32m    183\u001b[0m \u001b[0;34m\u001b[0m\u001b[0m\n\u001b[1;32m    184\u001b[0m                 \u001b[0;31m# statistics\u001b[0m\u001b[0;34m\u001b[0m\u001b[0;34m\u001b[0m\u001b[0;34m\u001b[0m\u001b[0m\n\u001b[0;32m--> 185\u001b[0;31m                 \u001b[0mrunning_loss\u001b[0m \u001b[0;34m+=\u001b[0m \u001b[0mloss\u001b[0m\u001b[0;34m.\u001b[0m\u001b[0mitem\u001b[0m\u001b[0;34m(\u001b[0m\u001b[0;34m)\u001b[0m \u001b[0;34m*\u001b[0m \u001b[0minputs\u001b[0m\u001b[0;34m.\u001b[0m\u001b[0msize\u001b[0m\u001b[0;34m(\u001b[0m\u001b[0;36m0\u001b[0m\u001b[0;34m)\u001b[0m\u001b[0;34m\u001b[0m\u001b[0;34m\u001b[0m\u001b[0m\n\u001b[0m\u001b[1;32m    186\u001b[0m                 \u001b[0mrunning_corrects\u001b[0m \u001b[0;34m+=\u001b[0m \u001b[0mtorch\u001b[0m\u001b[0;34m.\u001b[0m\u001b[0msum\u001b[0m\u001b[0;34m(\u001b[0m\u001b[0mpreds\u001b[0m \u001b[0;34m==\u001b[0m \u001b[0mlabels\u001b[0m\u001b[0;34m.\u001b[0m\u001b[0mdata\u001b[0m\u001b[0;34m)\u001b[0m\u001b[0;34m\u001b[0m\u001b[0;34m\u001b[0m\u001b[0m\n\u001b[1;32m    187\u001b[0m \u001b[0;34m\u001b[0m\u001b[0m\n",
            "\u001b[0;31mRuntimeError\u001b[0m: Resource exhausted: From /job:tpu_worker/replica:0/task:0:\nRan out of memory in memory space hbm. Used 33.00G of 7.98G hbm. Exceeded hbm capacity by 25.02G.\n\nTotal hbm usage >= 33.02G:\n    reserved         17.00M \n    program          33.00G \n    arguments       unknown size \n\nOutput size unknown.\n\nProgram hbm requirement 33.00G:\n    reserved           4.0K\n    global             4.0K\n    HLO temp         33.00G (99.1% utilization: Unpadded (32.64G) Padded (32.93G), 0.2% fragmentation (72.34M))\n\n  Largest program allocations in hbm:\n\n  1. Size: 1.15G\n     Shape: f32[508,192,56,56]{0,1,3,2:T(8,128)}\n     Unpadded size: 1.14G\n     Extra memory due to padding: 9.19M (1.0x expansion)\n     XLA label: %fusion.9222 = (f32[192]{0:T(256)}, f32[192]{0:T(256)}, f32[508,192,56,56]{0,1,3,2:T(8,128)}) fusion(f32[192,1,3,3]{0,3,2,1:T(4,128)} %p172.1539, f32[192]{0:T(256)} %p175.1557, f32[192]{0:T(256)} %p176.1563, f32[192]{0:T(256)} %get-tuple-element.2203, f32[...\n     Allocation type: HLO temp\n     ==========================\n\n  2. Size: 1.15G\n     Shape: f32[508,192,56,56]{0,1,3,2:T(8,128)}\n     Unpadded size: 1.14G\n     Extra memory due to padding: 9.19M (1.0x expansion)\n     XLA label: %fusion.9224 = (f32[192]{0:T(256)}, f32[192]{0:T(256)}, f32[508,192,56,56]{0,1,3,2:T(8,128)}) fusion(f32[192,1,3,3]{0,3,2,1:T(4,128)} %p151.1315, f32[192]{0:T(256)} %p154.1333, f32[192]{0:T(256)} %p155.1339, f32[192]{0:T(256)} %get-tuple-element.2179, f32[...\n     Allocation type: HLO temp\n     ==========================\n\n  3. Size: 1.15G\n     Shape: f32[508,192,56,56]{0,1,3,2:T(8,128)}\n     Unpadded size: 1.14G\n     Extra memory due to padding: 9.19M (1.0x expansion)\n     XLA label: %fusion.10677 = (f32[508,192,56,56]{0,1,3,2:T(8,128)}, f32[508,192,56,56]{0,1,3,2:T(8,128)}) fusion(f32[192]{0:T(256)} %p191.1751, f32[192]{0:T(256)} %p192.1757, f32[192]{0:T(256)} %fusion.9072.remat2, f32[192]{0:T(256)} %get-tuple-element.1758, f32[192,1,...\n     Allocation type: HLO temp\n     ==========================\n\n  4. Size: 1.15G\n     Shape: f32[508,48,112,112]{0,1,3,2:T(8,128)}\n     Unpadded size: 1.14G\n     Extra memory due to padding: 9.19M (1.0x expansion)\n     XLA label: %fusion.9226 = (f32[48]{0:T(256)}, f32[48]{0:T(256)}, f32[508,48,112,112]{0,1,3,2:T(8,128)}) fusion(f32[48,1,3,3]{0,3,2,1:T(4,128)} %p109.795, f32[48]{0:T(256)} %p112.813, f32[48]{0:T(256)} %p113.819, f32[48]{0:T(256)} %get-tuple-element.2117, f32[508,48,1...\n     Allocation type: HLO temp\n     ==========================\n\n  5. Size: 1.15G\n     Shape: f32[508,192,56,56]{0,1,3,2:T(8,128)}\n     Unpadded size: 1.14G\n     Extra memory due to padding: 9.19M (1.0x expansion)\n     XLA label: %fusion.10677 = (f32[508,192,56,56]{0,1,3,2:T(8,128)}, f32[508,192,56,56]{0,1,3,2:T(8,128)}) fusion(f32[192]{0:T(256)} %p191.1751, f32[192]{0:T(256)} %p192.1757, f32[192]{0:T(256)} %fusion.9072.remat2, f32[192]{0:T(256)} %get-tuple-element.1758, f32[192,1,...\n     Allocation type: HLO temp\n     ==========================\n\n  6. Size: 1.15G\n     Shape: f32[508,192,56,56]{0,1,3,2:T(8,128)}\n     Unpadded size: 1.14G\n     Extra memory due to padding: 9.19M (1.0x expansion)\n     XLA label: %convolution.24.remat5 = f32[508,192,56,56]{0,1,3,2:T(8,128)} convolution(bf16[508,32,56,56]{0,1,3,2:T(8,128)(2,1)} %get-tuple-element.2212, f32[192,32,1,1]{0,1,3,2:T(8,128)} %p198.1793), window={size=1x1}, dim_labels=bf01_oi01->bf01\n     Allocation type: HLO temp\n     ==========================\n\n  7. Size: 1.15G\n     Shape: f32[508,192,56,56]{0,1,3,2:T(8,128)}\n     Unpadded size: 1.14G\n     Extra memory due to padding: 9.19M (1.0x expansion)\n     XLA label: %fusion.605 = (f32[508,192,56,56]{0,1,3,2:T(8,128)}, f32[508,192,56,56]{0,1,3,2:T(8,128)}) fusion(f32[192]{0:T(256)} %p170.1527, f32[192]{0:T(256)} %p171.1533, f32[192]{0:T(256)} %get-tuple-element.2211, f32[508,192,56,56]{0,1,3,2:T(8,128)} %get-tuple-elem...\n     Allocation type: HLO temp\n     ==========================\n\n  8. Size: 882.00M\n     Shape: f32[508,144,56,56]{0,1,3,2:T(8,128)}\n     Unpadded size: 875.11M\n     Extra memory due to padding: 6.89M (1.0x expansion)\n     XLA label: %fusion.9229 = (f32[144]{0:T(256)}, f32[144]{0:T(256)}, f32[508,144,56,56]{0,1,3,2:T(8,128)}) fusion(f32[144,1,3,3]{0,3,2,1:T(4,128)} %p94.700, f32[144]{0:T(256)} %p97.718, f32[144]{0:T(256)} %p98.724, f32[144]{0:T(256)} %get-tuple-element.2152, f32[508,14...\n     Allocation type: HLO temp\n     ==========================\n\n  9. Size: 588.00M\n     Shape: f32[508,24,112,112]{0,1,3,2:T(8,128)}\n     Unpadded size: 583.41M\n     Extra memory due to padding: 4.59M (1.0x expansion)\n     XLA label: %fusion.9232 = (f32[24]{0:T(256)}, f32[24]{0:T(256)}, f32[508,24,112,112]{0,1,3,2:T(8,128)}) fusion(f32[24,48,1,1]{1,0,3,2:T(8,128)} %p104.765, f32[508,48,112,112]{0,1,3,2:T(8,128)} %fusion.558, f32[508,48]{0,1:T(8,128)} %fusion.5795), kind=kOutput, calls=...\n     Allocation type: HLO temp\n     ==========================\n\n  10. Size: 588.00M\n     Shape: f32[508,24,112,112]{0,1,3,2:T(8,128)}\n     Unpadded size: 583.41M\n     Extra memory due to padding: 4.59M (1.0x expansion)\n     XLA label: %fusion.895 = f32[508,24,112,112]{0,1,3,2:T(8,128)} fusion(f32[24]{0:T(256)} %p129.1008, f32[24]{0:T(256)} %p130.1014, f32[24]{0:T(256)} %get-tuple-element.2139, f32[508,24,112,112]{0,1,3,2:T(8,128)} %get-tuple-element.1770, f32[24]{0:T(256)} %get-tuple-el...\n     Allocation type: HLO temp\n     ==========================\n\n  11. Size: 514.50M\n     Shape: f32[508,336,28,28]{0,1,3,2:T(8,128)}\n     Unpadded size: 510.48M\n     Extra memory due to padding: 4.02M (1.0x expansion)\n     XLA label: %convolution.44.remat5 = f32[508,336,28,28]{0,1,3,2:T(8,128)} convolution(bf16[508,56,28,28]{0,1,3,2:T(8,128)(2,1)} %get-tuple-element.2226, f32[336,56,1,1]{0,1,3,2:T(8,128)} %p265.2584), window={size=1x1}, dim_labels=bf01_oi01->bf01\n     Allocation type: HLO temp\n     ==========================\n\n  12. Size: 514.50M\n     Shape: f32[508,336,28,28]{0,1,3,2:T(8,128)}\n     Unpadded size: 510.48M\n     Extra memory due to padding: 4.02M (1.0x expansion)\n     XLA label: %fusion.9209.remat5 = f32[508,336,28,28]{0,1,3,2:T(8,128)} fusion(f32[336,56,1,1]{0,1,3,2:T(8,128)} %p244.2360, f32[508]{0:T(512)} %reshape.2072, f32[]{:T(256)} %p207.2046, f32[56]{0:T(256)} %p211.2064, f32[56]{0:T(256)} %p212.2070, f32[56]{0:T(256)} %fusi...\n     Allocation type: HLO temp\n     ==========================\n\n  13. Size: 514.50M\n     Shape: f32[508,336,28,28]{0,1,3,2:T(8,128)}\n     Unpadded size: 510.48M\n     Extra memory due to padding: 4.02M (1.0x expansion)\n     XLA label: %fusion.10683 = (f32[508,336,28,28]{0,1,3,2:T(8,128)}, f32[508,336,28,28]{0,1,3,2:T(8,128)}) fusion(f32[336]{0:T(512)} %p216.2094, f32[336]{0:T(512)} %p217.2100, f32[336]{0:T(512)} %fusion.8486.remat2, f32[336]{0:T(512)} %get-tuple-element.1623, f32[336,1,...\n     Allocation type: HLO temp\n     ==========================\n\n  14. Size: 514.50M\n     Shape: f32[508,336,28,28]{0,1,3,2:T(8,128)}\n     Unpadded size: 510.48M\n     Extra memory due to padding: 4.02M (1.0x expansion)\n     XLA label: %fusion.10683 = (f32[508,336,28,28]{0,1,3,2:T(8,128)}, f32[508,336,28,28]{0,1,3,2:T(8,128)}) fusion(f32[336]{0:T(512)} %p216.2094, f32[336]{0:T(512)} %p217.2100, f32[336]{0:T(512)} %fusion.8486.remat2, f32[336]{0:T(512)} %get-tuple-element.1623, f32[336,1,...\n     Allocation type: HLO temp\n     ==========================\n\n  15. Size: 514.50M\n     Shape: f32[508,336,28,28]{0,1,3,2:T(8,128)}\n     Unpadded size: 510.48M\n     Extra memory due to padding: 4.02M (1.0x expansion)\n     XLA label: %fusion.10686 = (f32[508,336,28,28]{0,1,3,2:T(8,128)}, f32[508,336,28,28]{0,1,3,2:T(8,128)}) fusion(f32[336]{0:T(512)} %p237.2318, f32[336]{0:T(512)} %p238.2324, f32[336]{0:T(512)} %fusion.8488.remat2, f32[336]{0:T(512)} %get-tuple-element.1621, f32[336,1,...\n     Allocation type: HLO temp\n     ==========================\n\n  16. Size: 514.50M\n     Shape: f32[508,336,28,28]{0,1,3,2:T(8,128)}\n     Unpadded size: 510.48M\n     Extra memory due to padding: 4.02M (1.0x expansion)\n     XLA label: %fusion.10686 = (f32[508,336,28,28]{0,1,3,2:T(8,128)}, f32[508,336,28,28]{0,1,3,2:T(8,128)}) fusion(f32[336]{0:T(512)} %p237.2318, f32[336]{0:T(512)} %p238.2324, f32[336]{0:T(512)} %fusion.8488.remat2, f32[336]{0:T(512)} %get-tuple-element.1621, f32[336,1,...\n     Allocation type: HLO temp\n     ==========================\n\n  17. Size: 514.50M\n     Shape: f32[508,336,28,28]{0,1,3,2:T(8,128)}\n     Unpadded size: 510.48M\n     Extra memory due to padding: 4.02M (1.0x expansion)\n     XLA label: %fusion.10690 = (f32[508,336,28,28]{0,1,3,2:T(8,128)}, f32[508,336,28,28]{0,1,3,2:T(8,128)}) fusion(f32[336]{0:T(512)} %p258.2542, f32[336]{0:T(512)} %p259.2548, f32[336]{0:T(512)} %fusion.8490.remat2, f32[336]{0:T(512)} %get-tuple-element.1619, f32[336,1,...\n     Allocation type: HLO temp\n     ==========================\n\n  18. Size: 514.50M\n     Shape: f32[508,336,28,28]{0,1,3,2:T(8,128)}\n     Unpadded size: 510.48M\n     Extra memory due to padding: 4.02M (1.0x expansion)\n     XLA label: %fusion.10690 = (f32[508,336,28,28]{0,1,3,2:T(8,128)}, f32[508,336,28,28]{0,1,3,2:T(8,128)}) fusion(f32[336]{0:T(512)} %p258.2542, f32[336]{0:T(512)} %p259.2548, f32[336]{0:T(512)} %fusion.8490.remat2, f32[336]{0:T(512)} %get-tuple-element.1619, f32[336,1,...\n     Allocation type: HLO temp\n     ==========================\n\n  19. Size: 514.50M\n     Shape: f32[508,336,28,28]{0,1,3,2:T(8,128)}\n     Unpadded size: 510.48M\n     Extra memory due to padding: 4.02M (1.0x expansion)\n     XLA label: %fusion.2872.remat5 = f32[508,336,28,28]{0,1,3,2:T(8,128)} fusion(f32[336,56,1,1]{0,1,3,2:T(8,128)} %p223.2136, f32[56]{0:T(256)} %p73.559, f32[56]{0:T(256)} %fusion.9051.remat4, f32[56]{0:T(256)} %p72.553, f32[508,56,28,28]{0,1,3,2:T(8,128)} %fusion.1534....\n     Allocation type: HLO temp\n     ==========================\n\n  20. Size: 367.50M\n     Shape: f32[508,960,14,14]{0,1,3,2:T(8,128)}\n     Unpadded size: 364.63M\n     Extra memory due to padding: 2.87M (1.0x expansion)\n     XLA label: %convolution.104.remat5 = f32[508,960,14,14]{0,1,3,2:T(8,128)} convolution(bf16[508,160,14,14]{0,1,3,2:T(8,128)(2,1)} %get-tuple-element.2270, f32[960,160,1,1]{0,1,3,2:T(8,128)} %p483.5062), window={size=1x1}, dim_labels=bf01_oi01->bf01\n     Allocation type: HLO temp\n     ==========================\n\n\n\t [[{{node XRTCompile}}]]\nHint: If you want to see a list of allocated tensors when OOM happens, add report_tensor_allocations_upon_oom to RunOptions for current allocation info.\n"
          ]
        }
      ]
    },
    {
      "cell_type": "markdown",
      "metadata": {
        "id": "K6D7vVaHPN98",
        "colab_type": "text"
      },
      "source": [
        "#**Calculate Accuracy**\n",
        "・True positive (TN)<br>\n",
        "・False positive (FP)<br>\n",
        "・True negative (TN)<br>\n",
        "・False negative (FN)<br>\n",
        "\n",
        "Accuracy = (TP + TN)/ (TP + TN + FP + FN)<br>\n",
        "Precision = TP/(FP + TP) ※positive predictive value<br>\n",
        "Recall = TP/(TP + FN)　※sensitivity<br>\n",
        "Specificity = TN/(FP + TN)<br>\n",
        "F_value = (2RecallPrecision)/(Recall+Precision)<br>"
      ]
    },
    {
      "cell_type": "code",
      "metadata": {
        "id": "h2Fzf34FPOGk",
        "colab_type": "code",
        "colab": {
          "base_uri": "https://localhost:8080/",
          "height": 585
        },
        "outputId": "fbf03d5c-a938-4358-fe20-b33715fa815a"
      },
      "source": [
        "# visualize the loss as the network trained\n",
        "fig = plt.figure(figsize=(10,8))\n",
        "plt.plot(range(1,len(train_loss)+1),train_loss, label='Training Loss')\n",
        "plt.plot(range(1,len(valid_loss)+1),valid_loss,label='Validation Loss')\n",
        "\n",
        "# find position of lowest validation loss\n",
        "minposs = valid_loss.index(min(valid_loss))+1 \n",
        "plt.axvline(minposs, linestyle='--', color='r',label='Early Stopping Checkpoint')\n",
        "\n",
        "plt.xlabel('epochs')\n",
        "plt.ylabel('loss')\n",
        "plt.ylim(0, 1.0) # consistent scale\n",
        "plt.xlim(0, len(train_loss)+1) # consistent scale\n",
        "plt.grid(True)\n",
        "plt.legend()\n",
        "plt.tight_layout()\n",
        "plt.show()\n",
        "fig.savefig('loss_plot.png', bbox_inches='tight')"
      ],
      "execution_count": null,
      "outputs": [
        {
          "output_type": "display_data",
          "data": {
            "image/png": "[encoded data removed]",
            "text/plain": [
              "<Figure size 720x576 with 1 Axes>"
            ]
          },
          "metadata": {
            "tags": [],
            "needs_background": "light"
          }
        }
      ]
    },
    {
      "cell_type": "code",
      "metadata": {
        "id": "J1P_oH6gQQG9",
        "colab_type": "code",
        "colab": {}
      },
      "source": [
        "visualize_model(model_ft)"
      ],
      "execution_count": null,
      "outputs": []
    },
    {
      "cell_type": "markdown",
      "metadata": {
        "id": "Uv4xXKF2POJ8",
        "colab_type": "text"
      },
      "source": [
        ""
      ]
    },
    {
      "cell_type": "code",
      "metadata": {
        "id": "VXGfJJ86PONk",
        "colab_type": "code",
        "colab": {
          "base_uri": "https://localhost:8080/",
          "height": 190
        },
        "outputId": "43c477bc-1aac-44df-f913-441aa6770e60"
      },
      "source": [
        "#評価モードにする\n",
        "model_ft.eval()\n",
        "\n",
        "#valフォルダ内のファイル名を取得\n",
        "image_path = glob.glob(\"/content/drive/My Drive/Deep_learning/gravcont_seed_1234/val/*/*\")\n",
        "random.shuffle(image_path)  #表示順をランダムにする\n",
        "print('number of images: ' +str(len(image_path)))\n",
        "#print(image_path) \n",
        "\n",
        "\n",
        "\n",
        "\"\"\"\n",
        "#ファイル名よりラベルを抜き出し、'class_name'と定義\n",
        "class_name = []\n",
        "class_path = glob.glob('/content/drive/My Drive/Deep_learning/applstra/val/*')\n",
        "for i in class_path:\n",
        "    class_name.append(os.path.basename(i))  \n",
        "print(class_name)\n",
        "\"\"\"\n",
        "\n",
        "#対象のパスからラベルを抜き出して表示\n",
        "def getlabel(image_path):\n",
        "      image_name = os.path.basename(image_path)\n",
        "      label = os.path.basename(os.path.dirname(image_path))\n",
        "      return(image_name, label)\n",
        "\n",
        "'''\n",
        "#変形後の画像を表示\n",
        "def image_transform(image_path):\n",
        "\n",
        "    image=Image.open(image_path)\n",
        "\n",
        "    \n",
        "    #変形した画像を表示する\n",
        "    transform = transforms.Compose([\n",
        "            transforms.Resize(256),\n",
        "            transforms.CenterCrop(224)])\n",
        "    image_transformed = transform(image)\n",
        "    plt.imshow(np.array(image_transformed))\n",
        "'''\n",
        "\n",
        "#評価のための画像下処理\n",
        "def image_transform(image_path):    \n",
        "    image=Image.open(image_path)\n",
        "    transform = transforms.Compose([\n",
        "            transforms.Resize(256),\n",
        "            transforms.CenterCrop(224),\n",
        "            transforms.ToTensor(),\n",
        "            transforms.Normalize([0.485, 0.456, 0.406], [0.229, 0.224, 0.225])])\n",
        "    image_tensor = transform(image)\n",
        "\n",
        "    #バッチサイズの次元を先頭に追加した4Dテンソルに変換\n",
        "    image_tensor.unsqueeze_(0)\n",
        "    #print(image_tensor.size())  # torch.Size([1, 3, 224, 224])\n",
        "    image_tensor = image_tensor.to(device) #model_ftをGPUに載せる\n",
        "\n",
        "    return(image_tensor)\n",
        "\n",
        "#モデルにした処理した画像を投入して予測結果を表示\n",
        "def image_eval(image_tensor, label):\n",
        "    output = model_ft(image_tensor)\n",
        "    #print(output.size())  # torch.Size([1, 1000])\n",
        "    #print(output)\n",
        "\n",
        "    #model_pred:クラス名前、prob:確率、pred:クラス番号\n",
        "    prob, pred = torch.topk(nn.Softmax(dim=1)(output), 1)\n",
        "    model_pred = class_names[pred]\n",
        "    \n",
        "    #甲状腺眼症のprobabilityを計算（classが0なら1から減算、classが1ならそのまま）\n",
        "    prob = abs(1-float(prob)-float(pred))\n",
        " \n",
        "    return model_pred, prob, pred\n",
        "\n",
        "    \"\"\"\n",
        "    #probalilityを計算する\n",
        "    pred_prob = torch.topk(nn.Softmax(dim=1)(output), 1)[0]\n",
        "    pred_class = torch.topk(nn.Softmax(dim=1)(output), 1)[1]\n",
        "    if pred_class == 1:\n",
        "        pred_prob = pred_prob\n",
        "    elif pred_class == 0:\n",
        "        pred_prob = 1- pred_prob\n",
        "    return(model_pred, pred_prob)  #class_nameの番号で出力される\n",
        "    \"\"\"\n",
        "\n",
        "def showImage(image_path):\n",
        "    #画像のインポート\n",
        "    img = cv2.imread(image_path, cv2.IMREAD_UNCHANGED)\n",
        "    #画像のリサイズ\n",
        "    height = img.shape[0]\n",
        "    width = img.shape[1]\n",
        "    resized_img = cv2.resize(img, (int(width*300/height), 300))\n",
        "    cv2_imshow(resized_img)\n",
        "\n",
        "def calculateAccuracy (TP, TN, FP, FN):\n",
        "    accuracy = (TP + TN)/ (TP + TN + FP + FN)\n",
        "    precision  = TP/(FP + TP)\n",
        "    recall = TP/(TP + FN)\n",
        "    specificity = TN/(FP + TN)\n",
        "    f_value = (2*recall*precision)/(recall+precision)\n",
        "    return(accuracy, precision, recall, specificity, f_value)\n",
        "\n",
        "\n",
        "#ここからがメイン\n",
        "TP, FP, TN, FN, TP, FP, TN, FN = [0,0,0,0,0,0,0,0]\n",
        "image_name_list = []\n",
        "label_list = []\n",
        "model_pred_list = []\n",
        "hum_pred_list = []\n",
        "\n",
        "model_pred_class = []\n",
        "model_pred_prob = []\n",
        "\n",
        "\n",
        "for i in image_path:\n",
        "      image_name, label = getlabel(i)  #画像の名前とラベルを取得\n",
        "      image_tensor = image_transform(i)  #予測のための画像下処理\n",
        "      model_pred, prob, pred = image_eval(image_tensor, label)  #予測結果を出力   \n",
        "      #print('Image: '+ image_name)\n",
        "      #print('Label: '+ label)\n",
        "      #print('Pred: '+ model_pred)\n",
        "      #showImage(i)  #画像を表示\n",
        "      #print() #空白行を入れる\n",
        "      time.sleep(0.1)\n",
        "\n",
        "      image_name_list.append(image_name)\n",
        "      label_list.append(label)\n",
        "      model_pred_list.append(model_pred)\n",
        "\n",
        "      model_pred_class.append(int(pred))\n",
        "      model_pred_prob.append(float(prob))\n",
        "\n",
        "      if label == class_names[0]:\n",
        "          if model_pred == class_names[0]:\n",
        "              TP += 1\n",
        "          else:\n",
        "              FN += 1\n",
        "      elif label == class_names[1]:\n",
        "          if model_pred == class_names[1]:\n",
        "              TN += 1\n",
        "          else:\n",
        "              FP += 1\n",
        "      \n",
        "\n",
        "print(TP, FN, TN, FP)\n",
        "\n",
        "#Accuracyを計算\n",
        "accuracy, precision, recall, specificity, f_value = calculateAccuracy (TP, TN, FP, FN)\n",
        "print('Accuracy: ' + str(accuracy))\n",
        "print('Precision (positive predictive value): ' + str(precision))\n",
        "print('Recall (sensitivity): ' + str(recall))\n",
        "print('Specificity: ' + str(specificity))\n",
        "print('F_value: ' + str(f_value))\n",
        "\n",
        "print(model_pred_class)\n",
        "print(model_pred_prob)"
      ],
      "execution_count": null,
      "outputs": [
        {
          "output_type": "stream",
          "text": [
            "number of images: 128\n",
            "64 1 62 1\n",
            "Accuracy: 0.984375\n",
            "Precision (positive predictive value): 0.9846153846153847\n",
            "Recall (sensitivity): 0.9846153846153847\n",
            "Specificity: 0.9841269841269841\n",
            "F_value: 0.9846153846153847\n",
            "[1, 0, 1, 0, 1, 1, 0, 1, 0, 0, 1, 1, 1, 0, 0, 0, 0, 1, 1, 1, 1, 0, 1, 0, 1, 0, 0, 1, 0, 1, 1, 1, 1, 1, 0, 0, 0, 1, 1, 0, 1, 0, 1, 0, 1, 0, 0, 1, 1, 1, 1, 1, 0, 0, 1, 1, 0, 0, 0, 1, 0, 0, 0, 1, 1, 1, 1, 0, 1, 0, 0, 0, 1, 1, 0, 0, 0, 0, 1, 0, 0, 1, 1, 0, 0, 0, 0, 0, 0, 0, 0, 1, 1, 1, 0, 1, 0, 0, 1, 0, 1, 1, 0, 1, 0, 0, 1, 0, 0, 1, 1, 1, 1, 0, 1, 1, 0, 0, 1, 0, 0, 0, 0, 0, 1, 1, 1, 1]\n",
            "[0.9964433312416077, 0.005600631237030029, 0.9672859907150269, 0.00045114755630493164, 0.9743983149528503, 0.984980583190918, 0.0018879175186157227, 0.9930518865585327, 0.005109310150146484, 0.016907989978790283, 0.9757615923881531, 0.9958904385566711, 0.9985221028327942, 0.008471488952636719, 0.006919682025909424, 0.0005677342414855957, 0.004101216793060303, 0.9999912977218628, 0.9975067973136902, 0.9993873834609985, 0.9952667951583862, 0.0013737678527832031, 0.9995965361595154, 0.14451462030410767, 0.9684000015258789, 0.0020543932914733887, 0.01186293363571167, 0.9999783039093018, 0.0006551146507263184, 0.9664363861083984, 0.8039237856864929, 0.9999779462814331, 0.882114052772522, 0.9994055032730103, 0.06430715322494507, 0.07390749454498291, 0.0025396347045898438, 0.9936843514442444, 0.9950994849205017, 0.23788762092590332, 0.971190333366394, 0.014802157878875732, 0.999060332775116, 0.0008053183555603027, 0.9964074492454529, 0.0031969547271728516, 0.005568325519561768, 0.9967413544654846, 0.9998329877853394, 0.978624165058136, 0.9279975891113281, 0.7433353066444397, 0.0009664297103881836, 0.0008314847946166992, 0.9597386121749878, 0.9985628724098206, 0.001222074031829834, 0.0018569231033325195, 0.001276552677154541, 0.996379554271698, 0.007395744323730469, 0.043185293674468994, 0.00011849403381347656, 0.9997612833976746, 0.9869939684867859, 0.9989098310470581, 0.9802713990211487, 0.07172989845275879, 0.9974814057350159, 0.029818177223205566, 0.0009494423866271973, 0.20648419857025146, 0.9968994855880737, 0.9731857180595398, 0.06322872638702393, 0.0022272467613220215, 0.0007014274597167969, 0.0030853748321533203, 0.8743754029273987, 0.00015354156494140625, 0.011648833751678467, 0.9610428810119629, 0.9949523210525513, 0.0008829236030578613, 5.459785461425781e-05, 5.328655242919922e-05, 0.0002474188804626465, 0.00011730194091796875, 0.0003762245178222656, 5.888938903808594e-05, 0.09083443880081177, 0.9999871253967285, 0.9240230917930603, 0.9968361854553223, 0.025732457637786865, 0.9772285223007202, 0.0017971992492675781, 0.00270003080368042, 0.9948911666870117, 0.0007186532020568848, 0.9985370635986328, 0.996877908706665, 0.00011050701141357422, 0.9999874830245972, 0.04974722862243652, 0.0018569231033325195, 0.9992069602012634, 0.0006138086318969727, 0.11121690273284912, 0.9346752762794495, 0.9977741837501526, 0.9258318543434143, 0.9991909861564636, 0.00012862682342529297, 0.9439658522605896, 0.9993721842765808, 0.01854264736175537, 0.001156449317932129, 0.9826700687408447, 0.13071346282958984, 0.011307060718536377, 0.02510511875152588, 0.000425875186920166, 0.0035557150840759277, 0.9896971583366394, 0.9636949300765991, 0.9998639822006226, 0.6635631322860718]\n"
          ],
          "name": "stdout"
        }
      ]
    },
    {
      "cell_type": "markdown",
      "metadata": {
        "id": "sHBBYqmRPOQs",
        "colab_type": "text"
      },
      "source": [
        "#**Drawing ROC curve**"
      ]
    },
    {
      "cell_type": "code",
      "metadata": {
        "id": "M-fqdwBlQqMh",
        "colab_type": "code",
        "colab": {
          "base_uri": "https://localhost:8080/",
          "height": 295
        },
        "outputId": "0e278321-4641-4eb8-8a3b-20b8c739965c"
      },
      "source": [
        "import numpy as np\n",
        "from sklearn.metrics import roc_curve, auc\n",
        "import matplotlib.pyplot as plt\n",
        "\n",
        "y_score = []\n",
        "y_true = []\n",
        "\n",
        "k=0\n",
        "for i in label_list:\n",
        "    if label_list[k] == 'cont':\n",
        "          y_true.append(0)\n",
        "    elif label_list[k] == 'grav':\n",
        "          y_true.append(1)\n",
        "    k+=1\n",
        "\n",
        "\n",
        "#健康な状態を「0」、病気を「1」としてラベルよりリストを作成\n",
        "y_true = y_true\n",
        "#それぞれの画像における陽性の確率についてリストを作成\n",
        "y_score = model_pred_prob\n",
        "\n",
        "#print(y_true)\n",
        "#print(y_score)\n",
        "\n",
        "fpr, tpr,thred = roc_curve(y_true, y_score)\n",
        "roc_auc = auc(fpr, tpr)\n",
        "\n",
        "#print(fpr)\n",
        "#print(tpr)\n",
        "\n",
        "plt.figure()\n",
        "lw = 2\n",
        "plt.plot(fpr, tpr, color='darkorange',lw=lw, label='ROC curve (area = %0.2f)' % roc_auc)\n",
        "plt.plot([0, 1], [0, 1], color='navy', lw=lw, linestyle='--')\n",
        "plt.xlabel('False Positive Rate')\n",
        "plt.ylabel('True Positive Rate')\n",
        "plt.title('Receiver operating characteristic example')\n",
        "plt.legend(loc=\"lower right\")\n",
        "plt.show()\n"
      ],
      "execution_count": null,
      "outputs": [
        {
          "output_type": "display_data",
          "data": {
            "image/png": "[encoded data removed]",
            "text/plain": [
              "<Figure size 432x288 with 1 Axes>"
            ]
          },
          "metadata": {
            "tags": [],
            "needs_background": "light"
          }
        }
      ]
    },
    {
      "cell_type": "markdown",
      "metadata": {
        "id": "RPO-b2cAT0yF",
        "colab_type": "text"
      },
      "source": [
        "#**ネットワークの保存と読み込み**"
      ]
    },
    {
      "cell_type": "code",
      "metadata": {
        "id": "UMYyFQ6ATzyX",
        "colab_type": "code",
        "colab": {}
      },
      "source": [
        "#ネットワークの保存\n",
        "PATH = '/content/drive/My Drive/Deep_learning/GravCont_EfficientNet-b4_ImageNet_seed'+str(manualSeed)+'.pth'\n",
        "torch.save(model_ft.state_dict(), PATH)"
      ],
      "execution_count": null,
      "outputs": []
    },
    {
      "cell_type": "code",
      "metadata": {
        "id": "c744XUtfT6xW",
        "colab_type": "code",
        "colab": {
          "base_uri": "https://localhost:8080/",
          "height": 34
        },
        "outputId": "7a1be07b-1928-4968-911a-3da07ca20c7e"
      },
      "source": [
        "#ネットワークの読み込み\n",
        "PATH = '/content/drive/My Drive/Deep_learning/GravCont_EfficientNet-b4_ImageNet_seed'+str(manualSeed)+'.pth'\n",
        "model_ft.load_state_dict(torch.load(PATH))"
      ],
      "execution_count": null,
      "outputs": [
        {
          "output_type": "execute_result",
          "data": {
            "text/plain": [
              "<All keys matched successfully>"
            ]
          },
          "metadata": {
            "tags": []
          },
          "execution_count": 10
        }
      ]
    }
  ]
}