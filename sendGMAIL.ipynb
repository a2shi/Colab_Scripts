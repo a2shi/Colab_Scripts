{
  "nbformat": 4,
  "nbformat_minor": 0,
  "metadata": {
    "colab": {
      "name": "Untitled38.ipynb",
      "provenance": [],
      "authorship_tag": "ABX9TyN/RQKY16ku7bWrObvEYNM8",
      "include_colab_link": true
    },
    "kernelspec": {
      "name": "python3",
      "display_name": "Python 3"
    }
  },
  "cells": [
    {
      "cell_type": "markdown",
      "metadata": {
        "id": "view-in-github",
        "colab_type": "text"
      },
      "source": [
        "<a href=\"https://colab.research.google.com/github/ykitaguchi77/Colab_Scripts/blob/master/sendGMAIL.ipynb\" target=\"_parent\"><img src=\"https://colab.research.google.com/assets/colab-badge.svg\" alt=\"Open In Colab\"/></a>"
      ]
    },
    {
      "cell_type": "code",
      "metadata": {
        "id": "zk8jJ87fJt4I",
        "colab_type": "code",
        "colab": {
          "base_uri": "https://localhost:8080/",
          "height": 128
        },
        "outputId": "21c1ef82-99c9-462d-f330-e49e4d1c7cd0"
      },
      "source": [
        "#Google colabをマウント\n",
        "from google.colab import drive\n",
        "drive.mount('/content/drive')"
      ],
      "execution_count": 3,
      "outputs": [
        {
          "output_type": "stream",
          "text": [
            "Go to this URL in a browser: https://accounts.google.com/o/oauth2/auth?client_id=947318989803-6bn6qk8qdgf4n4g3pfee6491hc0brc4i.apps.googleusercontent.com&redirect_uri=urn%3aietf%3awg%3aoauth%3a2.0%3aoob&response_type=code&scope=email%20https%3a%2f%2fwww.googleapis.com%2fauth%2fdocs.test%20https%3a%2f%2fwww.googleapis.com%2fauth%2fdrive%20https%3a%2f%2fwww.googleapis.com%2fauth%2fdrive.photos.readonly%20https%3a%2f%2fwww.googleapis.com%2fauth%2fpeopleapi.readonly\n",
            "\n",
            "Enter your authorization code:\n",
            "··········\n",
            "Mounted at /content/drive\n"
          ],
          "name": "stdout"
        }
      ]
    },
    {
      "cell_type": "code",
      "metadata": {
        "id": "NIkhR_hVMN2a",
        "colab_type": "code",
        "colab": {
          "base_uri": "https://localhost:8080/",
          "height": 35
        },
        "outputId": "2e121177-e09c-4380-b9a6-73c993fce380"
      },
      "source": [
        "import smtplib\n",
        "from email.mime.multipart import MIMEMultipart\n",
        "from email.mime.base import MIMEBase\n",
        "from email.mime.text import MIMEText\n",
        "from email.utils import COMMASPACE\n",
        "from email import encoders\n",
        "import datetime\n",
        "\n",
        "SUBJECT = 'Subject string'\n",
        "FILENAME = 'Hum_eval.csv'\n",
        "FILEPATH = '/content/drive/My Drive/Deep_learning/gravcont_results/Hum_eval_2020-05-19.csv'\n",
        "MY_EMAIL = 'gravcont@gmail.com'\n",
        "MY_PASSWORD = 'yucizzfxcyelklsm'\n",
        "TO_EMAIL = 'kitaguchi@yk-gankeisei.com'\n",
        "SMTP_SERVER = 'smtp.gmail.com'\n",
        "SMTP_PORT = 587\n",
        "body = str(datetime.datetime.now())\n",
        "\n",
        "msg = MIMEMultipart()\n",
        "msg['From'] = MY_EMAIL\n",
        "msg['To'] = COMMASPACE.join([TO_EMAIL])\n",
        "msg['Subject'] = SUBJECT\n",
        "\n",
        "part = MIMEBase('application', \"octet-stream\")\n",
        "part.set_payload(open(FILEPATH, \"rb\").read())\n",
        "encoders.encode_base64(part)\n",
        "part.add_header('Content-Disposition', 'attachment', filename=FILENAME)  # or\n",
        "# part.add_header('Content-Disposition', 'attachment; filename=\"attachthisfile.csv\"')\n",
        "msg.attach(part)\n",
        "\n",
        "body = MIMEText(body)\n",
        "msg.attach(body)\n",
        "\n",
        "smtpObj = smtplib.SMTP(SMTP_SERVER, SMTP_PORT)\n",
        "smtpObj.ehlo()\n",
        "smtpObj.starttls()\n",
        "smtpObj.login(MY_EMAIL, MY_PASSWORD)\n",
        "smtpObj.sendmail(MY_EMAIL, TO_EMAIL, msg.as_string())\n",
        "smtpObj.quit()"
      ],
      "execution_count": 21,
      "outputs": [
        {
          "output_type": "execute_result",
          "data": {
            "text/plain": [
              "(221, b'2.0.0 closing connection b63sm3886894pfg.86 - gsmtp')"
            ]
          },
          "metadata": {
            "tags": []
          },
          "execution_count": 21
        }
      ]
    }
  ]
}