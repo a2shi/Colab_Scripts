{
  "nbformat": 4,
  "nbformat_minor": 0,
  "metadata": {
    "colab": {
      "name": "Untitled65.ipynb",
      "provenance": [],
      "authorship_tag": "ABX9TyPjoteNmWyqDaC9d3aXyolY",
      "include_colab_link": true
    },
    "kernelspec": {
      "name": "python3",
      "display_name": "Python 3"
    }
  },
  "cells": [
    {
      "cell_type": "markdown",
      "metadata": {
        "id": "view-in-github",
        "colab_type": "text"
      },
      "source": [
        "<a href=\"https://colab.research.google.com/github/ykitaguchi77/Colab_Scripts/blob/master/%E3%83%95%E3%82%A9%E3%83%AB%E3%83%80%E5%86%85%E5%AE%B9%E3%81%AE%E5%B7%AE%E5%88%86%E3%82%92%E5%87%BA%E3%81%99.ipynb\" target=\"_parent\"><img src=\"https://colab.research.google.com/assets/colab-badge.svg\" alt=\"Open In Colab\"/></a>"
      ]
    },
    {
      "cell_type": "code",
      "metadata": {
        "id": "DX_LNifE5f6s",
        "colab_type": "code",
        "colab": {
          "base_uri": "https://localhost:8080/",
          "height": 33
        },
        "outputId": "efd8edee-9f10-4f6b-f5f2-019739ee3acb"
      },
      "source": [
        "import glob\n",
        "import os\n",
        "import shutil\n",
        "\n",
        "from google.colab import drive\n",
        "drive.mount('/content/drive')"
      ],
      "execution_count": 5,
      "outputs": [
        {
          "output_type": "stream",
          "text": [
            "Drive already mounted at /content/drive; to attempt to forcibly remount, call drive.mount(\"/content/drive\", force_remount=True).\n"
          ],
          "name": "stdout"
        }
      ]
    },
    {
      "cell_type": "code",
      "metadata": {
        "id": "jwbVP8eR904n",
        "colab_type": "code",
        "colab": {}
      },
      "source": [
        "#ファイルの番号を抜き出す\n",
        "def get_basename(pathList):\n",
        "    basename_list = []\n",
        "    for i in pathList:\n",
        "        basename_list.append(os.path.basename(i))\n",
        "    return basename_list\n",
        "\n",
        "def get_wholename(dirname, basaname_list):\n",
        "    wholename_list = []\n",
        "    for i in basaname_list:\n",
        "        wholename_list.append(dirname+\"/\"+i)\n",
        "    return wholename_list    "
      ],
      "execution_count": 2,
      "outputs": []
    },
    {
      "cell_type": "code",
      "metadata": {
        "id": "8htTUnA_5mC4",
        "colab_type": "code",
        "colab": {
          "base_uri": "https://localhost:8080/",
          "height": 70
        },
        "outputId": "02fc1012-a31f-44ce-e97f-e663eb555498"
      },
      "source": [
        "#gravcontとposttrainとの差分を出す\n",
        "\n",
        "gravcont = get_basename(glob.glob(\"/content/drive/My Drive/gravcont/cont/*\"))\n",
        "\n",
        "posttrain = get_basename(glob.glob(\"/content/drive/My Drive/Grav_bootcamp/Posttrain_250px/cont/*\"))\n",
        "\n",
        "preplustrain =  [x for x in gravcont if x not in posttrain]\n",
        "print(len(preplustrain))\n",
        "\n",
        "#preplustrainを絶対パスに戻す\n",
        "preplustrain = get_wholename(\"/content/drive/My Drive/gravcont/cont\", preplustrain)\n",
        "print(preplustrain)\n"
      ],
      "execution_count": 3,
      "outputs": [
        {
          "output_type": "stream",
          "text": [
            "279\n",
            "['/content/drive/My Drive/gravcont/grav/533.jpg', '/content/drive/My Drive/gravcont/grav/1347.jpg', '/content/drive/My Drive/gravcont/grav/4465.jpg', '/content/drive/My Drive/gravcont/grav/1357.jpg', '/content/drive/My Drive/gravcont/grav/6579.jpg', '/content/drive/My Drive/gravcont/grav/6518.jpg', '/content/drive/My Drive/gravcont/grav/2900.jpg', '/content/drive/My Drive/gravcont/grav/6599.jpg', '/content/drive/My Drive/gravcont/grav/1503.jpg', '/content/drive/My Drive/gravcont/grav/4681.jpg', '/content/drive/My Drive/gravcont/grav/5673.jpg', '/content/drive/My Drive/gravcont/grav/2851.jpg', '/content/drive/My Drive/gravcont/grav/4606.jpg', '/content/drive/My Drive/gravcont/grav/2644.jpg', '/content/drive/My Drive/gravcont/grav/2042.jpg', '/content/drive/My Drive/gravcont/grav/429.jpg', '/content/drive/My Drive/gravcont/grav/2960.jpg', '/content/drive/My Drive/gravcont/grav/3759.jpg', '/content/drive/My Drive/gravcont/grav/7077.jpg', '/content/drive/My Drive/gravcont/grav/6147.jpg', '/content/drive/My Drive/gravcont/grav/4008.jpg', '/content/drive/My Drive/gravcont/grav/6965.jpg', '/content/drive/My Drive/gravcont/grav/5890.jpg', '/content/drive/My Drive/gravcont/grav/4713.jpg', '/content/drive/My Drive/gravcont/grav/4805.jpg', '/content/drive/My Drive/gravcont/grav/466.jpg', '/content/drive/My Drive/gravcont/grav/6106.jpg', '/content/drive/My Drive/gravcont/grav/3600.jpg', '/content/drive/My Drive/gravcont/grav/4332.jpg', '/content/drive/My Drive/gravcont/grav/2630.jpg', '/content/drive/My Drive/gravcont/grav/7936.jpg', '/content/drive/My Drive/gravcont/grav/5820.jpg', '/content/drive/My Drive/gravcont/grav/6150.jpg', '/content/drive/My Drive/gravcont/grav/1931.jpg', '/content/drive/My Drive/gravcont/grav/1385.jpg', '/content/drive/My Drive/gravcont/grav/5260.jpg', '/content/drive/My Drive/gravcont/grav/5550.jpg', '/content/drive/My Drive/gravcont/grav/2231.jpg', '/content/drive/My Drive/gravcont/grav/374.jpg', '/content/drive/My Drive/gravcont/grav/3164.jpg', '/content/drive/My Drive/gravcont/grav/3162.jpg', '/content/drive/My Drive/gravcont/grav/4206.jpg', '/content/drive/My Drive/gravcont/grav/3748.jpg', '/content/drive/My Drive/gravcont/grav/1453.jpg', '/content/drive/My Drive/gravcont/grav/1438.jpg', '/content/drive/My Drive/gravcont/grav/4272.jpg', '/content/drive/My Drive/gravcont/grav/6555.jpg', '/content/drive/My Drive/gravcont/grav/893.jpg', '/content/drive/My Drive/gravcont/grav/7765.jpg', '/content/drive/My Drive/gravcont/grav/7049.jpg', '/content/drive/My Drive/gravcont/grav/1270.jpg', '/content/drive/My Drive/gravcont/grav/3802.jpg', '/content/drive/My Drive/gravcont/grav/1682.jpg', '/content/drive/My Drive/gravcont/grav/1020.jpg', '/content/drive/My Drive/gravcont/grav/465.jpg', '/content/drive/My Drive/gravcont/grav/4331.jpg', '/content/drive/My Drive/gravcont/grav/6764.jpg', '/content/drive/My Drive/gravcont/grav/4030.jpg', '/content/drive/My Drive/gravcont/grav/3444.jpg', '/content/drive/My Drive/gravcont/grav/180.jpg', '/content/drive/My Drive/gravcont/grav/8198.jpg', '/content/drive/My Drive/gravcont/grav/6806.jpg', '/content/drive/My Drive/gravcont/grav/2148.jpg', '/content/drive/My Drive/gravcont/grav/2668.jpg', '/content/drive/My Drive/gravcont/grav/3918.jpg', '/content/drive/My Drive/gravcont/grav/2709.jpg', '/content/drive/My Drive/gravcont/grav/1396.jpg', '/content/drive/My Drive/gravcont/grav/7291.jpg', '/content/drive/My Drive/gravcont/grav/3568.jpg', '/content/drive/My Drive/gravcont/grav/6662.jpg', '/content/drive/My Drive/gravcont/grav/876.jpg', '/content/drive/My Drive/gravcont/grav/3484.jpg', '/content/drive/My Drive/gravcont/grav/3128.jpg', '/content/drive/My Drive/gravcont/grav/2803.jpg', '/content/drive/My Drive/gravcont/grav/5768.jpg', '/content/drive/My Drive/gravcont/grav/7295.jpg', '/content/drive/My Drive/gravcont/grav/5397.jpg', '/content/drive/My Drive/gravcont/grav/6989.jpg', '/content/drive/My Drive/gravcont/grav/718.jpg', '/content/drive/My Drive/gravcont/grav/5125.jpg', '/content/drive/My Drive/gravcont/grav/7709.jpg', '/content/drive/My Drive/gravcont/grav/5333.jpg', '/content/drive/My Drive/gravcont/grav/3684.jpg', '/content/drive/My Drive/gravcont/grav/6478.jpg', '/content/drive/My Drive/gravcont/grav/2321.jpg', '/content/drive/My Drive/gravcont/grav/4069.jpg', '/content/drive/My Drive/gravcont/grav/2664.jpg', '/content/drive/My Drive/gravcont/grav/3472.jpg', '/content/drive/My Drive/gravcont/grav/4958.jpg', '/content/drive/My Drive/gravcont/grav/1524.jpg', '/content/drive/My Drive/gravcont/grav/7798.jpg', '/content/drive/My Drive/gravcont/grav/6515.jpg', '/content/drive/My Drive/gravcont/grav/7349.jpg', '/content/drive/My Drive/gravcont/grav/7041.jpg', '/content/drive/My Drive/gravcont/grav/1037.jpg', '/content/drive/My Drive/gravcont/grav/3809.jpg', '/content/drive/My Drive/gravcont/grav/611.jpg', '/content/drive/My Drive/gravcont/grav/4822.jpg', '/content/drive/My Drive/gravcont/grav/129.jpg', '/content/drive/My Drive/gravcont/grav/7867.jpg', '/content/drive/My Drive/gravcont/grav/5051.jpg', '/content/drive/My Drive/gravcont/grav/5540.jpg', '/content/drive/My Drive/gravcont/grav/1088.jpg', '/content/drive/My Drive/gravcont/grav/4263.jpg', '/content/drive/My Drive/gravcont/grav/3502.jpg', '/content/drive/My Drive/gravcont/grav/5546.jpg', '/content/drive/My Drive/gravcont/grav/534.jpg', '/content/drive/My Drive/gravcont/grav/4652.jpg', '/content/drive/My Drive/gravcont/grav/4485.jpg', '/content/drive/My Drive/gravcont/grav/5310.jpg', '/content/drive/My Drive/gravcont/grav/2414.jpg', '/content/drive/My Drive/gravcont/grav/6155.jpg', '/content/drive/My Drive/gravcont/grav/7900.jpg', '/content/drive/My Drive/gravcont/grav/6553.jpg', '/content/drive/My Drive/gravcont/grav/5913.jpg', '/content/drive/My Drive/gravcont/grav/3567.jpg', '/content/drive/My Drive/gravcont/grav/4588.jpg', '/content/drive/My Drive/gravcont/grav/5337.jpg', '/content/drive/My Drive/gravcont/grav/2967.jpg', '/content/drive/My Drive/gravcont/grav/1001.jpg', '/content/drive/My Drive/gravcont/grav/3077.jpg', '/content/drive/My Drive/gravcont/grav/6643.jpg', '/content/drive/My Drive/gravcont/grav/1429.jpg', '/content/drive/My Drive/gravcont/grav/5906.jpg', '/content/drive/My Drive/gravcont/grav/6163.jpg', '/content/drive/My Drive/gravcont/grav/3714.jpg', '/content/drive/My Drive/gravcont/grav/3176.jpg', '/content/drive/My Drive/gravcont/grav/2370.jpg', '/content/drive/My Drive/gravcont/grav/5647.jpg', '/content/drive/My Drive/gravcont/grav/7104.jpg', '/content/drive/My Drive/gravcont/grav/1995.jpg', '/content/drive/My Drive/gravcont/grav/1913.jpg', '/content/drive/My Drive/gravcont/grav/2307.jpg', '/content/drive/My Drive/gravcont/grav/4382.jpg', '/content/drive/My Drive/gravcont/grav/2794.jpg', '/content/drive/My Drive/gravcont/grav/1553.jpg', '/content/drive/My Drive/gravcont/grav/2689.jpg', '/content/drive/My Drive/gravcont/grav/3646.jpg', '/content/drive/My Drive/gravcont/grav/2837.jpg', '/content/drive/My Drive/gravcont/grav/7283.jpg', '/content/drive/My Drive/gravcont/grav/3783.jpg', '/content/drive/My Drive/gravcont/grav/4125.jpg', '/content/drive/My Drive/gravcont/grav/3352.jpg', '/content/drive/My Drive/gravcont/grav/4619.jpg', '/content/drive/My Drive/gravcont/grav/7277.jpg', '/content/drive/My Drive/gravcont/grav/7436.jpg', '/content/drive/My Drive/gravcont/grav/3046.jpg', '/content/drive/My Drive/gravcont/grav/5901.jpg', '/content/drive/My Drive/gravcont/grav/1304.jpg', '/content/drive/My Drive/gravcont/grav/155.jpg', '/content/drive/My Drive/gravcont/grav/2510.jpg', '/content/drive/My Drive/gravcont/grav/17.jpg', '/content/drive/My Drive/gravcont/grav/6277.jpg', '/content/drive/My Drive/gravcont/grav/7290.jpg', '/content/drive/My Drive/gravcont/grav/3667.jpg', '/content/drive/My Drive/gravcont/grav/5681.jpg', '/content/drive/My Drive/gravcont/grav/3167.jpg', '/content/drive/My Drive/gravcont/grav/3929.jpg', '/content/drive/My Drive/gravcont/grav/2508.jpg', '/content/drive/My Drive/gravcont/grav/2274.jpg', '/content/drive/My Drive/gravcont/grav/2801.jpg', '/content/drive/My Drive/gravcont/grav/3528.jpg', '/content/drive/My Drive/gravcont/grav/2203.jpg', '/content/drive/My Drive/gravcont/grav/507.JPG', '/content/drive/My Drive/gravcont/grav/425.jpg', '/content/drive/My Drive/gravcont/grav/489.JPG', '/content/drive/My Drive/gravcont/grav/426.JPG', '/content/drive/My Drive/gravcont/grav/724.JPG', '/content/drive/My Drive/gravcont/grav/787.JPG', '/content/drive/My Drive/gravcont/grav/950.JPG', '/content/drive/My Drive/gravcont/grav/957.JPG', '/content/drive/My Drive/gravcont/grav/965.JPG', '/content/drive/My Drive/gravcont/grav/977.JPG', '/content/drive/My Drive/gravcont/grav/1231.JPG', '/content/drive/My Drive/gravcont/grav/1313.JPG', '/content/drive/My Drive/gravcont/grav/983.JPG', '/content/drive/My Drive/gravcont/grav/1370.JPG', '/content/drive/My Drive/gravcont/grav/1333.JPG', '/content/drive/My Drive/gravcont/grav/1501.JPG', '/content/drive/My Drive/gravcont/grav/1528.JPG', '/content/drive/My Drive/gravcont/grav/1446.JPG', '/content/drive/My Drive/gravcont/grav/1432.JPG', '/content/drive/My Drive/gravcont/grav/1597.JPG', '/content/drive/My Drive/gravcont/grav/1743.JPG', '/content/drive/My Drive/gravcont/grav/1664.JPG', '/content/drive/My Drive/gravcont/grav/1729.JPG', '/content/drive/My Drive/gravcont/grav/1764.JPG', '/content/drive/My Drive/gravcont/grav/1815.JPG', '/content/drive/My Drive/gravcont/grav/1910.JPG', '/content/drive/My Drive/gravcont/grav/2007.JPG', '/content/drive/My Drive/gravcont/grav/2407.JPG', '/content/drive/My Drive/gravcont/grav/2189.JPG', '/content/drive/My Drive/gravcont/grav/2182.JPG', '/content/drive/My Drive/gravcont/grav/2222.JPG', '/content/drive/My Drive/gravcont/grav/2436.JPG', '/content/drive/My Drive/gravcont/grav/2558.JPG', '/content/drive/My Drive/gravcont/grav/2670.JPG', '/content/drive/My Drive/gravcont/grav/2623.JPG', '/content/drive/My Drive/gravcont/grav/2885.JPG', '/content/drive/My Drive/gravcont/grav/2974.JPG', '/content/drive/My Drive/gravcont/grav/3264.JPG', '/content/drive/My Drive/gravcont/grav/3237.JPG', '/content/drive/My Drive/gravcont/grav/3217.JPG', '/content/drive/My Drive/gravcont/grav/3056.JPG', '/content/drive/My Drive/gravcont/grav/3428.JPG', '/content/drive/My Drive/gravcont/grav/3276.JPG', '/content/drive/My Drive/gravcont/grav/3412.JPG', '/content/drive/My Drive/gravcont/grav/3609.JPG', '/content/drive/My Drive/gravcont/grav/3532.JPG', '/content/drive/My Drive/gravcont/grav/3496.JPG', '/content/drive/My Drive/gravcont/grav/3752.JPG', '/content/drive/My Drive/gravcont/grav/3875.JPG', '/content/drive/My Drive/gravcont/grav/3843.JPG', '/content/drive/My Drive/gravcont/grav/4209.JPG', '/content/drive/My Drive/gravcont/grav/3976.JPG', '/content/drive/My Drive/gravcont/grav/3942.JPG', '/content/drive/My Drive/gravcont/grav/4233.JPG', '/content/drive/My Drive/gravcont/grav/4359.JPG', '/content/drive/My Drive/gravcont/grav/4344.JPG', '/content/drive/My Drive/gravcont/grav/4480.JPG', '/content/drive/My Drive/gravcont/grav/4553.JPG', '/content/drive/My Drive/gravcont/grav/4616.JPG', '/content/drive/My Drive/gravcont/grav/4577.JPG', '/content/drive/My Drive/gravcont/grav/4618.JPG', '/content/drive/My Drive/gravcont/grav/4759.JPG', '/content/drive/My Drive/gravcont/grav/4628.JPG', '/content/drive/My Drive/gravcont/grav/4710.JPG', '/content/drive/My Drive/gravcont/grav/4881.JPG', '/content/drive/My Drive/gravcont/grav/4921.JPG', '/content/drive/My Drive/gravcont/grav/4930.JPG', '/content/drive/My Drive/gravcont/grav/5021.JPG', '/content/drive/My Drive/gravcont/grav/4993.JPG', '/content/drive/My Drive/gravcont/grav/4939.JPG', '/content/drive/My Drive/gravcont/grav/5203.JPG', '/content/drive/My Drive/gravcont/grav/5237.JPG', '/content/drive/My Drive/gravcont/grav/5095.JPG', '/content/drive/My Drive/gravcont/grav/5070.JPG', '/content/drive/My Drive/gravcont/grav/5273.JPG', '/content/drive/My Drive/gravcont/grav/5290.JPG', '/content/drive/My Drive/gravcont/grav/5297.JPG', '/content/drive/My Drive/gravcont/grav/5323.JPG', '/content/drive/My Drive/gravcont/grav/5571.JPG', '/content/drive/My Drive/gravcont/grav/5607.JPG', '/content/drive/My Drive/gravcont/grav/5426.JPG', '/content/drive/My Drive/gravcont/grav/5543.JPG', '/content/drive/My Drive/gravcont/grav/5888.JPG', '/content/drive/My Drive/gravcont/grav/5965.JPG', '/content/drive/My Drive/gravcont/grav/5865.JPG', '/content/drive/My Drive/gravcont/grav/6283.JPG', '/content/drive/My Drive/gravcont/grav/6074.JPG', '/content/drive/My Drive/gravcont/grav/6298.JPG', '/content/drive/My Drive/gravcont/grav/6355.JPG', '/content/drive/My Drive/gravcont/grav/6486.JPG', '/content/drive/My Drive/gravcont/grav/6432.JPG', '/content/drive/My Drive/gravcont/grav/6489.JPG', '/content/drive/My Drive/gravcont/grav/6725.JPG', '/content/drive/My Drive/gravcont/grav/6707.JPG', '/content/drive/My Drive/gravcont/grav/6956.JPG', '/content/drive/My Drive/gravcont/grav/7166.JPG', '/content/drive/My Drive/gravcont/grav/6788.JPG', '/content/drive/My Drive/gravcont/grav/7419.JPG', '/content/drive/My Drive/gravcont/grav/7443.JPG', '/content/drive/My Drive/gravcont/grav/7346.JPG', '/content/drive/My Drive/gravcont/grav/7403.JPG', '/content/drive/My Drive/gravcont/grav/7527.JPG', '/content/drive/My Drive/gravcont/grav/7455.JPG', '/content/drive/My Drive/gravcont/grav/7534.JPG', '/content/drive/My Drive/gravcont/grav/7449.JPG', '/content/drive/My Drive/gravcont/grav/7669.JPG', '/content/drive/My Drive/gravcont/grav/7644.JPG', '/content/drive/My Drive/gravcont/grav/7552.JPG', '/content/drive/My Drive/gravcont/grav/7681.JPG', '/content/drive/My Drive/gravcont/grav/7800.JPG', '/content/drive/My Drive/gravcont/grav/7781.JPG', '/content/drive/My Drive/gravcont/grav/8184.JPG', '/content/drive/My Drive/gravcont/grav/7879.JPG', '/content/drive/My Drive/gravcont/grav/8168.JPG', '/content/drive/My Drive/gravcont/grav/7874.JPG', '/content/drive/My Drive/gravcont/grav/19.jpg']\n"
          ],
          "name": "stdout"
        }
      ]
    },
    {
      "cell_type": "code",
      "metadata": {
        "id": "rMJfRffl75jL",
        "colab_type": "code",
        "colab": {
          "base_uri": "https://localhost:8080/",
          "height": 1000
        },
        "outputId": "09dc74b9-3a6d-4568-b7b5-2ab6e5510a48"
      },
      "source": [
        "dst_path = \"/content/drive/My Drive/PrePlusTrain/grav\"\n",
        "if not os.path.exists(dst_path):  # ディレクトリがなかったら\n",
        "    os.mkdir(dst_path)  # 作成したいフォルダ名を作成\n",
        "\n",
        "for p in preplustrain:  # 選択したファイルを目的フォルダにコピー\n",
        "    shutil.copy(p, dst_path)\n",
        "    print(p)\n",
        "\n",
        "print(\"process done!!\")"
      ],
      "execution_count": null,
      "outputs": [
        {
          "output_type": "stream",
          "text": [
            "/content/drive/My Drive/gravcont/grav/533.jpg\n",
            "/content/drive/My Drive/gravcont/grav/1347.jpg\n",
            "/content/drive/My Drive/gravcont/grav/4465.jpg\n",
            "/content/drive/My Drive/gravcont/grav/1357.jpg\n",
            "/content/drive/My Drive/gravcont/grav/6579.jpg\n",
            "/content/drive/My Drive/gravcont/grav/6518.jpg\n",
            "/content/drive/My Drive/gravcont/grav/2900.jpg\n",
            "/content/drive/My Drive/gravcont/grav/6599.jpg\n",
            "/content/drive/My Drive/gravcont/grav/1503.jpg\n",
            "/content/drive/My Drive/gravcont/grav/4681.jpg\n",
            "/content/drive/My Drive/gravcont/grav/5673.jpg\n",
            "/content/drive/My Drive/gravcont/grav/2851.jpg\n",
            "/content/drive/My Drive/gravcont/grav/4606.jpg\n",
            "/content/drive/My Drive/gravcont/grav/2644.jpg\n",
            "/content/drive/My Drive/gravcont/grav/2042.jpg\n",
            "/content/drive/My Drive/gravcont/grav/429.jpg\n",
            "/content/drive/My Drive/gravcont/grav/2960.jpg\n",
            "/content/drive/My Drive/gravcont/grav/3759.jpg\n",
            "/content/drive/My Drive/gravcont/grav/7077.jpg\n",
            "/content/drive/My Drive/gravcont/grav/6147.jpg\n",
            "/content/drive/My Drive/gravcont/grav/4008.jpg\n",
            "/content/drive/My Drive/gravcont/grav/6965.jpg\n",
            "/content/drive/My Drive/gravcont/grav/5890.jpg\n",
            "/content/drive/My Drive/gravcont/grav/4713.jpg\n",
            "/content/drive/My Drive/gravcont/grav/4805.jpg\n",
            "/content/drive/My Drive/gravcont/grav/466.jpg\n",
            "/content/drive/My Drive/gravcont/grav/6106.jpg\n",
            "/content/drive/My Drive/gravcont/grav/3600.jpg\n",
            "/content/drive/My Drive/gravcont/grav/4332.jpg\n",
            "/content/drive/My Drive/gravcont/grav/2630.jpg\n",
            "/content/drive/My Drive/gravcont/grav/7936.jpg\n",
            "/content/drive/My Drive/gravcont/grav/5820.jpg\n",
            "/content/drive/My Drive/gravcont/grav/6150.jpg\n",
            "/content/drive/My Drive/gravcont/grav/1931.jpg\n",
            "/content/drive/My Drive/gravcont/grav/1385.jpg\n",
            "/content/drive/My Drive/gravcont/grav/5260.jpg\n",
            "/content/drive/My Drive/gravcont/grav/5550.jpg\n",
            "/content/drive/My Drive/gravcont/grav/2231.jpg\n",
            "/content/drive/My Drive/gravcont/grav/374.jpg\n",
            "/content/drive/My Drive/gravcont/grav/3164.jpg\n",
            "/content/drive/My Drive/gravcont/grav/3162.jpg\n",
            "/content/drive/My Drive/gravcont/grav/4206.jpg\n",
            "/content/drive/My Drive/gravcont/grav/3748.jpg\n",
            "/content/drive/My Drive/gravcont/grav/1453.jpg\n",
            "/content/drive/My Drive/gravcont/grav/1438.jpg\n",
            "/content/drive/My Drive/gravcont/grav/4272.jpg\n",
            "/content/drive/My Drive/gravcont/grav/6555.jpg\n",
            "/content/drive/My Drive/gravcont/grav/893.jpg\n",
            "/content/drive/My Drive/gravcont/grav/7765.jpg\n",
            "/content/drive/My Drive/gravcont/grav/7049.jpg\n",
            "/content/drive/My Drive/gravcont/grav/1270.jpg\n",
            "/content/drive/My Drive/gravcont/grav/3802.jpg\n",
            "/content/drive/My Drive/gravcont/grav/1682.jpg\n",
            "/content/drive/My Drive/gravcont/grav/1020.jpg\n",
            "/content/drive/My Drive/gravcont/grav/465.jpg\n",
            "/content/drive/My Drive/gravcont/grav/4331.jpg\n",
            "/content/drive/My Drive/gravcont/grav/6764.jpg\n",
            "/content/drive/My Drive/gravcont/grav/4030.jpg\n",
            "/content/drive/My Drive/gravcont/grav/3444.jpg\n",
            "/content/drive/My Drive/gravcont/grav/180.jpg\n",
            "/content/drive/My Drive/gravcont/grav/8198.jpg\n",
            "/content/drive/My Drive/gravcont/grav/6806.jpg\n",
            "/content/drive/My Drive/gravcont/grav/2148.jpg\n",
            "/content/drive/My Drive/gravcont/grav/2668.jpg\n",
            "/content/drive/My Drive/gravcont/grav/3918.jpg\n",
            "/content/drive/My Drive/gravcont/grav/2709.jpg\n",
            "/content/drive/My Drive/gravcont/grav/1396.jpg\n",
            "/content/drive/My Drive/gravcont/grav/7291.jpg\n",
            "/content/drive/My Drive/gravcont/grav/3568.jpg\n",
            "/content/drive/My Drive/gravcont/grav/6662.jpg\n",
            "/content/drive/My Drive/gravcont/grav/876.jpg\n",
            "/content/drive/My Drive/gravcont/grav/3484.jpg\n",
            "/content/drive/My Drive/gravcont/grav/3128.jpg\n",
            "/content/drive/My Drive/gravcont/grav/2803.jpg\n",
            "/content/drive/My Drive/gravcont/grav/5768.jpg\n",
            "/content/drive/My Drive/gravcont/grav/7295.jpg\n",
            "/content/drive/My Drive/gravcont/grav/5397.jpg\n",
            "/content/drive/My Drive/gravcont/grav/6989.jpg\n",
            "/content/drive/My Drive/gravcont/grav/718.jpg\n",
            "/content/drive/My Drive/gravcont/grav/5125.jpg\n",
            "/content/drive/My Drive/gravcont/grav/7709.jpg\n",
            "/content/drive/My Drive/gravcont/grav/5333.jpg\n",
            "/content/drive/My Drive/gravcont/grav/3684.jpg\n",
            "/content/drive/My Drive/gravcont/grav/6478.jpg\n",
            "/content/drive/My Drive/gravcont/grav/2321.jpg\n",
            "/content/drive/My Drive/gravcont/grav/4069.jpg\n",
            "/content/drive/My Drive/gravcont/grav/2664.jpg\n",
            "/content/drive/My Drive/gravcont/grav/3472.jpg\n",
            "/content/drive/My Drive/gravcont/grav/4958.jpg\n",
            "/content/drive/My Drive/gravcont/grav/1524.jpg\n",
            "/content/drive/My Drive/gravcont/grav/7798.jpg\n",
            "/content/drive/My Drive/gravcont/grav/6515.jpg\n",
            "/content/drive/My Drive/gravcont/grav/7349.jpg\n",
            "/content/drive/My Drive/gravcont/grav/7041.jpg\n",
            "/content/drive/My Drive/gravcont/grav/1037.jpg\n",
            "/content/drive/My Drive/gravcont/grav/3809.jpg\n",
            "/content/drive/My Drive/gravcont/grav/611.jpg\n",
            "/content/drive/My Drive/gravcont/grav/4822.jpg\n",
            "/content/drive/My Drive/gravcont/grav/129.jpg\n",
            "/content/drive/My Drive/gravcont/grav/7867.jpg\n"
          ],
          "name": "stdout"
        }
      ]
    }
  ]
}