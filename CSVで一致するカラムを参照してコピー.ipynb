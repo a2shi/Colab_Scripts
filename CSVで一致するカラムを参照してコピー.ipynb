{
  "nbformat": 4,
  "nbformat_minor": 0,
  "metadata": {
    "colab": {
      "name": "Untitled63.ipynb",
      "provenance": [],
      "toc_visible": true,
      "authorship_tag": "ABX9TyPeSX+xwYS0PL/+FFWH8+4V",
      "include_colab_link": true
    },
    "kernelspec": {
      "name": "python3",
      "display_name": "Python 3"
    }
  },
  "cells": [
    {
      "cell_type": "markdown",
      "metadata": {
        "id": "view-in-github",
        "colab_type": "text"
      },
      "source": [
        "<a href=\"https://colab.research.google.com/github/ykitaguchi77/Colab_Scripts/blob/master/CSV%E3%81%A7%E4%B8%80%E8%87%B4%E3%81%99%E3%82%8B%E3%82%AB%E3%83%A9%E3%83%A0%E3%82%92%E5%8F%82%E7%85%A7%E3%81%97%E3%81%A6%E3%82%B3%E3%83%94%E3%83%BC.ipynb\" target=\"_parent\"><img src=\"https://colab.research.google.com/assets/colab-badge.svg\" alt=\"Open In Colab\"/></a>"
      ]
    },
    {
      "cell_type": "code",
      "metadata": {
        "id": "98xd9oXBglXT",
        "colab_type": "code",
        "colab": {}
      },
      "source": [
        "#google driveをcolabolatoryにマウント\n",
        "from google.colab import drive\n",
        "drive.mount('/content/drive')"
      ],
      "execution_count": null,
      "outputs": []
    },
    {
      "cell_type": "code",
      "metadata": {
        "id": "2WKArVad3Coj",
        "colab_type": "code",
        "colab": {
          "base_uri": "https://localhost:8080/",
          "height": 493
        },
        "outputId": "ef48f959-f88f-418c-f879-76ca5a2dd662"
      },
      "source": [
        "import pandas as p\n",
        "\n",
        "def openCSV(csv_path):\n",
        "    df = pd.read_csv(csv_path)\n",
        "    df = df.drop(df.columns[[0]], axis=1) #1列目を削除する\n",
        "    print(df)\n",
        "    return df\n",
        "\n",
        "#CSVを開く(csv1:編集するファイル、csv2:引用するファイル)\n",
        "csv1_path = '/content/drive/My Drive/Grav_bootcamp/Posttrain_eval.csv'\n",
        "csv2_path = '/content/drive/My Drive/Hum_eval.csv'\n",
        "\n",
        "df1, df2 = openCSV(csv1_path), openCSV(csv2_path) #CSVを開く"
      ],
      "execution_count": null,
      "outputs": [
        {
          "output_type": "stream",
          "text": [
            "     image_name Label Nakagawa  Kitaguchi  Inoue  Kohzaki  EfficientNet\n",
            "0            17  grav     grav        NaN    NaN      NaN           NaN\n",
            "1           118  cont     cont        NaN    NaN      NaN           NaN\n",
            "2           129  grav     grav        NaN    NaN      NaN           NaN\n",
            "3           214  cont     cont        NaN    NaN      NaN           NaN\n",
            "4           364  cont     cont        NaN    NaN      NaN           NaN\n",
            "..          ...   ...      ...        ...    ...      ...           ...\n",
            "97         7487  cont     cont        NaN    NaN      NaN           NaN\n",
            "98         7583  cont     grav        NaN    NaN      NaN           NaN\n",
            "99         7709  grav     grav        NaN    NaN      NaN           NaN\n",
            "100        7874  grav     grav        NaN    NaN      NaN           NaN\n",
            "101        8040  cont     cont        NaN    NaN      NaN           NaN\n",
            "\n",
            "[102 rows x 7 columns]\n",
            "     image_name Label Inoue kohzaki  morimoto kitaguchi  kawasaki\n",
            "0            17  grav  grav    grav       NaN      grav       NaN\n",
            "1            19  grav  cont    cont       NaN      grav       NaN\n",
            "2            57  grav  grav    grav       NaN      grav       NaN\n",
            "3            66  cont  cont    cont       NaN      cont       NaN\n",
            "4            85  cont  cont    cont       NaN      cont       NaN\n",
            "..          ...   ...   ...     ...       ...       ...       ...\n",
            "661        8149  cont  cont    cont       NaN      cont       NaN\n",
            "662        8168  grav  grav    grav       NaN      grav       NaN\n",
            "663        8184  grav  cont    grav       NaN      grav       NaN\n",
            "664        8198  grav  grav    grav       NaN      grav       NaN\n",
            "665        8210  cont  cont    cont       NaN      cont       NaN\n",
            "\n",
            "[666 rows x 7 columns]\n"
          ],
          "name": "stdout"
        }
      ]
    },
    {
      "cell_type": "code",
      "metadata": {
        "id": "WMzNM2Ptgah8",
        "colab_type": "code",
        "colab": {
          "base_uri": "https://localhost:8080/",
          "height": 290
        },
        "outputId": "5a640cff-d229-4fbe-81b1-2f1d007d044b"
      },
      "source": [
        "def transpose_value(df1, df2, col1, col2):\n",
        "    k=0\n",
        "    for i in range(len(df)):\n",
        "        img_num = df1.iloc[k,0]  #CSV1つ目の画像番号を取得\n",
        "        pred = df2[df2['image_name'] == img_num].iloc[0,col2]   #この画像番号に対応する２つ目CSVの行（の●列目）の値を取得\n",
        "        df1.iloc[k, col1] = pred #CSV1つ目の所定の場所に代入\n",
        "        k+=1\n",
        "    return df1\n",
        "\n",
        "#1つ目CSVと2つ目CSVとの列対応を入力\n",
        "col1, col2 = 3, 5 #kitaguchi\n",
        "df1 = transpose_value(df1, df2, col1, col2)\n",
        "col1, col2 = 4, 2 #inoue\n",
        "df1 = transpose_value(df1, df2, col1, col2)\n",
        "col1, col2 = 5, 3 #kohzaki\n",
        "df1 = transpose_value(df1, df2, col1, col2)\n",
        "\n",
        "print(df1)\n",
        "\n",
        "\n"
      ],
      "execution_count": null,
      "outputs": [
        {
          "output_type": "stream",
          "text": [
            "     image_name Label Nakagawa Kitaguchi Inoue Kohzaki  EfficientNet\n",
            "0            17  grav     grav      grav  grav    grav           NaN\n",
            "1           118  cont     cont      cont  cont    cont           NaN\n",
            "2           129  grav     grav      grav  cont    grav           NaN\n",
            "3           214  cont     cont      cont  cont    grav           NaN\n",
            "4           364  cont     cont      cont  cont    cont           NaN\n",
            "..          ...   ...      ...       ...   ...     ...           ...\n",
            "97         7487  cont     cont      cont  cont    grav           NaN\n",
            "98         7583  cont     grav      cont  cont    cont           NaN\n",
            "99         7709  grav     grav      grav  grav    grav           NaN\n",
            "100        7874  grav     grav      grav  grav    grav           NaN\n",
            "101        8040  cont     cont      grav  cont    cont           NaN\n",
            "\n",
            "[102 rows x 7 columns]\n"
          ],
          "name": "stdout"
        },
        {
          "output_type": "execute_result",
          "data": {
            "application/vnd.google.colaboratory.intrinsic+json": {
              "type": "string"
            },
            "text/plain": [
              "\"\\nname = df.iloc[:,0]\\nprint(name)\\nname = name.values.tolist()\\nprint(name)\\n\\nfor i in name:\\n    df[df['image_name'] == i].iloc[0,3] = df2[df2['image_name'] == i].iloc[0,5]\\nprint(df)\\n\""
            ]
          },
          "metadata": {
            "tags": []
          },
          "execution_count": 65
        }
      ]
    },
    {
      "cell_type": "markdown",
      "metadata": {
        "id": "cNIlta32-tvY",
        "colab_type": "text"
      },
      "source": [
        "#**CSVとして保存**"
      ]
    },
    {
      "cell_type": "code",
      "metadata": {
        "id": "LWTILIBW33_n",
        "colab_type": "code",
        "colab": {}
      },
      "source": [
        "csv_path = '/content/drive/My Drive/Grav_bootcamp/Posttrain_result.csv'\n",
        "csv = df1.to_csv(csv_path)\n"
      ],
      "execution_count": null,
      "outputs": []
    }
  ]
}