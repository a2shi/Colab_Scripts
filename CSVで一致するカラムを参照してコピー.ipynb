{
  "nbformat": 4,
  "nbformat_minor": 0,
  "metadata": {
    "colab": {
      "name": "Untitled63.ipynb",
      "provenance": [],
      "authorship_tag": "ABX9TyOJga59XeOpDzXhO7XinNrE",
      "include_colab_link": true
    },
    "kernelspec": {
      "name": "python3",
      "display_name": "Python 3"
    }
  },
  "cells": [
    {
      "cell_type": "markdown",
      "metadata": {
        "id": "view-in-github",
        "colab_type": "text"
      },
      "source": [
        "<a href=\"https://colab.research.google.com/github/ykitaguchi77/Colab_Scripts/blob/master/CSV%E3%81%A7%E4%B8%80%E8%87%B4%E3%81%99%E3%82%8B%E3%82%AB%E3%83%A9%E3%83%A0%E3%82%92%E5%8F%82%E7%85%A7%E3%81%97%E3%81%A6%E3%82%B3%E3%83%94%E3%83%BC.ipynb\" target=\"_parent\"><img src=\"https://colab.research.google.com/assets/colab-badge.svg\" alt=\"Open In Colab\"/></a>"
      ]
    },
    {
      "cell_type": "code",
      "metadata": {
        "id": "98xd9oXBglXT",
        "colab_type": "code",
        "colab": {
          "base_uri": "https://localhost:8080/",
          "height": 128
        },
        "outputId": "9e44b3fe-3463-4711-f41b-317ea2ffea8b"
      },
      "source": [
        "#google driveをcolabolatoryにマウント\n",
        "from google.colab import drive\n",
        "drive.mount('/content/drive')"
      ],
      "execution_count": 1,
      "outputs": [
        {
          "output_type": "stream",
          "text": [
            "Go to this URL in a browser: https://accounts.google.com/o/oauth2/auth?client_id=947318989803-6bn6qk8qdgf4n4g3pfee6491hc0brc4i.apps.googleusercontent.com&redirect_uri=urn%3aietf%3awg%3aoauth%3a2.0%3aoob&scope=email%20https%3a%2f%2fwww.googleapis.com%2fauth%2fdocs.test%20https%3a%2f%2fwww.googleapis.com%2fauth%2fdrive%20https%3a%2f%2fwww.googleapis.com%2fauth%2fdrive.photos.readonly%20https%3a%2f%2fwww.googleapis.com%2fauth%2fpeopleapi.readonly&response_type=code\n",
            "\n",
            "Enter your authorization code:\n",
            "··········\n",
            "Mounted at /content/drive\n"
          ],
          "name": "stdout"
        }
      ]
    },
    {
      "cell_type": "code",
      "metadata": {
        "id": "WMzNM2Ptgah8",
        "colab_type": "code",
        "colab": {
          "base_uri": "https://localhost:8080/",
          "height": 1000
        },
        "outputId": "80fc776a-9d8a-4d8b-bd74-237b8ae21374"
      },
      "source": [
        "import pandas as pd\n",
        "import numexpr\n",
        "\n",
        "df = pd.read_csv('/content/drive/My Drive/Grav_bootcamp/Posttrain_eval.csv')\n",
        "df = df.drop(df.columns[[0]], axis=1) #1列目を削除する\n",
        "print(df)\n",
        "\n",
        "df2 = pd.read_csv('/content/drive/My Drive/Hum_eval.csv')\n",
        "df2 = df2.drop(df2.columns[[0]], axis=1) #1列目を削除する\n",
        "print(df2)\n",
        "\n",
        "\n",
        "name = df.iloc[:,0]\n",
        "print(name)\n",
        "name = name.values.tolist()\n",
        "print(name)\n",
        "\n",
        "for i in name:\n",
        "    df[df['image_name'] == i].iloc[0,3] = df2[df2['image_name'] == i].iloc[0,5]\n",
        "print(df)\n",
        "\n",
        "\n",
        "\n",
        "\n"
      ],
      "execution_count": 58,
      "outputs": [
        {
          "output_type": "stream",
          "text": [
            "     image_name Label Nakagawa  Kitaguchi  Inoue  Kohzaki  EfficientNet\n",
            "0            17  grav     grav        NaN    NaN      NaN           NaN\n",
            "1           118  cont     cont        NaN    NaN      NaN           NaN\n",
            "2           129  grav     grav        NaN    NaN      NaN           NaN\n",
            "3           214  cont     cont        NaN    NaN      NaN           NaN\n",
            "4           364  cont     cont        NaN    NaN      NaN           NaN\n",
            "..          ...   ...      ...        ...    ...      ...           ...\n",
            "97         7487  cont     cont        NaN    NaN      NaN           NaN\n",
            "98         7583  cont     grav        NaN    NaN      NaN           NaN\n",
            "99         7709  grav     grav        NaN    NaN      NaN           NaN\n",
            "100        7874  grav     grav        NaN    NaN      NaN           NaN\n",
            "101        8040  cont     cont        NaN    NaN      NaN           NaN\n",
            "\n",
            "[102 rows x 7 columns]\n",
            "     image_name Label Inoue kohzaki  morimoto kitaguchi  kawasaki\n",
            "0            17  grav  grav    grav       NaN      grav       NaN\n",
            "1            19  grav  cont    cont       NaN      grav       NaN\n",
            "2            57  grav  grav    grav       NaN      grav       NaN\n",
            "3            66  cont  cont    cont       NaN      cont       NaN\n",
            "4            85  cont  cont    cont       NaN      cont       NaN\n",
            "..          ...   ...   ...     ...       ...       ...       ...\n",
            "661        8149  cont  cont    cont       NaN      cont       NaN\n",
            "662        8168  grav  grav    grav       NaN      grav       NaN\n",
            "663        8184  grav  cont    grav       NaN      grav       NaN\n",
            "664        8198  grav  grav    grav       NaN      grav       NaN\n",
            "665        8210  cont  cont    cont       NaN      cont       NaN\n",
            "\n",
            "[666 rows x 7 columns]\n",
            "0        17\n",
            "1       118\n",
            "2       129\n",
            "3       214\n",
            "4       364\n",
            "       ... \n",
            "97     7487\n",
            "98     7583\n",
            "99     7709\n",
            "100    7874\n",
            "101    8040\n",
            "Name: image_name, Length: 102, dtype: int64\n",
            "[17, 118, 129, 214, 364, 385, 465, 466, 469, 555, 562, 611, 724, 1126, 1231, 1322, 1360, 1413, 1451, 1468, 1601, 1764, 1768, 1976, 1995, 2083, 2182, 2377, 2414, 2623, 2668, 2684, 2726, 2851, 2880, 2885, 3003, 3039, 3771, 3980, 4008, 4125, 4204, 4206, 4273, 4299, 4485, 4488, 4528, 4616, 4641, 4652, 4710, 4786, 4813, 4835, 4881, 4904, 4949, 4958, 5021, 5069, 5099, 5113, 5125, 5177, 5183, 5197, 5237, 5260, 5269, 5281, 5335, 5378, 5523, 5546, 5647, 5681, 5758, 6003, 6106, 6148, 6160, 6237, 6252, 6264, 6283, 6361, 6366, 6513, 6579, 6693, 6879, 7104, 7283, 7302, 7400, 7487, 7583, 7709, 7874, 8040]\n"
          ],
          "name": "stdout"
        },
        {
          "output_type": "stream",
          "text": [
            "/usr/local/lib/python3.6/dist-packages/pandas/core/indexing.py:966: SettingWithCopyWarning: \n",
            "A value is trying to be set on a copy of a slice from a DataFrame.\n",
            "Try using .loc[row_indexer,col_indexer] = value instead\n",
            "\n",
            "See the caveats in the documentation: https://pandas.pydata.org/pandas-docs/stable/user_guide/indexing.html#returning-a-view-versus-a-copy\n",
            "  self.obj[item] = s\n"
          ],
          "name": "stderr"
        },
        {
          "output_type": "stream",
          "text": [
            "     image_name Label Nakagawa  Kitaguchi  Inoue  Kohzaki  EfficientNet\n",
            "0            17  grav     grav        NaN    NaN      NaN           NaN\n",
            "1           118  cont     cont        NaN    NaN      NaN           NaN\n",
            "2           129  grav     grav        NaN    NaN      NaN           NaN\n",
            "3           214  cont     cont        NaN    NaN      NaN           NaN\n",
            "4           364  cont     cont        NaN    NaN      NaN           NaN\n",
            "..          ...   ...      ...        ...    ...      ...           ...\n",
            "97         7487  cont     cont        NaN    NaN      NaN           NaN\n",
            "98         7583  cont     grav        NaN    NaN      NaN           NaN\n",
            "99         7709  grav     grav        NaN    NaN      NaN           NaN\n",
            "100        7874  grav     grav        NaN    NaN      NaN           NaN\n",
            "101        8040  cont     cont        NaN    NaN      NaN           NaN\n",
            "\n",
            "[102 rows x 7 columns]\n"
          ],
          "name": "stdout"
        }
      ]
    }
  ]
}